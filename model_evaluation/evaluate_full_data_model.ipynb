{
 "cells": [
  {
   "cell_type": "code",
   "execution_count": null,
   "metadata": {},
   "outputs": [],
   "source": [
    "import pandas as pd\n",
    "import numpy as np\n",
    "import matplotlib.pyplot as plt\n",
    "\n",
    "import model_evaluation_functions"
   ]
  },
  {
   "cell_type": "code",
   "execution_count": null,
   "metadata": {},
   "outputs": [],
   "source": [
    "%load_ext autoreload\n",
    "%autoreload 2"
   ]
  },
  {
   "cell_type": "markdown",
   "metadata": {},
   "source": [
    "# Load and clean prediciton data"
   ]
  },
  {
   "cell_type": "code",
   "execution_count": null,
   "metadata": {},
   "outputs": [],
   "source": [
    "df_ground_truth = pd.read_csv('../annotations/ground_truth_boat_frames_coco.csv', index_col=0, sep=';')\n",
    "df_yolo_predictions = pd.read_csv('../annotations/yolov8x_full_data_train_labels.csv', index_col=0, sep=';')\n",
    "\n",
    "df_ground_truth['datetime'] = pd.to_datetime(df_ground_truth.datetime)\n",
    "df_ground_truth['date'] = pd.to_datetime(df_ground_truth.datetime.dt.date, format='%Y-%m-%d')\n",
    "df_yolo_predictions['datetime'] = pd.to_datetime(df_yolo_predictions['datetime'])\n",
    "df_yolo_predictions['date'] = pd.to_datetime(df_yolo_predictions.datetime.dt.date, format='%Y-%m-%d')\n",
    "\n",
    "df_ground_truth = df_ground_truth[df_ground_truth.date.isin(df_yolo_predictions.date.unique())]\n",
    "\n",
    "print('shape of loaded data', df_ground_truth.shape, df_yolo_predictions.shape)\n",
    "print('Ground truth data:')\n",
    "print(df_ground_truth.groupby(['date', 'camera_id']).datetime.count())\n",
    "print('YOLO predictions data:')\n",
    "print(df_yolo_predictions.groupby(['date', 'camera_id']).datetime.count())\n",
    "\n",
    "# # crop bounding boxes from right side of camera 2 field of view\n",
    "# df_yolo_predictions.drop(index=df_yolo_predictions[(df_yolo_predictions.camera_id == 2) & (df_yolo_predictions.x > 1800)].index, inplace=True)\n",
    "# df_ground_truth.drop(index=df_ground_truth[(df_ground_truth.camera_id == 2) & (df_ground_truth.x > 1800)].index, inplace=True)\n",
    "\n",
    "df_ground_truth.set_index('filename', inplace=True)\n",
    "df_yolo_predictions.set_index('filename', inplace=True)\n",
    "\n",
    "df_ground_truth.shape, df_yolo_predictions.shape"
   ]
  },
  {
   "cell_type": "code",
   "execution_count": null,
   "metadata": {},
   "outputs": [],
   "source": [
    "# transform coords to xmin, ymin, xmax, ymax\n",
    "df_ground_truth['xmin'] = (df_ground_truth['x'] - df_ground_truth['w']/2).astype(int)\n",
    "df_ground_truth['ymin'] = (df_ground_truth['y'] - df_ground_truth['h']/2).astype(int)\n",
    "df_ground_truth['xmax'] = (df_ground_truth['x'] + df_ground_truth['w']/2).astype(int)\n",
    "df_ground_truth['ymax'] = (df_ground_truth['y'] + df_ground_truth['h']/2).astype(int)\n",
    "df_yolo_predictions['xmin'] = (df_yolo_predictions['x'] - df_yolo_predictions['w']/2).astype(int)\n",
    "df_yolo_predictions['ymin'] = (df_yolo_predictions['y'] - df_yolo_predictions['h']/2).astype(int)\n",
    "df_yolo_predictions['xmax'] = (df_yolo_predictions['x'] + df_yolo_predictions['w']/2).astype(int)\n",
    "df_yolo_predictions['ymax'] = (df_yolo_predictions['y'] + df_yolo_predictions['h']/2).astype(int)"
   ]
  },
  {
   "cell_type": "code",
   "execution_count": null,
   "metadata": {},
   "outputs": [],
   "source": [
    "# filter out predicitons in the bank on camera 1; use a line to define the bank in the camera 1 field of view\n",
    "point1_cam01_bank = (489, 591)\n",
    "point2_cam01_bank = (1499, 875)\n",
    "slope_cam01_bank = (point2_cam01_bank[1] - point1_cam01_bank[1]) / (point2_cam01_bank[0] - point1_cam01_bank[0])\n",
    "intercept_cam01_bank = point1_cam01_bank[1] - slope_cam01_bank * point1_cam01_bank[0]\n",
    "\n",
    "def under_the_bank_apply(row):\n",
    "    if row.camera_id == 1 and row.x >= point1_cam01_bank[0] and row.x <= point2_cam01_bank[0]:\n",
    "        if row.y > (slope_cam01_bank * row.x + intercept_cam01_bank):\n",
    "            return True        \n",
    "    return False\n",
    "        \n",
    "df_yolo_predictions['under_the_bank'] = df_yolo_predictions.apply(under_the_bank_apply, axis=1)\n",
    "print('How many prediction were under the bank?')\n",
    "print(df_yolo_predictions['under_the_bank'].value_counts())\n",
    "df_yolo_predictions = df_yolo_predictions[df_yolo_predictions.under_the_bank == False].copy()\n",
    "print('YOLO predictions filtered data:')\n",
    "print(df_yolo_predictions.groupby(['date', 'camera_id']).datetime.count())"
   ]
  },
  {
   "cell_type": "markdown",
   "metadata": {},
   "source": [
    "# Evaluation of precision and recall for detected frame_ids"
   ]
  },
  {
   "cell_type": "code",
   "execution_count": null,
   "metadata": {},
   "outputs": [],
   "source": [
    "df_evaluation, total_evaluation_dict = model_evaluation_functions.evaluate_model_frame_ids_score(df_ground_truth, df_yolo_predictions)\n",
    "total_evaluation_dict"
   ]
  },
  {
   "cell_type": "code",
   "execution_count": null,
   "metadata": {},
   "outputs": [],
   "source": [
    "# df_evaluation.to_csv('data_evaluation_full_data.csv', sep=';')"
   ]
  },
  {
   "cell_type": "code",
   "execution_count": null,
   "metadata": {},
   "outputs": [],
   "source": [
    "model_evaluation_functions.evaluate_mAP(df_ground_truth, df_yolo_predictions)"
   ]
  },
  {
   "cell_type": "markdown",
   "metadata": {},
   "source": [
    "## Use validation part of data and only a filter images with known ground truth"
   ]
  },
  {
   "cell_type": "code",
   "execution_count": null,
   "metadata": {},
   "outputs": [],
   "source": [
    "df_ground_truth_filtered = df_ground_truth[(df_ground_truth.date == '2023-07-07') | (df_ground_truth.date == '2023-07-08')].reset_index().set_index(['filename', 'frame_id'])\n",
    "df_yolo_predictions_filtered = df_yolo_predictions.reset_index().set_index(['filename', 'frame_id'])\n",
    "df_yolo_predictions_filtered = df_yolo_predictions_filtered.loc[df_ground_truth_filtered.index.intersection(df_yolo_predictions_filtered.index)]\n",
    "df_ground_truth_filtered.shape, df_yolo_predictions_filtered.shape"
   ]
  },
  {
   "cell_type": "code",
   "execution_count": null,
   "metadata": {},
   "outputs": [],
   "source": [
    "df_ground_truth_filtered = df_ground_truth_filtered.reset_index().set_index('filename')\n",
    "df_yolo_predictions_filtered = df_yolo_predictions_filtered.reset_index().set_index('filename')\n",
    "df_evaluation, total_evaluation_dict = model_evaluation_functions.evaluate_model_frame_ids_score(df_ground_truth_filtered, df_yolo_predictions_filtered)\n",
    "total_evaluation_dict"
   ]
  },
  {
   "cell_type": "code",
   "execution_count": null,
   "metadata": {},
   "outputs": [],
   "source": [
    "model_evaluation_functions.evaluate_mAP(df_ground_truth_filtered, df_yolo_predictions_filtered)"
   ]
  },
  {
   "cell_type": "markdown",
   "metadata": {},
   "source": [
    "# Confidence values evaluation"
   ]
  },
  {
   "cell_type": "code",
   "execution_count": null,
   "metadata": {},
   "outputs": [],
   "source": [
    "confidence_threshold_evaluation_dict = dict()\n",
    "for confidence_threshold in [0.25, 0.5, 0.75, 0.9]:\n",
    "    print('Confidence threshold', confidence_threshold)\n",
    "    df_evaluation, total_evaluation_dict = model_evaluation_functions.evaluate_model_frame_ids_score(df_ground_truth, df_yolo_predictions[df_yolo_predictions.confidence >= confidence_threshold])    \n",
    "    print(total_evaluation_dict)\n",
    "    # df_evaluation.to_csv(f'data_evaluation_conf{confidence_threshold}.csv', sep=';')\n",
    "    confidence_threshold_evaluation_dict[confidence_threshold] = total_evaluation_dict"
   ]
  },
  {
   "cell_type": "code",
   "execution_count": null,
   "metadata": {},
   "outputs": [],
   "source": [
    "plt.plot(confidence_threshold_evaluation_dict.keys(), [total_evaluation_dict['recall'] for total_evaluation_dict in confidence_threshold_evaluation_dict.values()], 'x-')\n",
    "plt.xlabel('Confidence threshold')\n",
    "plt.ylabel('Recall')"
   ]
  },
  {
   "cell_type": "code",
   "execution_count": null,
   "metadata": {},
   "outputs": [],
   "source": [
    "plt.plot(confidence_threshold_evaluation_dict.keys(), [total_evaluation_dict['f1'] for total_evaluation_dict in confidence_threshold_evaluation_dict.values()], 'x-')\n",
    "plt.xlabel('Confidence threshold')\n",
    "plt.ylabel('F1')"
   ]
  },
  {
   "cell_type": "code",
   "execution_count": null,
   "metadata": {},
   "outputs": [],
   "source": [
    "plt.plot([total_evaluation_dict['recall'] for total_evaluation_dict in confidence_threshold_evaluation_dict.values()], [total_evaluation_dict['precision'] for total_evaluation_dict in confidence_threshold_evaluation_dict.values()], 'x-')\n",
    "plt.xlabel('Recall')\n",
    "plt.ylabel('Precision')"
   ]
  },
  {
   "cell_type": "code",
   "execution_count": null,
   "metadata": {},
   "outputs": [],
   "source": [
    "plt.plot(confidence_threshold_evaluation_dict.keys(), [total_evaluation_dict['iou'] for total_evaluation_dict in confidence_threshold_evaluation_dict.values()], 'x-')\n",
    "plt.xlabel('Confidence threshold')\n",
    "plt.ylabel('IOU')"
   ]
  }
 ],
 "metadata": {
  "kernelspec": {
   "display_name": "Python 3 (ipykernel)",
   "language": "python",
   "name": "python3"
  },
  "language_info": {
   "codemirror_mode": {
    "name": "ipython",
    "version": 3
   },
   "file_extension": ".py",
   "mimetype": "text/x-python",
   "name": "python",
   "nbconvert_exporter": "python",
   "pygments_lexer": "ipython3",
   "version": "3.11.0rc1"
  }
 },
 "nbformat": 4,
 "nbformat_minor": 4
}
