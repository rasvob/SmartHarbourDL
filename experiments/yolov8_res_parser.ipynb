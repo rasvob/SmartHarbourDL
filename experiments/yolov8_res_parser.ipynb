{
 "cells": [
  {
   "cell_type": "code",
   "execution_count": 77,
   "id": "695fd25e-7e0f-47f4-8cc7-2d2879a91be3",
   "metadata": {},
   "outputs": [],
   "source": [
    "import pandas as pd\n",
    "import numpy as np\n",
    "from glob import glob\n",
    "from tqdm.notebook import tqdm, trange\n",
    "import os\n",
    "import datetime"
   ]
  },
  {
   "cell_type": "code",
   "execution_count": 134,
   "id": "e2a14f60-f52a-46fa-8319-659b7884785a",
   "metadata": {},
   "outputs": [],
   "source": [
    "W, H = 1920, 1080"
   ]
  },
  {
   "cell_type": "code",
   "execution_count": 125,
   "id": "8e0cf188-243e-467e-a3bb-3e7f46921e45",
   "metadata": {},
   "outputs": [],
   "source": [
    "files = glob('../runs/detect/predict*/labels/*')"
   ]
  },
  {
   "cell_type": "code",
   "execution_count": 126,
   "id": "a9bd9eda-e4b6-47fc-9873-e51550ed2127",
   "metadata": {},
   "outputs": [
    {
     "data": {
      "text/plain": [
       "662844"
      ]
     },
     "execution_count": 126,
     "metadata": {},
     "output_type": "execute_result"
    }
   ],
   "source": [
    "len(files)"
   ]
  },
  {
   "cell_type": "code",
   "execution_count": 127,
   "id": "40627fa1-9693-4a9d-a4d3-5358606e1ed5",
   "metadata": {},
   "outputs": [],
   "source": [
    "files = [x for x in files if 'predict5' not in x and 'predict6' not in x]"
   ]
  },
  {
   "cell_type": "code",
   "execution_count": 128,
   "id": "6b8637fe-711c-4433-9ad9-630a99fff61f",
   "metadata": {},
   "outputs": [
    {
     "data": {
      "text/plain": [
       "662798"
      ]
     },
     "execution_count": 128,
     "metadata": {},
     "output_type": "execute_result"
    }
   ],
   "source": [
    "len(files)"
   ]
  },
  {
   "cell_type": "code",
   "execution_count": 129,
   "id": "59283cc1-bccf-48f9-b522-86aa5170281c",
   "metadata": {
    "scrolled": true
   },
   "outputs": [
    {
     "data": {
      "text/plain": [
       "['../runs/detect/predict/labels/cfg_raw_cam_01_fhd_h265_20230609T000003_1.txt',\n",
       " '../runs/detect/predict/labels/cfg_raw_cam_01_fhd_h265_20230609T000003_2.txt',\n",
       " '../runs/detect/predict/labels/cfg_raw_cam_01_fhd_h265_20230609T000003_3.txt',\n",
       " '../runs/detect/predict/labels/cfg_raw_cam_01_fhd_h265_20230609T000003_4.txt',\n",
       " '../runs/detect/predict/labels/cfg_raw_cam_01_fhd_h265_20230609T000003_5.txt']"
      ]
     },
     "execution_count": 129,
     "metadata": {},
     "output_type": "execute_result"
    }
   ],
   "source": [
    "files[:5]"
   ]
  },
  {
   "cell_type": "code",
   "execution_count": 137,
   "id": "aeefd0f8-50d1-4a30-bf45-a49a02941844",
   "metadata": {
    "scrolled": true
   },
   "outputs": [
    {
     "data": {
      "application/vnd.jupyter.widget-view+json": {
       "model_id": "d739f685081f4efdaad528722a1de4fd",
       "version_major": 2,
       "version_minor": 0
      },
      "text/plain": [
       "  0%|          | 0/662798 [00:00<?, ?it/s]"
      ]
     },
     "metadata": {},
     "output_type": "display_data"
    },
    {
     "data": {
      "text/html": [
       "<div>\n",
       "<style scoped>\n",
       "    .dataframe tbody tr th:only-of-type {\n",
       "        vertical-align: middle;\n",
       "    }\n",
       "\n",
       "    .dataframe tbody tr th {\n",
       "        vertical-align: top;\n",
       "    }\n",
       "\n",
       "    .dataframe thead th {\n",
       "        text-align: right;\n",
       "    }\n",
       "</style>\n",
       "<table border=\"1\" class=\"dataframe\">\n",
       "  <thead>\n",
       "    <tr style=\"text-align: right;\">\n",
       "      <th></th>\n",
       "      <th>filename</th>\n",
       "      <th>camera_id</th>\n",
       "      <th>datetime</th>\n",
       "      <th>frame_id</th>\n",
       "      <th>label_class</th>\n",
       "      <th>x</th>\n",
       "      <th>y</th>\n",
       "      <th>w</th>\n",
       "      <th>h</th>\n",
       "      <th>confidence</th>\n",
       "    </tr>\n",
       "  </thead>\n",
       "  <tbody>\n",
       "    <tr>\n",
       "      <th>0</th>\n",
       "      <td>cfg_raw_cam_01_fhd_h265_20230609T000003.mkv</td>\n",
       "      <td>01</td>\n",
       "      <td>2023-06-09 00:00:03</td>\n",
       "      <td>1</td>\n",
       "      <td>8</td>\n",
       "      <td>0.296998</td>\n",
       "      <td>0.765053</td>\n",
       "      <td>0.201359</td>\n",
       "      <td>0.196389</td>\n",
       "      <td>0.694145</td>\n",
       "    </tr>\n",
       "    <tr>\n",
       "      <th>1</th>\n",
       "      <td>cfg_raw_cam_01_fhd_h265_20230609T000003.mkv</td>\n",
       "      <td>01</td>\n",
       "      <td>2023-06-09 00:00:03</td>\n",
       "      <td>2</td>\n",
       "      <td>8</td>\n",
       "      <td>0.296892</td>\n",
       "      <td>0.764497</td>\n",
       "      <td>0.201743</td>\n",
       "      <td>0.197460</td>\n",
       "      <td>0.721214</td>\n",
       "    </tr>\n",
       "    <tr>\n",
       "      <th>2</th>\n",
       "      <td>cfg_raw_cam_01_fhd_h265_20230609T000003.mkv</td>\n",
       "      <td>01</td>\n",
       "      <td>2023-06-09 00:00:03</td>\n",
       "      <td>3</td>\n",
       "      <td>8</td>\n",
       "      <td>0.297045</td>\n",
       "      <td>0.765550</td>\n",
       "      <td>0.201709</td>\n",
       "      <td>0.194799</td>\n",
       "      <td>0.691033</td>\n",
       "    </tr>\n",
       "    <tr>\n",
       "      <th>3</th>\n",
       "      <td>cfg_raw_cam_01_fhd_h265_20230609T000003.mkv</td>\n",
       "      <td>01</td>\n",
       "      <td>2023-06-09 00:00:03</td>\n",
       "      <td>4</td>\n",
       "      <td>8</td>\n",
       "      <td>0.297082</td>\n",
       "      <td>0.765901</td>\n",
       "      <td>0.201874</td>\n",
       "      <td>0.194279</td>\n",
       "      <td>0.629399</td>\n",
       "    </tr>\n",
       "    <tr>\n",
       "      <th>4</th>\n",
       "      <td>cfg_raw_cam_01_fhd_h265_20230609T000003.mkv</td>\n",
       "      <td>01</td>\n",
       "      <td>2023-06-09 00:00:03</td>\n",
       "      <td>5</td>\n",
       "      <td>8</td>\n",
       "      <td>0.297110</td>\n",
       "      <td>0.764586</td>\n",
       "      <td>0.201582</td>\n",
       "      <td>0.196424</td>\n",
       "      <td>0.772130</td>\n",
       "    </tr>\n",
       "    <tr>\n",
       "      <th>...</th>\n",
       "      <td>...</td>\n",
       "      <td>...</td>\n",
       "      <td>...</td>\n",
       "      <td>...</td>\n",
       "      <td>...</td>\n",
       "      <td>...</td>\n",
       "      <td>...</td>\n",
       "      <td>...</td>\n",
       "      <td>...</td>\n",
       "      <td>...</td>\n",
       "    </tr>\n",
       "    <tr>\n",
       "      <th>826234</th>\n",
       "      <td>cfg_raw_cam_02_fhd_h265_20230707T214000.mkv</td>\n",
       "      <td>02</td>\n",
       "      <td>2023-07-07 21:40:00</td>\n",
       "      <td>2140</td>\n",
       "      <td>8</td>\n",
       "      <td>0.799422</td>\n",
       "      <td>0.761484</td>\n",
       "      <td>0.396978</td>\n",
       "      <td>0.458214</td>\n",
       "      <td>0.324898</td>\n",
       "    </tr>\n",
       "    <tr>\n",
       "      <th>826235</th>\n",
       "      <td>cfg_raw_cam_02_fhd_h265_20230707T214000.mkv</td>\n",
       "      <td>02</td>\n",
       "      <td>2023-07-07 21:40:00</td>\n",
       "      <td>2142</td>\n",
       "      <td>8</td>\n",
       "      <td>0.616754</td>\n",
       "      <td>0.554351</td>\n",
       "      <td>0.038852</td>\n",
       "      <td>0.052457</td>\n",
       "      <td>0.353814</td>\n",
       "    </tr>\n",
       "    <tr>\n",
       "      <th>826236</th>\n",
       "      <td>cfg_raw_cam_02_fhd_h265_20230707T214000.mkv</td>\n",
       "      <td>02</td>\n",
       "      <td>2023-07-07 21:40:00</td>\n",
       "      <td>2143</td>\n",
       "      <td>8</td>\n",
       "      <td>0.799920</td>\n",
       "      <td>0.761428</td>\n",
       "      <td>0.394584</td>\n",
       "      <td>0.459609</td>\n",
       "      <td>0.263392</td>\n",
       "    </tr>\n",
       "    <tr>\n",
       "      <th>826237</th>\n",
       "      <td>cfg_raw_cam_02_fhd_h265_20230707T214000.mkv</td>\n",
       "      <td>02</td>\n",
       "      <td>2023-07-07 21:40:00</td>\n",
       "      <td>2323</td>\n",
       "      <td>8</td>\n",
       "      <td>0.800212</td>\n",
       "      <td>0.761403</td>\n",
       "      <td>0.397113</td>\n",
       "      <td>0.458038</td>\n",
       "      <td>0.326050</td>\n",
       "    </tr>\n",
       "    <tr>\n",
       "      <th>826238</th>\n",
       "      <td>cfg_raw_cam_02_fhd_h265_20230707T214000.mkv</td>\n",
       "      <td>02</td>\n",
       "      <td>2023-07-07 21:40:00</td>\n",
       "      <td>2333</td>\n",
       "      <td>8</td>\n",
       "      <td>0.800534</td>\n",
       "      <td>0.762035</td>\n",
       "      <td>0.390486</td>\n",
       "      <td>0.456620</td>\n",
       "      <td>0.469898</td>\n",
       "    </tr>\n",
       "  </tbody>\n",
       "</table>\n",
       "<p>826239 rows × 10 columns</p>\n",
       "</div>"
      ],
      "text/plain": [
       "                                           filename camera_id  \\\n",
       "0       cfg_raw_cam_01_fhd_h265_20230609T000003.mkv        01   \n",
       "1       cfg_raw_cam_01_fhd_h265_20230609T000003.mkv        01   \n",
       "2       cfg_raw_cam_01_fhd_h265_20230609T000003.mkv        01   \n",
       "3       cfg_raw_cam_01_fhd_h265_20230609T000003.mkv        01   \n",
       "4       cfg_raw_cam_01_fhd_h265_20230609T000003.mkv        01   \n",
       "...                                             ...       ...   \n",
       "826234  cfg_raw_cam_02_fhd_h265_20230707T214000.mkv        02   \n",
       "826235  cfg_raw_cam_02_fhd_h265_20230707T214000.mkv        02   \n",
       "826236  cfg_raw_cam_02_fhd_h265_20230707T214000.mkv        02   \n",
       "826237  cfg_raw_cam_02_fhd_h265_20230707T214000.mkv        02   \n",
       "826238  cfg_raw_cam_02_fhd_h265_20230707T214000.mkv        02   \n",
       "\n",
       "                  datetime  frame_id  label_class         x         y  \\\n",
       "0      2023-06-09 00:00:03         1            8  0.296998  0.765053   \n",
       "1      2023-06-09 00:00:03         2            8  0.296892  0.764497   \n",
       "2      2023-06-09 00:00:03         3            8  0.297045  0.765550   \n",
       "3      2023-06-09 00:00:03         4            8  0.297082  0.765901   \n",
       "4      2023-06-09 00:00:03         5            8  0.297110  0.764586   \n",
       "...                    ...       ...          ...       ...       ...   \n",
       "826234 2023-07-07 21:40:00      2140            8  0.799422  0.761484   \n",
       "826235 2023-07-07 21:40:00      2142            8  0.616754  0.554351   \n",
       "826236 2023-07-07 21:40:00      2143            8  0.799920  0.761428   \n",
       "826237 2023-07-07 21:40:00      2323            8  0.800212  0.761403   \n",
       "826238 2023-07-07 21:40:00      2333            8  0.800534  0.762035   \n",
       "\n",
       "               w         h  confidence  \n",
       "0       0.201359  0.196389    0.694145  \n",
       "1       0.201743  0.197460    0.721214  \n",
       "2       0.201709  0.194799    0.691033  \n",
       "3       0.201874  0.194279    0.629399  \n",
       "4       0.201582  0.196424    0.772130  \n",
       "...          ...       ...         ...  \n",
       "826234  0.396978  0.458214    0.324898  \n",
       "826235  0.038852  0.052457    0.353814  \n",
       "826236  0.394584  0.459609    0.263392  \n",
       "826237  0.397113  0.458038    0.326050  \n",
       "826238  0.390486  0.456620    0.469898  \n",
       "\n",
       "[826239 rows x 10 columns]"
      ]
     },
     "execution_count": 137,
     "metadata": {},
     "output_type": "execute_result"
    }
   ],
   "source": [
    "# filename, camera_id, datetime, frame_id, label_class, x,y,x,y, confidance   #;;;;\n",
    "coco_cols = ['label_class', 'x', 'y', 'w', 'h', 'confidence']\n",
    "res = []\n",
    "for x in tqdm(files):\n",
    "    bname = os.path.basename(x).replace('.txt', '')\n",
    "    sname = bname.split('_')\n",
    "\n",
    "    video_file = '_'.join(sname[:-1]) + '.mkv'\n",
    "    frame = int(sname[-1])\n",
    "    camera = sname[3]\n",
    "    dt = sname[6]\n",
    "    dt_parsed = datetime.datetime.strptime(dt, \"%Y%m%dT%H%M%S\")\n",
    "    \n",
    "    with open(x, 'r') as file:\n",
    "        lines = [x.rstrip() for x in file.readlines()]\n",
    "        for l in lines:\n",
    "            l_split = l.split(' ')\n",
    "            curr_data = {v: float(l_split[k]) for k, v in enumerate(coco_cols)}\n",
    "            curr_data['filename'] = video_file\n",
    "            curr_data['camera_id'] = camera\n",
    "            curr_data['datetime'] = dt_parsed\n",
    "            curr_data['frame_id'] = frame\n",
    "            res.append(curr_data)\n",
    "\n",
    "df_res = pd.DataFrame.from_records(res).loc[:, ['filename', 'camera_id', 'datetime', 'frame_id', 'label_class', 'x', 'y', 'w', 'h', 'confidence']]\n",
    "df_res['label_class'] = df_res['label_class'].astype(int)\n",
    "df_res"
   ]
  },
  {
   "cell_type": "code",
   "execution_count": 138,
   "id": "648f1e89-7766-4a8c-b466-27c2bf647ac9",
   "metadata": {},
   "outputs": [],
   "source": [
    "df_res['frame_id'] = df_res['frame_id'] - 1"
   ]
  },
  {
   "cell_type": "code",
   "execution_count": 139,
   "id": "bd0ddbdb-f1d4-4df2-92aa-c831a5f61166",
   "metadata": {},
   "outputs": [],
   "source": [
    "df_res['x'] = (df_res['x'] * W).astype(int)\n",
    "df_res['y'] = (df_res['y'] * H).astype(int)\n",
    "df_res['w'] = (df_res['w'] * W).astype(int)\n",
    "df_res['h'] = (df_res['h'] * H).astype(int)"
   ]
  },
  {
   "cell_type": "code",
   "execution_count": 140,
   "id": "79b83d4a-05ed-47be-8485-7d608c21f35b",
   "metadata": {
    "scrolled": true
   },
   "outputs": [
    {
     "data": {
      "text/html": [
       "<div>\n",
       "<style scoped>\n",
       "    .dataframe tbody tr th:only-of-type {\n",
       "        vertical-align: middle;\n",
       "    }\n",
       "\n",
       "    .dataframe tbody tr th {\n",
       "        vertical-align: top;\n",
       "    }\n",
       "\n",
       "    .dataframe thead th {\n",
       "        text-align: right;\n",
       "    }\n",
       "</style>\n",
       "<table border=\"1\" class=\"dataframe\">\n",
       "  <thead>\n",
       "    <tr style=\"text-align: right;\">\n",
       "      <th></th>\n",
       "      <th>filename</th>\n",
       "      <th>camera_id</th>\n",
       "      <th>datetime</th>\n",
       "      <th>frame_id</th>\n",
       "      <th>label_class</th>\n",
       "      <th>x</th>\n",
       "      <th>y</th>\n",
       "      <th>w</th>\n",
       "      <th>h</th>\n",
       "      <th>confidence</th>\n",
       "    </tr>\n",
       "  </thead>\n",
       "  <tbody>\n",
       "    <tr>\n",
       "      <th>0</th>\n",
       "      <td>cfg_raw_cam_01_fhd_h265_20230609T000003.mkv</td>\n",
       "      <td>01</td>\n",
       "      <td>2023-06-09 00:00:03</td>\n",
       "      <td>0</td>\n",
       "      <td>8</td>\n",
       "      <td>570</td>\n",
       "      <td>826</td>\n",
       "      <td>386</td>\n",
       "      <td>212</td>\n",
       "      <td>0.694145</td>\n",
       "    </tr>\n",
       "    <tr>\n",
       "      <th>1</th>\n",
       "      <td>cfg_raw_cam_01_fhd_h265_20230609T000003.mkv</td>\n",
       "      <td>01</td>\n",
       "      <td>2023-06-09 00:00:03</td>\n",
       "      <td>1</td>\n",
       "      <td>8</td>\n",
       "      <td>570</td>\n",
       "      <td>825</td>\n",
       "      <td>387</td>\n",
       "      <td>213</td>\n",
       "      <td>0.721214</td>\n",
       "    </tr>\n",
       "    <tr>\n",
       "      <th>2</th>\n",
       "      <td>cfg_raw_cam_01_fhd_h265_20230609T000003.mkv</td>\n",
       "      <td>01</td>\n",
       "      <td>2023-06-09 00:00:03</td>\n",
       "      <td>2</td>\n",
       "      <td>8</td>\n",
       "      <td>570</td>\n",
       "      <td>826</td>\n",
       "      <td>387</td>\n",
       "      <td>210</td>\n",
       "      <td>0.691033</td>\n",
       "    </tr>\n",
       "    <tr>\n",
       "      <th>3</th>\n",
       "      <td>cfg_raw_cam_01_fhd_h265_20230609T000003.mkv</td>\n",
       "      <td>01</td>\n",
       "      <td>2023-06-09 00:00:03</td>\n",
       "      <td>3</td>\n",
       "      <td>8</td>\n",
       "      <td>570</td>\n",
       "      <td>827</td>\n",
       "      <td>387</td>\n",
       "      <td>209</td>\n",
       "      <td>0.629399</td>\n",
       "    </tr>\n",
       "    <tr>\n",
       "      <th>4</th>\n",
       "      <td>cfg_raw_cam_01_fhd_h265_20230609T000003.mkv</td>\n",
       "      <td>01</td>\n",
       "      <td>2023-06-09 00:00:03</td>\n",
       "      <td>4</td>\n",
       "      <td>8</td>\n",
       "      <td>570</td>\n",
       "      <td>825</td>\n",
       "      <td>387</td>\n",
       "      <td>212</td>\n",
       "      <td>0.772130</td>\n",
       "    </tr>\n",
       "  </tbody>\n",
       "</table>\n",
       "</div>"
      ],
      "text/plain": [
       "                                      filename camera_id            datetime  \\\n",
       "0  cfg_raw_cam_01_fhd_h265_20230609T000003.mkv        01 2023-06-09 00:00:03   \n",
       "1  cfg_raw_cam_01_fhd_h265_20230609T000003.mkv        01 2023-06-09 00:00:03   \n",
       "2  cfg_raw_cam_01_fhd_h265_20230609T000003.mkv        01 2023-06-09 00:00:03   \n",
       "3  cfg_raw_cam_01_fhd_h265_20230609T000003.mkv        01 2023-06-09 00:00:03   \n",
       "4  cfg_raw_cam_01_fhd_h265_20230609T000003.mkv        01 2023-06-09 00:00:03   \n",
       "\n",
       "   frame_id  label_class    x    y    w    h  confidence  \n",
       "0         0            8  570  826  386  212    0.694145  \n",
       "1         1            8  570  825  387  213    0.721214  \n",
       "2         2            8  570  826  387  210    0.691033  \n",
       "3         3            8  570  827  387  209    0.629399  \n",
       "4         4            8  570  825  387  212    0.772130  "
      ]
     },
     "execution_count": 140,
     "metadata": {},
     "output_type": "execute_result"
    }
   ],
   "source": [
    "df_res.head()"
   ]
  },
  {
   "cell_type": "code",
   "execution_count": 141,
   "id": "a49dcf90-91c9-40e5-98df-04c139ea10a9",
   "metadata": {},
   "outputs": [],
   "source": [
    "df_res.to_csv('../annotations/yolov8x_no_train_labels.csv', sep=';')"
   ]
  }
 ],
 "metadata": {
  "kernelspec": {
   "display_name": "Python 3 (ipykernel)",
   "language": "python",
   "name": "python3"
  },
  "language_info": {
   "codemirror_mode": {
    "name": "ipython",
    "version": 3
   },
   "file_extension": ".py",
   "mimetype": "text/x-python",
   "name": "python",
   "nbconvert_exporter": "python",
   "pygments_lexer": "ipython3",
   "version": "3.11.0rc1"
  }
 },
 "nbformat": 4,
 "nbformat_minor": 5
}
