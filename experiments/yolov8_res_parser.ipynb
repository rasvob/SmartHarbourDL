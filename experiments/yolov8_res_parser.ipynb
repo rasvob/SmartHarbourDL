{
 "cells": [
  {
   "cell_type": "code",
   "execution_count": null,
   "id": "695fd25e-7e0f-47f4-8cc7-2d2879a91be3",
   "metadata": {},
   "outputs": [],
   "source": [
    "import pandas as pd\n",
    "import numpy as np\n",
    "from glob import glob\n",
    "from tqdm.notebook import tqdm, trange\n",
    "import os\n",
    "import datetime"
   ]
  },
  {
   "cell_type": "code",
   "execution_count": null,
   "id": "8e0cf188-243e-467e-a3bb-3e7f46921e45",
   "metadata": {},
   "outputs": [],
   "source": [
    "files = glob('../runs/detect/predict6/labels/*')"
   ]
  },
  {
   "cell_type": "code",
   "execution_count": null,
   "id": "6b8637fe-711c-4433-9ad9-630a99fff61f",
   "metadata": {},
   "outputs": [],
   "source": [
    "len(files)"
   ]
  },
  {
   "cell_type": "code",
   "execution_count": null,
   "id": "59283cc1-bccf-48f9-b522-86aa5170281c",
   "metadata": {
    "scrolled": true
   },
   "outputs": [],
   "source": [
    "files[:5]"
   ]
  },
  {
   "cell_type": "code",
   "execution_count": null,
   "id": "aeefd0f8-50d1-4a30-bf45-a49a02941844",
   "metadata": {
    "scrolled": true
   },
   "outputs": [],
   "source": [
    "# filename, camera_id, datetime, frame_id, label_class, x,y,x,y, confidance   #;;;;\n",
    "coco_cols = ['label_class', 'x', 'y', 'w', 'h', 'confidence']\n",
    "res = []\n",
    "for x in tqdm(files):\n",
    "    bname = os.path.basename(x).replace('.txt', '')\n",
    "    sname = bname.split('_')\n",
    "\n",
    "    video_file = '_'.join(sname[:-1]) + '.mkv'\n",
    "    frame = int(sname[-1])\n",
    "    camera = sname[3]\n",
    "    dt = sname[6]\n",
    "    dt_parsed = datetime.datetime.strptime(dt, \"%Y%m%dT%H%M%S\")\n",
    "    \n",
    "    with open(x, 'r') as file:\n",
    "        lines = [x.rstrip() for x in file.readlines()]\n",
    "        for l in lines:\n",
    "            l_split = l.split(' ')\n",
    "            curr_data = {v: float(l_split[k]) for k, v in enumerate(coco_cols)}\n",
    "            curr_data['filename'] = video_file\n",
    "            curr_data['camera_id'] = camera\n",
    "            curr_data['datetime'] = dt_parsed\n",
    "            curr_data['frame_id'] = frame\n",
    "            res.append(curr_data)\n",
    "\n",
    "df_res = pd.DataFrame.from_records(res).loc[:, ['filename', 'camera_id', 'datetime', 'frame_id', 'label_class', 'x', 'y', 'w', 'h', 'confidence']]\n",
    "df_res['label_class'] = df_res['label_class'].astype(int)\n",
    "df_res"
   ]
  },
  {
   "cell_type": "code",
   "execution_count": null,
   "id": "a49dcf90-91c9-40e5-98df-04c139ea10a9",
   "metadata": {},
   "outputs": [],
   "source": [
    "df_res.to_csv('../annotations/yolov8x_no_train_labels.csv', sep=';')"
   ]
  }
 ],
 "metadata": {
  "kernelspec": {
   "display_name": "Python 3 (ipykernel)",
   "language": "python",
   "name": "python3"
  },
  "language_info": {
   "codemirror_mode": {
    "name": "ipython",
    "version": 3
   },
   "file_extension": ".py",
   "mimetype": "text/x-python",
   "name": "python",
   "nbconvert_exporter": "python",
   "pygments_lexer": "ipython3",
   "version": "3.11.0rc1"
  }
 },
 "nbformat": 4,
 "nbformat_minor": 5
}
