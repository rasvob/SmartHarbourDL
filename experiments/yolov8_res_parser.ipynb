{
 "cells": [
  {
   "cell_type": "code",
   "execution_count": 159,
   "id": "695fd25e-7e0f-47f4-8cc7-2d2879a91be3",
   "metadata": {},
   "outputs": [],
   "source": [
    "import pandas as pd\n",
    "import numpy as np\n",
    "from glob import glob\n",
    "from tqdm.notebook import tqdm, trange\n",
    "import os\n",
    "import datetime"
   ]
  },
  {
   "cell_type": "code",
   "execution_count": 160,
   "id": "e2a14f60-f52a-46fa-8319-659b7884785a",
   "metadata": {},
   "outputs": [],
   "source": [
    "W, H = 1920, 1080"
   ]
  },
  {
   "cell_type": "code",
   "execution_count": 161,
   "id": "8e0cf188-243e-467e-a3bb-3e7f46921e45",
   "metadata": {},
   "outputs": [],
   "source": [
    "files = glob('../runs/detect/predict_cam_01/labels/*')"
   ]
  },
  {
   "cell_type": "code",
   "execution_count": 162,
   "id": "a9bd9eda-e4b6-47fc-9873-e51550ed2127",
   "metadata": {},
   "outputs": [
    {
     "data": {
      "text/plain": [
       "4751"
      ]
     },
     "execution_count": 162,
     "metadata": {},
     "output_type": "execute_result"
    }
   ],
   "source": [
    "len(files)"
   ]
  },
  {
   "cell_type": "code",
   "execution_count": 163,
   "id": "40627fa1-9693-4a9d-a4d3-5358606e1ed5",
   "metadata": {},
   "outputs": [],
   "source": [
    "# files = [x for x in files if 'predict5' not in x and 'predict6' not in x]"
   ]
  },
  {
   "cell_type": "code",
   "execution_count": 164,
   "id": "6b8637fe-711c-4433-9ad9-630a99fff61f",
   "metadata": {},
   "outputs": [
    {
     "data": {
      "text/plain": [
       "4751"
      ]
     },
     "execution_count": 164,
     "metadata": {},
     "output_type": "execute_result"
    }
   ],
   "source": [
    "len(files)"
   ]
  },
  {
   "cell_type": "code",
   "execution_count": 165,
   "id": "59283cc1-bccf-48f9-b522-86aa5170281c",
   "metadata": {
    "scrolled": true
   },
   "outputs": [
    {
     "data": {
      "text/plain": [
       "['../runs/detect/predict_cam_01/labels/cfg_raw_cam_01_fhd_h265_20230708T111000_1381.txt',\n",
       " '../runs/detect/predict_cam_01/labels/cfg_raw_cam_01_fhd_h265_20230708T111000_1382.txt',\n",
       " '../runs/detect/predict_cam_01/labels/cfg_raw_cam_01_fhd_h265_20230708T111000_1383.txt',\n",
       " '../runs/detect/predict_cam_01/labels/cfg_raw_cam_01_fhd_h265_20230708T111000_1384.txt',\n",
       " '../runs/detect/predict_cam_01/labels/cfg_raw_cam_01_fhd_h265_20230708T111000_1385.txt']"
      ]
     },
     "execution_count": 165,
     "metadata": {},
     "output_type": "execute_result"
    }
   ],
   "source": [
    "files[:5]"
   ]
  },
  {
   "cell_type": "code",
   "execution_count": 166,
   "id": "aeefd0f8-50d1-4a30-bf45-a49a02941844",
   "metadata": {
    "scrolled": true
   },
   "outputs": [
    {
     "data": {
      "application/vnd.jupyter.widget-view+json": {
       "model_id": "5b8611686fb54ba3a41eb4af914b231f",
       "version_major": 2,
       "version_minor": 0
      },
      "text/plain": [
       "  0%|          | 0/4751 [00:00<?, ?it/s]"
      ]
     },
     "metadata": {},
     "output_type": "display_data"
    },
    {
     "data": {
      "text/html": [
       "<div>\n",
       "<style scoped>\n",
       "    .dataframe tbody tr th:only-of-type {\n",
       "        vertical-align: middle;\n",
       "    }\n",
       "\n",
       "    .dataframe tbody tr th {\n",
       "        vertical-align: top;\n",
       "    }\n",
       "\n",
       "    .dataframe thead th {\n",
       "        text-align: right;\n",
       "    }\n",
       "</style>\n",
       "<table border=\"1\" class=\"dataframe\">\n",
       "  <thead>\n",
       "    <tr style=\"text-align: right;\">\n",
       "      <th></th>\n",
       "      <th>filename</th>\n",
       "      <th>camera_id</th>\n",
       "      <th>datetime</th>\n",
       "      <th>frame_id</th>\n",
       "      <th>label_class</th>\n",
       "      <th>x</th>\n",
       "      <th>y</th>\n",
       "      <th>w</th>\n",
       "      <th>h</th>\n",
       "      <th>confidence</th>\n",
       "    </tr>\n",
       "  </thead>\n",
       "  <tbody>\n",
       "    <tr>\n",
       "      <th>0</th>\n",
       "      <td>cfg_raw_cam_01_fhd_h265_20230708T111000.mkv</td>\n",
       "      <td>01</td>\n",
       "      <td>2023-07-08 11:10:00</td>\n",
       "      <td>1381</td>\n",
       "      <td>8</td>\n",
       "      <td>0.746218</td>\n",
       "      <td>0.570369</td>\n",
       "      <td>0.187633</td>\n",
       "      <td>0.234616</td>\n",
       "      <td>0.903457</td>\n",
       "    </tr>\n",
       "    <tr>\n",
       "      <th>1</th>\n",
       "      <td>cfg_raw_cam_01_fhd_h265_20230708T111000.mkv</td>\n",
       "      <td>01</td>\n",
       "      <td>2023-07-08 11:10:00</td>\n",
       "      <td>1382</td>\n",
       "      <td>8</td>\n",
       "      <td>0.728546</td>\n",
       "      <td>0.576631</td>\n",
       "      <td>0.193030</td>\n",
       "      <td>0.241938</td>\n",
       "      <td>0.845339</td>\n",
       "    </tr>\n",
       "    <tr>\n",
       "      <th>2</th>\n",
       "      <td>cfg_raw_cam_01_fhd_h265_20230708T111000.mkv</td>\n",
       "      <td>01</td>\n",
       "      <td>2023-07-08 11:10:00</td>\n",
       "      <td>1383</td>\n",
       "      <td>8</td>\n",
       "      <td>0.719997</td>\n",
       "      <td>0.568226</td>\n",
       "      <td>0.214355</td>\n",
       "      <td>0.232664</td>\n",
       "      <td>0.851941</td>\n",
       "    </tr>\n",
       "    <tr>\n",
       "      <th>3</th>\n",
       "      <td>cfg_raw_cam_01_fhd_h265_20230708T111000.mkv</td>\n",
       "      <td>01</td>\n",
       "      <td>2023-07-08 11:10:00</td>\n",
       "      <td>1384</td>\n",
       "      <td>8</td>\n",
       "      <td>0.709306</td>\n",
       "      <td>0.562471</td>\n",
       "      <td>0.228291</td>\n",
       "      <td>0.216641</td>\n",
       "      <td>0.906354</td>\n",
       "    </tr>\n",
       "    <tr>\n",
       "      <th>4</th>\n",
       "      <td>cfg_raw_cam_01_fhd_h265_20230708T111000.mkv</td>\n",
       "      <td>01</td>\n",
       "      <td>2023-07-08 11:10:00</td>\n",
       "      <td>1385</td>\n",
       "      <td>8</td>\n",
       "      <td>0.697567</td>\n",
       "      <td>0.567722</td>\n",
       "      <td>0.240166</td>\n",
       "      <td>0.231819</td>\n",
       "      <td>0.868060</td>\n",
       "    </tr>\n",
       "    <tr>\n",
       "      <th>...</th>\n",
       "      <td>...</td>\n",
       "      <td>...</td>\n",
       "      <td>...</td>\n",
       "      <td>...</td>\n",
       "      <td>...</td>\n",
       "      <td>...</td>\n",
       "      <td>...</td>\n",
       "      <td>...</td>\n",
       "      <td>...</td>\n",
       "      <td>...</td>\n",
       "    </tr>\n",
       "    <tr>\n",
       "      <th>5754</th>\n",
       "      <td>cfg_raw_cam_01_fhd_h265_20230708T145001.mkv</td>\n",
       "      <td>01</td>\n",
       "      <td>2023-07-08 14:50:01</td>\n",
       "      <td>387</td>\n",
       "      <td>8</td>\n",
       "      <td>0.376619</td>\n",
       "      <td>0.437915</td>\n",
       "      <td>0.246620</td>\n",
       "      <td>0.200465</td>\n",
       "      <td>0.931503</td>\n",
       "    </tr>\n",
       "    <tr>\n",
       "      <th>5755</th>\n",
       "      <td>cfg_raw_cam_01_fhd_h265_20230708T145001.mkv</td>\n",
       "      <td>01</td>\n",
       "      <td>2023-07-08 14:50:01</td>\n",
       "      <td>388</td>\n",
       "      <td>8</td>\n",
       "      <td>0.391676</td>\n",
       "      <td>0.440934</td>\n",
       "      <td>0.243630</td>\n",
       "      <td>0.206154</td>\n",
       "      <td>0.936167</td>\n",
       "    </tr>\n",
       "    <tr>\n",
       "      <th>5756</th>\n",
       "      <td>cfg_raw_cam_01_fhd_h265_20230708T145001.mkv</td>\n",
       "      <td>01</td>\n",
       "      <td>2023-07-08 14:50:01</td>\n",
       "      <td>389</td>\n",
       "      <td>8</td>\n",
       "      <td>0.398295</td>\n",
       "      <td>0.445610</td>\n",
       "      <td>0.256980</td>\n",
       "      <td>0.208101</td>\n",
       "      <td>0.941276</td>\n",
       "    </tr>\n",
       "    <tr>\n",
       "      <th>5757</th>\n",
       "      <td>cfg_raw_cam_01_fhd_h265_20230708T152003.mkv</td>\n",
       "      <td>01</td>\n",
       "      <td>2023-07-08 15:20:03</td>\n",
       "      <td>1854</td>\n",
       "      <td>8</td>\n",
       "      <td>0.603834</td>\n",
       "      <td>0.531364</td>\n",
       "      <td>0.305037</td>\n",
       "      <td>0.223968</td>\n",
       "      <td>0.914308</td>\n",
       "    </tr>\n",
       "    <tr>\n",
       "      <th>5758</th>\n",
       "      <td>cfg_raw_cam_01_fhd_h265_20230708T152003.mkv</td>\n",
       "      <td>01</td>\n",
       "      <td>2023-07-08 15:20:03</td>\n",
       "      <td>1854</td>\n",
       "      <td>8</td>\n",
       "      <td>0.225049</td>\n",
       "      <td>0.387615</td>\n",
       "      <td>0.010898</td>\n",
       "      <td>0.062156</td>\n",
       "      <td>0.574980</td>\n",
       "    </tr>\n",
       "  </tbody>\n",
       "</table>\n",
       "<p>5759 rows × 10 columns</p>\n",
       "</div>"
      ],
      "text/plain": [
       "                                         filename camera_id  \\\n",
       "0     cfg_raw_cam_01_fhd_h265_20230708T111000.mkv        01   \n",
       "1     cfg_raw_cam_01_fhd_h265_20230708T111000.mkv        01   \n",
       "2     cfg_raw_cam_01_fhd_h265_20230708T111000.mkv        01   \n",
       "3     cfg_raw_cam_01_fhd_h265_20230708T111000.mkv        01   \n",
       "4     cfg_raw_cam_01_fhd_h265_20230708T111000.mkv        01   \n",
       "...                                           ...       ...   \n",
       "5754  cfg_raw_cam_01_fhd_h265_20230708T145001.mkv        01   \n",
       "5755  cfg_raw_cam_01_fhd_h265_20230708T145001.mkv        01   \n",
       "5756  cfg_raw_cam_01_fhd_h265_20230708T145001.mkv        01   \n",
       "5757  cfg_raw_cam_01_fhd_h265_20230708T152003.mkv        01   \n",
       "5758  cfg_raw_cam_01_fhd_h265_20230708T152003.mkv        01   \n",
       "\n",
       "                datetime  frame_id  label_class         x         y         w  \\\n",
       "0    2023-07-08 11:10:00      1381            8  0.746218  0.570369  0.187633   \n",
       "1    2023-07-08 11:10:00      1382            8  0.728546  0.576631  0.193030   \n",
       "2    2023-07-08 11:10:00      1383            8  0.719997  0.568226  0.214355   \n",
       "3    2023-07-08 11:10:00      1384            8  0.709306  0.562471  0.228291   \n",
       "4    2023-07-08 11:10:00      1385            8  0.697567  0.567722  0.240166   \n",
       "...                  ...       ...          ...       ...       ...       ...   \n",
       "5754 2023-07-08 14:50:01       387            8  0.376619  0.437915  0.246620   \n",
       "5755 2023-07-08 14:50:01       388            8  0.391676  0.440934  0.243630   \n",
       "5756 2023-07-08 14:50:01       389            8  0.398295  0.445610  0.256980   \n",
       "5757 2023-07-08 15:20:03      1854            8  0.603834  0.531364  0.305037   \n",
       "5758 2023-07-08 15:20:03      1854            8  0.225049  0.387615  0.010898   \n",
       "\n",
       "             h  confidence  \n",
       "0     0.234616    0.903457  \n",
       "1     0.241938    0.845339  \n",
       "2     0.232664    0.851941  \n",
       "3     0.216641    0.906354  \n",
       "4     0.231819    0.868060  \n",
       "...        ...         ...  \n",
       "5754  0.200465    0.931503  \n",
       "5755  0.206154    0.936167  \n",
       "5756  0.208101    0.941276  \n",
       "5757  0.223968    0.914308  \n",
       "5758  0.062156    0.574980  \n",
       "\n",
       "[5759 rows x 10 columns]"
      ]
     },
     "execution_count": 166,
     "metadata": {},
     "output_type": "execute_result"
    }
   ],
   "source": [
    "# filename, camera_id, datetime, frame_id, label_class, x,y,x,y, confidance   #;;;;\n",
    "coco_cols = ['label_class', 'x', 'y', 'w', 'h', 'confidence']\n",
    "res = []\n",
    "for x in tqdm(files):\n",
    "    bname = os.path.basename(x).replace('.txt', '')\n",
    "    sname = bname.split('_')\n",
    "\n",
    "    video_file = '_'.join(sname[:-1]) + '.mkv'\n",
    "    frame = int(sname[-1])\n",
    "    camera = sname[3]\n",
    "    dt = sname[6]\n",
    "    dt_parsed = datetime.datetime.strptime(dt, \"%Y%m%dT%H%M%S\")\n",
    "    \n",
    "    with open(x, 'r') as file:\n",
    "        lines = [x.rstrip() for x in file.readlines()]\n",
    "        for l in lines:\n",
    "            l_split = l.split(' ')\n",
    "            curr_data = {v: float(l_split[k]) for k, v in enumerate(coco_cols)}\n",
    "            curr_data['filename'] = video_file\n",
    "            curr_data['camera_id'] = camera\n",
    "            curr_data['datetime'] = dt_parsed\n",
    "            curr_data['frame_id'] = frame\n",
    "            res.append(curr_data)\n",
    "\n",
    "df_res = pd.DataFrame.from_records(res).loc[:, ['filename', 'camera_id', 'datetime', 'frame_id', 'label_class', 'x', 'y', 'w', 'h', 'confidence']]\n",
    "df_res['label_class'] = df_res['label_class'].astype(int)\n",
    "df_res"
   ]
  },
  {
   "cell_type": "code",
   "execution_count": 167,
   "id": "648f1e89-7766-4a8c-b466-27c2bf647ac9",
   "metadata": {},
   "outputs": [],
   "source": [
    "df_res['frame_id'] = df_res['frame_id'] - 1"
   ]
  },
  {
   "cell_type": "code",
   "execution_count": 168,
   "id": "bd0ddbdb-f1d4-4df2-92aa-c831a5f61166",
   "metadata": {},
   "outputs": [],
   "source": [
    "df_res['x'] = (df_res['x'] * W).astype(int)\n",
    "df_res['y'] = (df_res['y'] * H).astype(int)\n",
    "df_res['w'] = (df_res['w'] * W).astype(int)\n",
    "df_res['h'] = (df_res['h'] * H).astype(int)"
   ]
  },
  {
   "cell_type": "code",
   "execution_count": 169,
   "id": "79b83d4a-05ed-47be-8485-7d608c21f35b",
   "metadata": {},
   "outputs": [
    {
     "data": {
      "text/html": [
       "<div>\n",
       "<style scoped>\n",
       "    .dataframe tbody tr th:only-of-type {\n",
       "        vertical-align: middle;\n",
       "    }\n",
       "\n",
       "    .dataframe tbody tr th {\n",
       "        vertical-align: top;\n",
       "    }\n",
       "\n",
       "    .dataframe thead th {\n",
       "        text-align: right;\n",
       "    }\n",
       "</style>\n",
       "<table border=\"1\" class=\"dataframe\">\n",
       "  <thead>\n",
       "    <tr style=\"text-align: right;\">\n",
       "      <th></th>\n",
       "      <th>filename</th>\n",
       "      <th>camera_id</th>\n",
       "      <th>datetime</th>\n",
       "      <th>frame_id</th>\n",
       "      <th>label_class</th>\n",
       "      <th>x</th>\n",
       "      <th>y</th>\n",
       "      <th>w</th>\n",
       "      <th>h</th>\n",
       "      <th>confidence</th>\n",
       "    </tr>\n",
       "  </thead>\n",
       "  <tbody>\n",
       "    <tr>\n",
       "      <th>0</th>\n",
       "      <td>cfg_raw_cam_01_fhd_h265_20230708T111000.mkv</td>\n",
       "      <td>01</td>\n",
       "      <td>2023-07-08 11:10:00</td>\n",
       "      <td>1380</td>\n",
       "      <td>8</td>\n",
       "      <td>1432</td>\n",
       "      <td>615</td>\n",
       "      <td>360</td>\n",
       "      <td>253</td>\n",
       "      <td>0.903457</td>\n",
       "    </tr>\n",
       "    <tr>\n",
       "      <th>1</th>\n",
       "      <td>cfg_raw_cam_01_fhd_h265_20230708T111000.mkv</td>\n",
       "      <td>01</td>\n",
       "      <td>2023-07-08 11:10:00</td>\n",
       "      <td>1381</td>\n",
       "      <td>8</td>\n",
       "      <td>1398</td>\n",
       "      <td>622</td>\n",
       "      <td>370</td>\n",
       "      <td>261</td>\n",
       "      <td>0.845339</td>\n",
       "    </tr>\n",
       "    <tr>\n",
       "      <th>2</th>\n",
       "      <td>cfg_raw_cam_01_fhd_h265_20230708T111000.mkv</td>\n",
       "      <td>01</td>\n",
       "      <td>2023-07-08 11:10:00</td>\n",
       "      <td>1382</td>\n",
       "      <td>8</td>\n",
       "      <td>1382</td>\n",
       "      <td>613</td>\n",
       "      <td>411</td>\n",
       "      <td>251</td>\n",
       "      <td>0.851941</td>\n",
       "    </tr>\n",
       "    <tr>\n",
       "      <th>3</th>\n",
       "      <td>cfg_raw_cam_01_fhd_h265_20230708T111000.mkv</td>\n",
       "      <td>01</td>\n",
       "      <td>2023-07-08 11:10:00</td>\n",
       "      <td>1383</td>\n",
       "      <td>8</td>\n",
       "      <td>1361</td>\n",
       "      <td>607</td>\n",
       "      <td>438</td>\n",
       "      <td>233</td>\n",
       "      <td>0.906354</td>\n",
       "    </tr>\n",
       "    <tr>\n",
       "      <th>4</th>\n",
       "      <td>cfg_raw_cam_01_fhd_h265_20230708T111000.mkv</td>\n",
       "      <td>01</td>\n",
       "      <td>2023-07-08 11:10:00</td>\n",
       "      <td>1384</td>\n",
       "      <td>8</td>\n",
       "      <td>1339</td>\n",
       "      <td>613</td>\n",
       "      <td>461</td>\n",
       "      <td>250</td>\n",
       "      <td>0.868060</td>\n",
       "    </tr>\n",
       "  </tbody>\n",
       "</table>\n",
       "</div>"
      ],
      "text/plain": [
       "                                      filename camera_id            datetime  \\\n",
       "0  cfg_raw_cam_01_fhd_h265_20230708T111000.mkv        01 2023-07-08 11:10:00   \n",
       "1  cfg_raw_cam_01_fhd_h265_20230708T111000.mkv        01 2023-07-08 11:10:00   \n",
       "2  cfg_raw_cam_01_fhd_h265_20230708T111000.mkv        01 2023-07-08 11:10:00   \n",
       "3  cfg_raw_cam_01_fhd_h265_20230708T111000.mkv        01 2023-07-08 11:10:00   \n",
       "4  cfg_raw_cam_01_fhd_h265_20230708T111000.mkv        01 2023-07-08 11:10:00   \n",
       "\n",
       "   frame_id  label_class     x    y    w    h  confidence  \n",
       "0      1380            8  1432  615  360  253    0.903457  \n",
       "1      1381            8  1398  622  370  261    0.845339  \n",
       "2      1382            8  1382  613  411  251    0.851941  \n",
       "3      1383            8  1361  607  438  233    0.906354  \n",
       "4      1384            8  1339  613  461  250    0.868060  "
      ]
     },
     "execution_count": 169,
     "metadata": {},
     "output_type": "execute_result"
    }
   ],
   "source": [
    "df_res.head()"
   ]
  },
  {
   "cell_type": "code",
   "execution_count": 170,
   "id": "a49dcf90-91c9-40e5-98df-04c139ea10a9",
   "metadata": {},
   "outputs": [],
   "source": [
    "df_res.to_csv('../annotations/yolov8x_cam_01_data_train_labels.csv', sep=';')"
   ]
  }
 ],
 "metadata": {
  "kernelspec": {
   "display_name": "Python 3 (ipykernel)",
   "language": "python",
   "name": "python3"
  },
  "language_info": {
   "codemirror_mode": {
    "name": "ipython",
    "version": 3
   },
   "file_extension": ".py",
   "mimetype": "text/x-python",
   "name": "python",
   "nbconvert_exporter": "python",
   "pygments_lexer": "ipython3",
   "version": "3.11.0rc1"
  }
 },
 "nbformat": 4,
 "nbformat_minor": 5
}
