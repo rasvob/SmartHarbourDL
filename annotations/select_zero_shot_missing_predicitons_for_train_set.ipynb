{
 "cells": [
  {
   "cell_type": "code",
   "execution_count": 1,
   "metadata": {},
   "outputs": [],
   "source": [
    "import pandas as pd\n",
    "import numpy as np\n",
    "import matplotlib.pyplot as plt\n",
    "import itertools"
   ]
  },
  {
   "cell_type": "markdown",
   "metadata": {},
   "source": [
    "# Load and clean prediciton data"
   ]
  },
  {
   "cell_type": "code",
   "execution_count": 2,
   "metadata": {},
   "outputs": [
    {
     "name": "stdout",
     "output_type": "stream",
     "text": [
      "shape of loaded data (25443, 11) (826239, 11)\n",
      "Ground truth data:\n",
      "date        camera_id\n",
      "2023-06-09  1            4149\n",
      "            2            3481\n",
      "2023-06-10  2            6321\n",
      "2023-07-07  2            6500\n",
      "2023-07-08  1            4992\n",
      "Name: datetime, dtype: int64\n",
      "YOLO predictions data:\n",
      "date        camera_id\n",
      "2023-06-09  1            214940\n",
      "            2             12452\n",
      "2023-06-10  1            132223\n",
      "            2             28347\n",
      "2023-06-11  1             65558\n",
      "            2              5577\n",
      "2023-07-07  2            189338\n",
      "2023-07-08  1            177804\n",
      "Name: datetime, dtype: int64\n"
     ]
    },
    {
     "data": {
      "text/plain": [
       "((13951, 10), (255739, 10))"
      ]
     },
     "execution_count": 2,
     "metadata": {},
     "output_type": "execute_result"
    }
   ],
   "source": [
    "df_ground_truth = pd.read_csv('../annotations/ground_truth_boat_frames_coco.csv', index_col=0, sep=';')\n",
    "df_yolo_predictions = pd.read_csv('../annotations/yolov8x_no_train_labels.csv', index_col=0, sep=';')\n",
    "\n",
    "df_ground_truth['datetime'] = pd.to_datetime(df_ground_truth.datetime)\n",
    "df_ground_truth['date'] = pd.to_datetime(df_ground_truth.datetime.dt.date, format='%Y-%m-%d')\n",
    "df_yolo_predictions['datetime'] = pd.to_datetime(df_yolo_predictions['datetime'])\n",
    "df_yolo_predictions['date'] = pd.to_datetime(df_yolo_predictions.datetime.dt.date, format='%Y-%m-%d')\n",
    "print('shape of loaded data', df_ground_truth.shape, df_yolo_predictions.shape)\n",
    "print('Ground truth data:')\n",
    "print(df_ground_truth.groupby(['date', 'camera_id']).datetime.count())\n",
    "print('YOLO predictions data:')\n",
    "print(df_yolo_predictions.groupby(['date', 'camera_id']).datetime.count())\n",
    "\n",
    "# filter out predictions for dates with ground truth data\n",
    "df_ground_truth = df_ground_truth[df_ground_truth.date.isin(['2023-06-09', '2023-06-10'])].copy()\n",
    "df_yolo_predictions = df_yolo_predictions[\\\n",
    "    ((df_yolo_predictions.date == '2023-06-09') & (df_yolo_predictions.camera_id.isin([1,2]))) |\\\n",
    "    ((df_yolo_predictions.date == '2023-06-10') & (df_yolo_predictions.camera_id == 2))\n",
    "].copy()\n",
    "\n",
    "# crop bounding boxes from right side of camera 2 field of view\n",
    "# df_yolo_predictions.drop(index=df_yolo_predictions[(df_yolo_predictions.camera_id == 2) & (df_yolo_predictions.x > 1800)].index, inplace=True)\n",
    "# df_ground_truth.drop(index=df_ground_truth[(df_ground_truth.camera_id == 2) & (df_ground_truth.x > 1800)].index, inplace=True)\n",
    "\n",
    "df_ground_truth.set_index('filename', inplace=True)\n",
    "df_yolo_predictions.set_index('filename', inplace=True)\n",
    "\n",
    "df_ground_truth.shape, df_yolo_predictions.shape"
   ]
  },
  {
   "cell_type": "code",
   "execution_count": 3,
   "metadata": {},
   "outputs": [],
   "source": [
    "df_ground_truth = df_ground_truth.reset_index().set_index(['filename', 'frame_id'])\n",
    "df_yolo_predictions = df_yolo_predictions.reset_index().set_index(['filename', 'frame_id'])"
   ]
  },
  {
   "cell_type": "code",
   "execution_count": 4,
   "metadata": {},
   "outputs": [
    {
     "data": {
      "text/plain": [
       "(13794, 195112)"
      ]
     },
     "execution_count": 4,
     "metadata": {},
     "output_type": "execute_result"
    }
   ],
   "source": [
    "df_ground_truth.index.drop_duplicates().size, df_yolo_predictions.index.drop_duplicates().size"
   ]
  },
  {
   "cell_type": "code",
   "execution_count": 5,
   "metadata": {},
   "outputs": [
    {
     "data": {
      "text/plain": [
       "(12995, 182117, 799)"
      ]
     },
     "execution_count": 5,
     "metadata": {},
     "output_type": "execute_result"
    }
   ],
   "source": [
    "tp = df_ground_truth.index.intersection(df_yolo_predictions.index)\n",
    "fp = df_yolo_predictions.index.difference(df_ground_truth.index)\n",
    "fn = df_ground_truth.index.difference(df_yolo_predictions.index)\n",
    "tp.size, fp.size, fn.size"
   ]
  },
  {
   "cell_type": "code",
   "execution_count": 6,
   "metadata": {},
   "outputs": [
    {
     "data": {
      "text/plain": [
       "253000"
      ]
     },
     "execution_count": 6,
     "metadata": {},
     "output_type": "execute_result"
    }
   ],
   "source": [
    "filenames_unique =  df_ground_truth.reset_index().filename.unique()\n",
    "no_boat_indexes = pd.Index(itertools.product(filenames_unique, range(0, 2300)))\n",
    "no_boat_indexes.names = ['filename', 'frame_id']\n",
    "no_boat_indexes.size"
   ]
  },
  {
   "cell_type": "code",
   "execution_count": 7,
   "metadata": {},
   "outputs": [
    {
     "data": {
      "text/plain": [
       "180483"
      ]
     },
     "execution_count": 7,
     "metadata": {},
     "output_type": "execute_result"
    }
   ],
   "source": [
    "no_boat_indexes = no_boat_indexes.difference(df_yolo_predictions.index).difference(df_ground_truth.index)\n",
    "no_boat_indexes.size"
   ]
  },
  {
   "cell_type": "code",
   "execution_count": 8,
   "metadata": {},
   "outputs": [],
   "source": [
    "np.random.seed(1)\n",
    "no_boat_indexes_sample = np.random.choice(no_boat_indexes, size=1500, replace=False)\n",
    "fp_indexes_sample = np.random.choice(fp, size=1500, replace=False)"
   ]
  },
  {
   "cell_type": "code",
   "execution_count": 9,
   "metadata": {},
   "outputs": [
    {
     "data": {
      "text/html": [
       "<div>\n",
       "<style scoped>\n",
       "    .dataframe tbody tr th:only-of-type {\n",
       "        vertical-align: middle;\n",
       "    }\n",
       "\n",
       "    .dataframe tbody tr th {\n",
       "        vertical-align: top;\n",
       "    }\n",
       "\n",
       "    .dataframe thead th {\n",
       "        text-align: right;\n",
       "    }\n",
       "</style>\n",
       "<table border=\"1\" class=\"dataframe\">\n",
       "  <thead>\n",
       "    <tr style=\"text-align: right;\">\n",
       "      <th></th>\n",
       "      <th>filename</th>\n",
       "      <th>frame_id</th>\n",
       "      <th>label_class</th>\n",
       "      <th>camera_id</th>\n",
       "      <th>datetime</th>\n",
       "      <th>x</th>\n",
       "      <th>y</th>\n",
       "      <th>w</th>\n",
       "      <th>h</th>\n",
       "      <th>confidance</th>\n",
       "    </tr>\n",
       "  </thead>\n",
       "  <tbody>\n",
       "    <tr>\n",
       "      <th>0</th>\n",
       "      <td>cfg_raw_cam_01_fhd_h265_20230609T091000.mkv</td>\n",
       "      <td>301</td>\n",
       "      <td>-1</td>\n",
       "      <td>01</td>\n",
       "      <td>2023-06-09 09:10:00</td>\n",
       "      <td>0</td>\n",
       "      <td>0</td>\n",
       "      <td>0</td>\n",
       "      <td>0</td>\n",
       "      <td>0</td>\n",
       "    </tr>\n",
       "    <tr>\n",
       "      <th>1</th>\n",
       "      <td>cfg_raw_cam_02_fhd_h265_20230609T091002.mkv</td>\n",
       "      <td>1176</td>\n",
       "      <td>-1</td>\n",
       "      <td>02</td>\n",
       "      <td>2023-06-09 09:10:02</td>\n",
       "      <td>0</td>\n",
       "      <td>0</td>\n",
       "      <td>0</td>\n",
       "      <td>0</td>\n",
       "      <td>0</td>\n",
       "    </tr>\n",
       "    <tr>\n",
       "      <th>2</th>\n",
       "      <td>cfg_raw_cam_02_fhd_h265_20230609T154001.mkv</td>\n",
       "      <td>1806</td>\n",
       "      <td>-1</td>\n",
       "      <td>02</td>\n",
       "      <td>2023-06-09 15:40:01</td>\n",
       "      <td>0</td>\n",
       "      <td>0</td>\n",
       "      <td>0</td>\n",
       "      <td>0</td>\n",
       "      <td>0</td>\n",
       "    </tr>\n",
       "    <tr>\n",
       "      <th>3</th>\n",
       "      <td>cfg_raw_cam_02_fhd_h265_20230610T151001.mkv</td>\n",
       "      <td>1122</td>\n",
       "      <td>-1</td>\n",
       "      <td>02</td>\n",
       "      <td>2023-06-10 15:10:01</td>\n",
       "      <td>0</td>\n",
       "      <td>0</td>\n",
       "      <td>0</td>\n",
       "      <td>0</td>\n",
       "      <td>0</td>\n",
       "    </tr>\n",
       "    <tr>\n",
       "      <th>4</th>\n",
       "      <td>cfg_raw_cam_01_fhd_h265_20230609T105000.mkv</td>\n",
       "      <td>576</td>\n",
       "      <td>-1</td>\n",
       "      <td>01</td>\n",
       "      <td>2023-06-09 10:50:00</td>\n",
       "      <td>0</td>\n",
       "      <td>0</td>\n",
       "      <td>0</td>\n",
       "      <td>0</td>\n",
       "      <td>0</td>\n",
       "    </tr>\n",
       "    <tr>\n",
       "      <th>...</th>\n",
       "      <td>...</td>\n",
       "      <td>...</td>\n",
       "      <td>...</td>\n",
       "      <td>...</td>\n",
       "      <td>...</td>\n",
       "      <td>...</td>\n",
       "      <td>...</td>\n",
       "      <td>...</td>\n",
       "      <td>...</td>\n",
       "      <td>...</td>\n",
       "    </tr>\n",
       "    <tr>\n",
       "      <th>2995</th>\n",
       "      <td>cfg_raw_cam_01_fhd_h265_20230609T143001.mkv</td>\n",
       "      <td>1309</td>\n",
       "      <td>-2</td>\n",
       "      <td>01</td>\n",
       "      <td>2023-06-09 14:30:01</td>\n",
       "      <td>0</td>\n",
       "      <td>0</td>\n",
       "      <td>0</td>\n",
       "      <td>0</td>\n",
       "      <td>0</td>\n",
       "    </tr>\n",
       "    <tr>\n",
       "      <th>2996</th>\n",
       "      <td>cfg_raw_cam_01_fhd_h265_20230609T182002.mkv</td>\n",
       "      <td>1258</td>\n",
       "      <td>-2</td>\n",
       "      <td>01</td>\n",
       "      <td>2023-06-09 18:20:02</td>\n",
       "      <td>0</td>\n",
       "      <td>0</td>\n",
       "      <td>0</td>\n",
       "      <td>0</td>\n",
       "      <td>0</td>\n",
       "    </tr>\n",
       "    <tr>\n",
       "      <th>2997</th>\n",
       "      <td>cfg_raw_cam_01_fhd_h265_20230609T162000.mkv</td>\n",
       "      <td>1890</td>\n",
       "      <td>-2</td>\n",
       "      <td>01</td>\n",
       "      <td>2023-06-09 16:20:00</td>\n",
       "      <td>0</td>\n",
       "      <td>0</td>\n",
       "      <td>0</td>\n",
       "      <td>0</td>\n",
       "      <td>0</td>\n",
       "    </tr>\n",
       "    <tr>\n",
       "      <th>2998</th>\n",
       "      <td>cfg_raw_cam_01_fhd_h265_20230609T024002.mkv</td>\n",
       "      <td>257</td>\n",
       "      <td>-2</td>\n",
       "      <td>01</td>\n",
       "      <td>2023-06-09 02:40:02</td>\n",
       "      <td>0</td>\n",
       "      <td>0</td>\n",
       "      <td>0</td>\n",
       "      <td>0</td>\n",
       "      <td>0</td>\n",
       "    </tr>\n",
       "    <tr>\n",
       "      <th>2999</th>\n",
       "      <td>cfg_raw_cam_01_fhd_h265_20230609T111002.mkv</td>\n",
       "      <td>1050</td>\n",
       "      <td>-2</td>\n",
       "      <td>01</td>\n",
       "      <td>2023-06-09 11:10:02</td>\n",
       "      <td>0</td>\n",
       "      <td>0</td>\n",
       "      <td>0</td>\n",
       "      <td>0</td>\n",
       "      <td>0</td>\n",
       "    </tr>\n",
       "  </tbody>\n",
       "</table>\n",
       "<p>3000 rows × 10 columns</p>\n",
       "</div>"
      ],
      "text/plain": [
       "                                         filename  frame_id  label_class  \\\n",
       "0     cfg_raw_cam_01_fhd_h265_20230609T091000.mkv       301           -1   \n",
       "1     cfg_raw_cam_02_fhd_h265_20230609T091002.mkv      1176           -1   \n",
       "2     cfg_raw_cam_02_fhd_h265_20230609T154001.mkv      1806           -1   \n",
       "3     cfg_raw_cam_02_fhd_h265_20230610T151001.mkv      1122           -1   \n",
       "4     cfg_raw_cam_01_fhd_h265_20230609T105000.mkv       576           -1   \n",
       "...                                           ...       ...          ...   \n",
       "2995  cfg_raw_cam_01_fhd_h265_20230609T143001.mkv      1309           -2   \n",
       "2996  cfg_raw_cam_01_fhd_h265_20230609T182002.mkv      1258           -2   \n",
       "2997  cfg_raw_cam_01_fhd_h265_20230609T162000.mkv      1890           -2   \n",
       "2998  cfg_raw_cam_01_fhd_h265_20230609T024002.mkv       257           -2   \n",
       "2999  cfg_raw_cam_01_fhd_h265_20230609T111002.mkv      1050           -2   \n",
       "\n",
       "     camera_id            datetime  x  y  w  h  confidance  \n",
       "0           01 2023-06-09 09:10:00  0  0  0  0           0  \n",
       "1           02 2023-06-09 09:10:02  0  0  0  0           0  \n",
       "2           02 2023-06-09 15:40:01  0  0  0  0           0  \n",
       "3           02 2023-06-10 15:10:01  0  0  0  0           0  \n",
       "4           01 2023-06-09 10:50:00  0  0  0  0           0  \n",
       "...        ...                 ... .. .. .. ..         ...  \n",
       "2995        01 2023-06-09 14:30:01  0  0  0  0           0  \n",
       "2996        01 2023-06-09 18:20:02  0  0  0  0           0  \n",
       "2997        01 2023-06-09 16:20:00  0  0  0  0           0  \n",
       "2998        01 2023-06-09 02:40:02  0  0  0  0           0  \n",
       "2999        01 2023-06-09 11:10:02  0  0  0  0           0  \n",
       "\n",
       "[3000 rows x 10 columns]"
      ]
     },
     "execution_count": 9,
     "metadata": {},
     "output_type": "execute_result"
    }
   ],
   "source": [
    "df = pd.DataFrame(np.concatenate([no_boat_indexes_sample, fp_indexes_sample]))\n",
    "df['filename'] = df[0].apply(lambda x: x[0])\n",
    "df['frame_id'] = df[0].apply(lambda x: x[1])\n",
    "df.drop(columns=[0], inplace=True)\n",
    "df['label_class'] = -2\n",
    "df.iloc[:len(no_boat_indexes_sample), -1] = -1\n",
    "df['camera_id'] = df['filename'].apply(lambda x: '01' if 'cam_01' in x else '02')\n",
    "df['datetime'] = df['filename'].apply(lambda x: x.split('_')[6].replace('.mkv',''))\n",
    "df['datetime'] = pd.to_datetime(df['datetime'], format='%Y%m%dT%H%M%S')\n",
    "for col in ['x', 'y', 'w', 'h', 'confidance']:\n",
    "    df[col] = 0\n",
    "df"
   ]
  },
  {
   "cell_type": "code",
   "execution_count": 11,
   "metadata": {},
   "outputs": [],
   "source": [
    "df[['filename', 'camera_id', 'datetime', 'frame_id', 'label_class', 'x', 'y', 'w', 'h', 'confidance']].to_csv('frames_with_no_boat_for_training.csv', sep=';')"
   ]
  }
 ],
 "metadata": {
  "kernelspec": {
   "display_name": "Python 3 (ipykernel)",
   "language": "python",
   "name": "python3"
  },
  "language_info": {
   "codemirror_mode": {
    "name": "ipython",
    "version": 3
   },
   "file_extension": ".py",
   "mimetype": "text/x-python",
   "name": "python",
   "nbconvert_exporter": "python",
   "pygments_lexer": "ipython3",
   "version": "3.11.0rc1"
  }
 },
 "nbformat": 4,
 "nbformat_minor": 4
}
