{
 "cells": [
  {
   "cell_type": "code",
   "execution_count": null,
   "id": "b2b430ab-b0ef-429b-8273-1867462ac058",
   "metadata": {},
   "outputs": [],
   "source": [
    "import yaml\n",
    "import os\n",
    "import pickle\n",
    "import pandas as pd\n",
    "import numpy as np\n",
    "from tqdm.notebook import trange, tqdm\n",
    "from glob import glob"
   ]
  },
  {
   "cell_type": "code",
   "execution_count": null,
   "id": "644c4562-beef-47b7-915c-9eca06b5c05f",
   "metadata": {},
   "outputs": [],
   "source": [
    "from PIL import Image\n",
    "import cv2 \n",
    "from IPython.display import display"
   ]
  },
  {
   "cell_type": "code",
   "execution_count": null,
   "id": "a1ed944d-7a8e-4dc4-a61a-cb942998347f",
   "metadata": {},
   "outputs": [],
   "source": [
    "from bbox_viz import box_label"
   ]
  },
  {
   "cell_type": "code",
   "execution_count": null,
   "id": "fe0d1fd8-d843-4c24-b854-3c05b7f481b2",
   "metadata": {},
   "outputs": [],
   "source": [
    "CONFIG_PATH = r'../config/config_sumo3.yaml'\n",
    "CAM = '01'"
   ]
  },
  {
   "cell_type": "code",
   "execution_count": null,
   "id": "f92d5c04-dbed-45d8-af5a-dd5605ebcd74",
   "metadata": {},
   "outputs": [],
   "source": [
    "with open(CONFIG_PATH, \"r\") as stream:\n",
    "    try:\n",
    "        config = yaml.safe_load(stream)\n",
    "    except yaml.YAMLError as exc:\n",
    "        print(exc)"
   ]
  },
  {
   "cell_type": "code",
   "execution_count": null,
   "id": "2c3fde7e-3242-43b6-a083-4a79e4b7b148",
   "metadata": {},
   "outputs": [],
   "source": [
    "base_path = os.path.join(config['yolo-dataset']['output-path-raw'], f'Camera_{CAM}')"
   ]
  },
  {
   "cell_type": "code",
   "execution_count": null,
   "id": "338903a4-c751-405a-8be6-1cd0e273f5fc",
   "metadata": {},
   "outputs": [],
   "source": [
    "vw, vh = int(config['yolo-dataset']['video-width']), int(config['yolo-dataset']['video-height'])\n",
    "vw, vh"
   ]
  },
  {
   "cell_type": "code",
   "execution_count": null,
   "id": "4879044b-a244-481b-8544-a2205b06693f",
   "metadata": {},
   "outputs": [],
   "source": [
    "labels, images = glob(os.path.join(base_path, 'labels', '*')), glob(os.path.join(base_path, 'images', '*'))"
   ]
  },
  {
   "cell_type": "code",
   "execution_count": null,
   "id": "0e55ad18-fbc5-4aa4-8c2c-382c5bd43e1c",
   "metadata": {},
   "outputs": [],
   "source": [
    "len(labels)"
   ]
  },
  {
   "cell_type": "code",
   "execution_count": null,
   "id": "41a6c2e9-cda8-4302-a72e-fef302d4ebb8",
   "metadata": {},
   "outputs": [],
   "source": [
    "labels[:5]"
   ]
  },
  {
   "cell_type": "code",
   "execution_count": null,
   "id": "37b8fbf9-8034-4433-ae89-989a327ac5c3",
   "metadata": {},
   "outputs": [],
   "source": [
    "IMG_IDX = 0"
   ]
  },
  {
   "cell_type": "code",
   "execution_count": null,
   "id": "f944fddd-02f3-4bb8-94cf-b7159bf327b8",
   "metadata": {},
   "outputs": [],
   "source": [
    "label = labels[IMG_IDX]"
   ]
  },
  {
   "cell_type": "code",
   "execution_count": null,
   "id": "11def9e3-e81c-4e55-93fc-d7527e3b9753",
   "metadata": {},
   "outputs": [],
   "source": [
    "with open(label, 'r') as f:\n",
    "    line = f.readline().rstrip().split(' ')[1:]\n",
    "\n",
    "box = np.array(line).astype(np.float32)\n",
    "box = np.multiply(box, [vw, vh, vw, vh]).astype(int)\n",
    "box"
   ]
  },
  {
   "cell_type": "code",
   "execution_count": null,
   "id": "36cc3316-e462-4322-a948-b3967920ccf9",
   "metadata": {},
   "outputs": [],
   "source": [
    "image_path = [x for x in images if os.path.basename(label[:-4]) in x]\n",
    "\n",
    "if len(image_path) == 0:\n",
    "    print('NOT FOUND', label)\n",
    "else:\n",
    "    image_path = image_path[0]"
   ]
  },
  {
   "cell_type": "code",
   "execution_count": null,
   "id": "2941c740-7926-4e79-b28a-91a9085b6985",
   "metadata": {
    "scrolled": true
   },
   "outputs": [],
   "source": [
    "image_path"
   ]
  },
  {
   "cell_type": "code",
   "execution_count": null,
   "id": "97c7554d-f00f-4d4c-bb56-c2129d560c0d",
   "metadata": {
    "scrolled": true
   },
   "outputs": [],
   "source": [
    "img = cv2.imread(image_path) # with the OpenCV function imread(), the order of colors is BGR (blue, green, red).\n",
    "box_label(img, box, label='boat', color=(115, 209, 128))\n",
    "\n",
    "# In Pillow, the order of colors is assumed to be RGB (red, green, blue).\n",
    "# As we are using Image.fromarray() of PIL module, we need to convert BGR to RGB.\n",
    "\n",
    "img = cv2.cvtColor(img, cv2.COLOR_BGR2RGB) # Converting BGR to RGB\n",
    "display(Image.fromarray(img))"
   ]
  }
 ],
 "metadata": {
  "kernelspec": {
   "display_name": "Python 3 (ipykernel)",
   "language": "python",
   "name": "python3"
  },
  "language_info": {
   "codemirror_mode": {
    "name": "ipython",
    "version": 3
   },
   "file_extension": ".py",
   "mimetype": "text/x-python",
   "name": "python",
   "nbconvert_exporter": "python",
   "pygments_lexer": "ipython3",
   "version": "3.11.0rc1"
  }
 },
 "nbformat": 4,
 "nbformat_minor": 5
}
