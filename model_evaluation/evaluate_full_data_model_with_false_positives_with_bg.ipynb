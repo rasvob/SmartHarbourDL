{
 "cells": [
  {
   "cell_type": "code",
   "execution_count": 1,
   "metadata": {},
   "outputs": [],
   "source": [
    "import pandas as pd\n",
    "import numpy as np\n",
    "import matplotlib.pyplot as plt\n",
    "\n",
    "import model_evaluation_functions"
   ]
  },
  {
   "cell_type": "code",
   "execution_count": 2,
   "metadata": {},
   "outputs": [],
   "source": [
    "%load_ext autoreload\n",
    "%autoreload 2"
   ]
  },
  {
   "cell_type": "markdown",
   "metadata": {},
   "source": [
    "# Load and clean prediciton data"
   ]
  },
  {
   "cell_type": "code",
   "execution_count": 3,
   "metadata": {},
   "outputs": [
    {
     "name": "stdout",
     "output_type": "stream",
     "text": [
      "shape of loaded data (11492, 11) (127468, 11)\n",
      "Ground truth data:\n",
      "date        camera_id\n",
      "2023-07-07  2            6500\n",
      "2023-07-08  1            4992\n",
      "Name: datetime, dtype: int64\n",
      "YOLO predictions data:\n",
      "date        camera_id\n",
      "2023-07-07  2            105364\n",
      "2023-07-08  1             22104\n",
      "Name: datetime, dtype: int64\n"
     ]
    },
    {
     "data": {
      "text/plain": [
       "((11492, 10), (127468, 10))"
      ]
     },
     "execution_count": 3,
     "metadata": {},
     "output_type": "execute_result"
    }
   ],
   "source": [
    "df_ground_truth = pd.read_csv('../annotations/ground_truth_boat_frames_coco.csv', index_col=0, sep=';')\n",
    "df_yolo_predictions = pd.read_csv('../annotations/yolov8x_full_data_with_bg_train_video_labels.csv', index_col=0, sep=';')\n",
    "\n",
    "df_ground_truth['datetime'] = pd.to_datetime(df_ground_truth.datetime)\n",
    "df_ground_truth['date'] = pd.to_datetime(df_ground_truth.datetime.dt.date, format='%Y-%m-%d')\n",
    "df_yolo_predictions['datetime'] = pd.to_datetime(df_yolo_predictions['datetime'])\n",
    "df_yolo_predictions['date'] = pd.to_datetime(df_yolo_predictions.datetime.dt.date, format='%Y-%m-%d')\n",
    "\n",
    "df_ground_truth = df_ground_truth[df_ground_truth.date.isin(df_yolo_predictions.date.unique())]\n",
    "\n",
    "print('shape of loaded data', df_ground_truth.shape, df_yolo_predictions.shape)\n",
    "print('Ground truth data:')\n",
    "print(df_ground_truth.groupby(['date', 'camera_id']).datetime.count())\n",
    "print('YOLO predictions data:')\n",
    "print(df_yolo_predictions.groupby(['date', 'camera_id']).datetime.count())\n",
    "\n",
    "# crop bounding boxes from right side of camera 2 field of view\n",
    "# df_yolo_predictions.drop(index=df_yolo_predictions[(df_yolo_predictions.camera_id == 2) & (df_yolo_predictions.x > 1800)].index, inplace=True)\n",
    "# df_ground_truth.drop(index=df_ground_truth[(df_ground_truth.camera_id == 2) & (df_ground_truth.x > 1800)].index, inplace=True)\n",
    "\n",
    "df_ground_truth.set_index('filename', inplace=True)\n",
    "df_yolo_predictions.set_index('filename', inplace=True)\n",
    "\n",
    "df_ground_truth.shape, df_yolo_predictions.shape"
   ]
  },
  {
   "cell_type": "code",
   "execution_count": 4,
   "metadata": {},
   "outputs": [],
   "source": [
    "# transform coords to xmin, ymin, xmax, ymax\n",
    "df_ground_truth['xmin'] = (df_ground_truth['x'] - df_ground_truth['w']/2).astype(int)\n",
    "df_ground_truth['ymin'] = (df_ground_truth['y'] - df_ground_truth['h']/2).astype(int)\n",
    "df_ground_truth['xmax'] = (df_ground_truth['x'] + df_ground_truth['w']/2).astype(int)\n",
    "df_ground_truth['ymax'] = (df_ground_truth['y'] + df_ground_truth['h']/2).astype(int)\n",
    "df_yolo_predictions['xmin'] = (df_yolo_predictions['x'] - df_yolo_predictions['w']/2).astype(int)\n",
    "df_yolo_predictions['ymin'] = (df_yolo_predictions['y'] - df_yolo_predictions['h']/2).astype(int)\n",
    "df_yolo_predictions['xmax'] = (df_yolo_predictions['x'] + df_yolo_predictions['w']/2).astype(int)\n",
    "df_yolo_predictions['ymax'] = (df_yolo_predictions['y'] + df_yolo_predictions['h']/2).astype(int)"
   ]
  },
  {
   "cell_type": "code",
   "execution_count": 5,
   "metadata": {},
   "outputs": [
    {
     "name": "stdout",
     "output_type": "stream",
     "text": [
      "How many prediction were under the bank?\n",
      "under_the_bank\n",
      "False    127468\n",
      "Name: count, dtype: int64\n",
      "YOLO predictions filtered data:\n",
      "date        camera_id\n",
      "2023-07-07  2            105364\n",
      "2023-07-08  1             22104\n",
      "Name: datetime, dtype: int64\n"
     ]
    }
   ],
   "source": [
    "# filter out predicitons in the bank on camera 1; use a line to define the bank in the camera 1 field of view\n",
    "point1_cam01_bank = (489, 591)\n",
    "point2_cam01_bank = (1499, 875)\n",
    "slope_cam01_bank = (point2_cam01_bank[1] - point1_cam01_bank[1]) / (point2_cam01_bank[0] - point1_cam01_bank[0])\n",
    "intercept_cam01_bank = point1_cam01_bank[1] - slope_cam01_bank * point1_cam01_bank[0]\n",
    "\n",
    "def under_the_bank_apply(row):\n",
    "    if row.camera_id == 1 and row.x >= point1_cam01_bank[0] and row.x <= point2_cam01_bank[0]:\n",
    "        if row.y > (slope_cam01_bank * row.x + intercept_cam01_bank):\n",
    "            return True        \n",
    "    return False\n",
    "        \n",
    "df_yolo_predictions['under_the_bank'] = df_yolo_predictions.apply(under_the_bank_apply, axis=1)\n",
    "print('How many prediction were under the bank?')\n",
    "print(df_yolo_predictions['under_the_bank'].value_counts())\n",
    "df_yolo_predictions = df_yolo_predictions[df_yolo_predictions.under_the_bank == False].copy()\n",
    "print('YOLO predictions filtered data:')\n",
    "print(df_yolo_predictions.groupby(['date', 'camera_id']).datetime.count())"
   ]
  },
  {
   "cell_type": "code",
   "execution_count": 6,
   "metadata": {},
   "outputs": [
    {
     "data": {
      "text/plain": [
       "((4992, 14), (22104, 15), (6500, 14), (105364, 15))"
      ]
     },
     "execution_count": 6,
     "metadata": {},
     "output_type": "execute_result"
    }
   ],
   "source": [
    "df_ground_truth_cam1 = df_ground_truth[df_ground_truth['camera_id'] == 1]\n",
    "df_prediction_cam_1 = df_yolo_predictions[df_yolo_predictions['camera_id'] == 1]\n",
    "df_ground_truth_cam2 = df_ground_truth[df_ground_truth['camera_id'] == 2]\n",
    "df_prediction_cam_2 = df_yolo_predictions[df_yolo_predictions['camera_id'] == 2]\n",
    "df_ground_truth_cam1.shape, df_prediction_cam_1.shape, df_ground_truth_cam2.shape, df_prediction_cam_2.shape"
   ]
  },
  {
   "cell_type": "markdown",
   "metadata": {},
   "source": [
    "# Evaluation of precision and recall for detected frame_ids"
   ]
  },
  {
   "cell_type": "markdown",
   "metadata": {},
   "source": [
    "before cam2 >1800 filtration\n",
    "\n",
    "{'f1': 0.18191988154972444,\n",
    " 'recall': 0.9799716412619638,\n",
    " 'precision': 0.10026657962026005,\n",
    " 'iou': 0.7545292423621479}\n",
    "\n",
    "{'mAP_0.5_11points': 0.25194466,\n",
    " 'mAP_0.5_all_points': 0.2467102,\n",
    " 'mAP_0.5_0.95_101points': 0.13477196}\n",
    "\n",
    "after cam2 >1800 filtration\n",
    "\n",
    "{'f1': 0.24955827838277922,\n",
    " 'recall': 0.97844788553835,\n",
    " 'precision': 0.143017868960953,\n",
    " 'iou': 0.7568439903162304}\n",
    "\n",
    "{'mAP_0.5_11points': 0.33203986,\n",
    " 'mAP_0.5_all_points': 0.3046532,\n",
    " 'mAP_0.5_0.95_101points': 0.16641793}"
   ]
  },
  {
   "cell_type": "code",
   "execution_count": 7,
   "metadata": {},
   "outputs": [
    {
     "name": "stderr",
     "output_type": "stream",
     "text": [
      "100%|███████████████████████████████████████████████████████████████████████████████████████████████████████████████████████████████████████████████████| 150/150 [00:18<00:00,  8.23it/s]\n"
     ]
    },
    {
     "data": {
      "text/plain": [
       "{'f1': 0.1793377074237583,\n",
       " 'recall': 0.9774016306274371,\n",
       " 'precision': 0.09872620017365928,\n",
       " 'iou': 0.0}"
      ]
     },
     "execution_count": 7,
     "metadata": {},
     "output_type": "execute_result"
    }
   ],
   "source": [
    "df_evaluation, total_evaluation_dict = model_evaluation_functions.evaluate_model_frame_ids_score(df_ground_truth, df_yolo_predictions)\n",
    "total_evaluation_dict"
   ]
  },
  {
   "cell_type": "code",
   "execution_count": 8,
   "metadata": {},
   "outputs": [],
   "source": [
    "df_evaluation.to_csv('data_evaluation_full_data_with_bg_with_false_positive.csv', sep=';')"
   ]
  },
  {
   "cell_type": "code",
   "execution_count": 9,
   "metadata": {},
   "outputs": [
    {
     "name": "stderr",
     "output_type": "stream",
     "text": [
      "  0%|                                                                                                                                                              | 0/84 [00:00<?, ?it/s]Process Process-2:\n",
      "Traceback (most recent call last):\n",
      "  File \"/usr/lib/python3.11/multiprocessing/process.py\", line 314, in _bootstrap\n",
      "    self.run()\n",
      "  File \"/usr/lib/python3.11/multiprocessing/process.py\", line 108, in run\n",
      "    self._target(*self._args, **self._kwargs)\n",
      "  File \"/data/public/svo0175/SmartHarbourDL/venv/lib/python3.11/site-packages/mean_average_precision/multiprocessing.py\", line 117, in _proc_loop\n",
      "    metric_fn.add(preds, gt)\n",
      "  File \"<string>\", line 2, in add\n",
      "  File \"/usr/lib/python3.11/multiprocessing/managers.py\", line 837, in _callmethod\n",
      "    raise convert_to_error(kind, result)\n",
      "  1%|█▊                                                                                                                                                    | 1/84 [00:00<00:10,  8.20it/s]AttributeError: 'DataFrame' object has no attribute 'append'\n",
      "100%|█████████████████████████████████████████████████████████████████████████████████████████████████████████████████████████████████████████████████████| 84/84 [00:22<00:00,  3.68it/s]\n"
     ]
    },
    {
     "data": {
      "text/plain": [
       "{'mAP_0.5_11points': 0.0,\n",
       " 'mAP_0.5_all_points': 0.0,\n",
       " 'mAP_0.5_0.95_101points': 0.0}"
      ]
     },
     "execution_count": 9,
     "metadata": {},
     "output_type": "execute_result"
    }
   ],
   "source": [
    "model_evaluation_functions.evaluate_mAP(df_ground_truth, df_yolo_predictions)"
   ]
  },
  {
   "cell_type": "code",
   "execution_count": 10,
   "metadata": {},
   "outputs": [
    {
     "name": "stderr",
     "output_type": "stream",
     "text": [
      "100%|█████████████████████████████████████████████████████████████████████████████████████████████████████████████████████████████████████████████████████| 56/56 [00:07<00:00,  7.84it/s]\n"
     ]
    },
    {
     "data": {
      "text/plain": [
       "{'f1': 0.3906907650408517,\n",
       " 'recall': 0.9732730263157895,\n",
       " 'precision': 0.24439855446566855,\n",
       " 'iou': 0.0}"
      ]
     },
     "execution_count": 10,
     "metadata": {},
     "output_type": "execute_result"
    }
   ],
   "source": [
    "df_evaluation, total_evaluation_dict = model_evaluation_functions.evaluate_model_frame_ids_score(df_ground_truth_cam1, df_prediction_cam_1)\n",
    "total_evaluation_dict"
   ]
  },
  {
   "cell_type": "code",
   "execution_count": 11,
   "metadata": {},
   "outputs": [
    {
     "name": "stderr",
     "output_type": "stream",
     "text": [
      "  0%|                                                                                                                                                              | 0/33 [00:00<?, ?it/s]Process Process-4:\n",
      "  File \"/usr/lib/python3.11/multiprocessing/process.py\", line 314, in _bootstrap\n",
      "    self.run()\n",
      "Traceback (most recent call last):\n",
      "  File \"/usr/lib/python3.11/multiprocessing/process.py\", line 108, in run\n",
      "    self._target(*self._args, **self._kwargs)\n",
      "  File \"/data/public/svo0175/SmartHarbourDL/venv/lib/python3.11/site-packages/mean_average_precision/multiprocessing.py\", line 117, in _proc_loop\n",
      "    metric_fn.add(preds, gt)\n",
      "  6%|█████████                                                                                                                                             | 2/33 [00:00<00:01, 19.27it/s]  File \"<string>\", line 2, in add\n",
      "  File \"/usr/lib/python3.11/multiprocessing/managers.py\", line 837, in _callmethod\n",
      "    raise convert_to_error(kind, result)\n",
      "AttributeError: 'DataFrame' object has no attribute 'append'\n",
      "100%|█████████████████████████████████████████████████████████████████████████████████████████████████████████████████████████████████████████████████████| 33/33 [00:05<00:00,  5.74it/s]\n"
     ]
    },
    {
     "data": {
      "text/plain": [
       "{'mAP_0.5_11points': 0.0,\n",
       " 'mAP_0.5_all_points': 0.0,\n",
       " 'mAP_0.5_0.95_101points': 0.0}"
      ]
     },
     "execution_count": 11,
     "metadata": {},
     "output_type": "execute_result"
    }
   ],
   "source": [
    "model_evaluation_functions.evaluate_mAP(df_ground_truth_cam1, df_prediction_cam_1)"
   ]
  },
  {
   "cell_type": "code",
   "execution_count": 12,
   "metadata": {},
   "outputs": [
    {
     "name": "stderr",
     "output_type": "stream",
     "text": [
      "100%|█████████████████████████████████████████████████████████████████████████████████████████████████████████████████████████████████████████████████████| 94/94 [00:10<00:00,  9.03it/s]\n"
     ]
    },
    {
     "data": {
      "text/plain": [
       "{'f1': 0.12747688911839455,\n",
       " 'recall': 0.9805295950155763,\n",
       " 'precision': 0.06816975840074505,\n",
       " 'iou': 0.0}"
      ]
     },
     "execution_count": 12,
     "metadata": {},
     "output_type": "execute_result"
    }
   ],
   "source": [
    "df_evaluation, total_evaluation_dict = model_evaluation_functions.evaluate_model_frame_ids_score(df_ground_truth_cam2, df_prediction_cam_2)\n",
    "total_evaluation_dict"
   ]
  },
  {
   "cell_type": "code",
   "execution_count": 13,
   "metadata": {},
   "outputs": [
    {
     "name": "stderr",
     "output_type": "stream",
     "text": [
      "  0%|                                                                                                                                                              | 0/51 [00:00<?, ?it/s]Process Process-6:\n",
      "  File \"<string>\", line 2, in add\n",
      "Traceback (most recent call last):\n",
      "  File \"/usr/lib/python3.11/multiprocessing/process.py\", line 314, in _bootstrap\n",
      "    self.run()\n",
      "  File \"/usr/lib/python3.11/multiprocessing/process.py\", line 108, in run\n",
      "    self._target(*self._args, **self._kwargs)\n",
      "  File \"/data/public/svo0175/SmartHarbourDL/venv/lib/python3.11/site-packages/mean_average_precision/multiprocessing.py\", line 117, in _proc_loop\n",
      "    metric_fn.add(preds, gt)\n",
      "  File \"/usr/lib/python3.11/multiprocessing/managers.py\", line 837, in _callmethod\n",
      "    raise convert_to_error(kind, result)\n",
      "AttributeError: 'DataFrame' object has no attribute 'append'\n",
      "100%|█████████████████████████████████████████████████████████████████████████████████████████████████████████████████████████████████████████████████████| 51/51 [00:17<00:00,  2.97it/s]\n"
     ]
    },
    {
     "data": {
      "text/plain": [
       "{'mAP_0.5_11points': 0.0,\n",
       " 'mAP_0.5_all_points': 0.0,\n",
       " 'mAP_0.5_0.95_101points': 0.0}"
      ]
     },
     "execution_count": 13,
     "metadata": {},
     "output_type": "execute_result"
    }
   ],
   "source": [
    "model_evaluation_functions.evaluate_mAP(df_ground_truth_cam2, df_prediction_cam_2)"
   ]
  },
  {
   "cell_type": "markdown",
   "metadata": {},
   "source": [
    "## Use validation part of data and only a filter images with known ground truth"
   ]
  },
  {
   "cell_type": "code",
   "execution_count": 14,
   "metadata": {},
   "outputs": [
    {
     "data": {
      "text/plain": [
       "((11492, 13), (13700, 14))"
      ]
     },
     "execution_count": 14,
     "metadata": {},
     "output_type": "execute_result"
    }
   ],
   "source": [
    "df_ground_truth_filtered = df_ground_truth[(df_ground_truth.date == '2023-07-07') | (df_ground_truth.date == '2023-07-08')].reset_index().set_index(['filename', 'frame_id'])\n",
    "df_yolo_predictions_filtered = df_yolo_predictions.reset_index().set_index(['filename', 'frame_id'])\n",
    "df_yolo_predictions_filtered = df_yolo_predictions_filtered.loc[df_ground_truth_filtered.index.intersection(df_yolo_predictions_filtered.index)]\n",
    "df_ground_truth_filtered.shape, df_yolo_predictions_filtered.shape"
   ]
  },
  {
   "cell_type": "code",
   "execution_count": 15,
   "metadata": {},
   "outputs": [],
   "source": [
    "df_ground_truth_filtered = df_ground_truth_filtered.reset_index().set_index('filename')\n",
    "df_yolo_predictions_filtered = df_yolo_predictions_filtered.reset_index().set_index('filename')\n",
    "df_ground_truth_filtered_cam1 = df_ground_truth_filtered[df_ground_truth_filtered['camera_id'] == 1]\n",
    "df_prediction_filtered_cam_1 = df_yolo_predictions_filtered[df_yolo_predictions_filtered['camera_id'] == 1]\n",
    "df_ground_truth_filtered_cam2 = df_ground_truth_filtered[df_ground_truth_filtered['camera_id'] == 2]\n",
    "df_prediction_filtered_cam_2 = df_yolo_predictions_filtered[df_yolo_predictions_filtered['camera_id'] == 2]"
   ]
  },
  {
   "cell_type": "code",
   "execution_count": 16,
   "metadata": {},
   "outputs": [
    {
     "name": "stderr",
     "output_type": "stream",
     "text": [
      "100%|█████████████████████████████████████████████████████████████████████████████████████████████████████████████████████████████████████████████████████| 84/84 [00:14<00:00,  5.89it/s]\n"
     ]
    },
    {
     "data": {
      "text/plain": [
       "{'f1': 0.9885716846681307,\n",
       " 'recall': 0.9774016306274371,\n",
       " 'precision': 1.0,\n",
       " 'iou': 0.0}"
      ]
     },
     "execution_count": 16,
     "metadata": {},
     "output_type": "execute_result"
    }
   ],
   "source": [
    "df_evaluation, total_evaluation_dict = model_evaluation_functions.evaluate_model_frame_ids_score(df_ground_truth_filtered, df_yolo_predictions_filtered)\n",
    "total_evaluation_dict"
   ]
  },
  {
   "cell_type": "code",
   "execution_count": 17,
   "metadata": {},
   "outputs": [
    {
     "name": "stderr",
     "output_type": "stream",
     "text": [
      "  0%|                                                                                                                                                              | 0/84 [00:00<?, ?it/s]Process Process-8:\n",
      "Traceback (most recent call last):\n",
      "  File \"/usr/lib/python3.11/multiprocessing/process.py\", line 314, in _bootstrap\n",
      "    self.run()\n",
      "  File \"/usr/lib/python3.11/multiprocessing/process.py\", line 108, in run\n",
      "    self._target(*self._args, **self._kwargs)\n",
      "  File \"/data/public/svo0175/SmartHarbourDL/venv/lib/python3.11/site-packages/mean_average_precision/multiprocessing.py\", line 117, in _proc_loop\n",
      "    metric_fn.add(preds, gt)\n",
      "  File \"<string>\", line 2, in add\n",
      "  File \"/usr/lib/python3.11/multiprocessing/managers.py\", line 837, in _callmethod\n",
      "    raise convert_to_error(kind, result)\n",
      "AttributeError: 'DataFrame' object has no attribute 'append'\n",
      "100%|█████████████████████████████████████████████████████████████████████████████████████████████████████████████████████████████████████████████████████| 84/84 [00:08<00:00, 10.30it/s]\n"
     ]
    },
    {
     "data": {
      "text/plain": [
       "{'mAP_0.5_11points': 0.0,\n",
       " 'mAP_0.5_all_points': 0.0,\n",
       " 'mAP_0.5_0.95_101points': 0.0}"
      ]
     },
     "execution_count": 17,
     "metadata": {},
     "output_type": "execute_result"
    }
   ],
   "source": [
    "model_evaluation_functions.evaluate_mAP(df_ground_truth_filtered, df_yolo_predictions_filtered)"
   ]
  },
  {
   "cell_type": "code",
   "execution_count": 18,
   "metadata": {},
   "outputs": [
    {
     "name": "stderr",
     "output_type": "stream",
     "text": [
      "100%|█████████████████████████████████████████████████████████████████████████████████████████████████████████████████████████████████████████████████████| 33/33 [00:06<00:00,  5.35it/s]\n"
     ]
    },
    {
     "data": {
      "text/plain": [
       "{'f1': 0.9864555115649094,\n",
       " 'recall': 0.9732730263157895,\n",
       " 'precision': 1.0,\n",
       " 'iou': 0.0}"
      ]
     },
     "execution_count": 18,
     "metadata": {},
     "output_type": "execute_result"
    }
   ],
   "source": [
    "df_evaluation, total_evaluation_dict = model_evaluation_functions.evaluate_model_frame_ids_score(df_ground_truth_filtered_cam1, df_prediction_filtered_cam_1)\n",
    "total_evaluation_dict"
   ]
  },
  {
   "cell_type": "code",
   "execution_count": 19,
   "metadata": {},
   "outputs": [
    {
     "name": "stderr",
     "output_type": "stream",
     "text": [
      "  0%|                                                                                                                                                              | 0/33 [00:00<?, ?it/s]Process Process-10:\n",
      "AttributeError: 'DataFrame' object has no attribute 'append'\n",
      "Traceback (most recent call last):\n",
      "  File \"/usr/lib/python3.11/multiprocessing/process.py\", line 314, in _bootstrap\n",
      "    self.run()\n",
      "  File \"/usr/lib/python3.11/multiprocessing/process.py\", line 108, in run\n",
      "    self._target(*self._args, **self._kwargs)\n",
      "  9%|█████████████▋                                                                                                                                        | 3/33 [00:00<00:01, 15.35it/s]  File \"/data/public/svo0175/SmartHarbourDL/venv/lib/python3.11/site-packages/mean_average_precision/multiprocessing.py\", line 117, in _proc_loop\n",
      "    metric_fn.add(preds, gt)\n",
      "  File \"<string>\", line 2, in add\n",
      "  File \"/usr/lib/python3.11/multiprocessing/managers.py\", line 837, in _callmethod\n",
      "    raise convert_to_error(kind, result)\n",
      "100%|█████████████████████████████████████████████████████████████████████████████████████████████████████████████████████████████████████████████████████| 33/33 [00:03<00:00,  9.02it/s]\n"
     ]
    },
    {
     "data": {
      "text/plain": [
       "{'mAP_0.5_11points': 0.0,\n",
       " 'mAP_0.5_all_points': 0.0,\n",
       " 'mAP_0.5_0.95_101points': 0.0}"
      ]
     },
     "execution_count": 19,
     "metadata": {},
     "output_type": "execute_result"
    }
   ],
   "source": [
    "model_evaluation_functions.evaluate_mAP(df_ground_truth_filtered_cam1, df_prediction_filtered_cam_1)"
   ]
  },
  {
   "cell_type": "code",
   "execution_count": 20,
   "metadata": {},
   "outputs": [
    {
     "name": "stderr",
     "output_type": "stream",
     "text": [
      "100%|█████████████████████████████████████████████████████████████████████████████████████████████████████████████████████████████████████████████████████| 51/51 [00:08<00:00,  6.23it/s]\n"
     ]
    },
    {
     "data": {
      "text/plain": [
       "{'f1': 0.9901690916240661,\n",
       " 'recall': 0.9805295950155763,\n",
       " 'precision': 1.0,\n",
       " 'iou': 0.0}"
      ]
     },
     "execution_count": 20,
     "metadata": {},
     "output_type": "execute_result"
    }
   ],
   "source": [
    "df_evaluation, total_evaluation_dict = model_evaluation_functions.evaluate_model_frame_ids_score(df_ground_truth_filtered_cam2, df_prediction_filtered_cam_2)\n",
    "total_evaluation_dict"
   ]
  },
  {
   "cell_type": "code",
   "execution_count": 21,
   "metadata": {},
   "outputs": [
    {
     "name": "stderr",
     "output_type": "stream",
     "text": [
      "  0%|                                                                                                                                                              | 0/51 [00:00<?, ?it/s]Process Process-12:\n",
      "  File \"/usr/lib/python3.11/multiprocessing/process.py\", line 108, in run\n",
      "    self._target(*self._args, **self._kwargs)\n",
      "Traceback (most recent call last):\n",
      "  File \"/usr/lib/python3.11/multiprocessing/process.py\", line 314, in _bootstrap\n",
      "    self.run()\n",
      "  File \"/data/public/svo0175/SmartHarbourDL/venv/lib/python3.11/site-packages/mean_average_precision/multiprocessing.py\", line 117, in _proc_loop\n",
      "    metric_fn.add(preds, gt)\n",
      "  File \"<string>\", line 2, in add\n",
      "  File \"/usr/lib/python3.11/multiprocessing/managers.py\", line 837, in _callmethod\n",
      "    raise convert_to_error(kind, result)\n",
      "AttributeError: 'DataFrame' object has no attribute 'append'\n",
      "100%|█████████████████████████████████████████████████████████████████████████████████████████████████████████████████████████████████████████████████████| 51/51 [00:04<00:00, 10.66it/s]\n"
     ]
    },
    {
     "data": {
      "text/plain": [
       "{'mAP_0.5_11points': 0.0,\n",
       " 'mAP_0.5_all_points': 0.0,\n",
       " 'mAP_0.5_0.95_101points': 0.0}"
      ]
     },
     "execution_count": 21,
     "metadata": {},
     "output_type": "execute_result"
    }
   ],
   "source": [
    "model_evaluation_functions.evaluate_mAP(df_ground_truth_filtered_cam2, df_prediction_filtered_cam_2)"
   ]
  },
  {
   "cell_type": "markdown",
   "metadata": {},
   "source": [
    "# Confidence values evaluation"
   ]
  },
  {
   "cell_type": "code",
   "execution_count": 22,
   "metadata": {},
   "outputs": [
    {
     "name": "stdout",
     "output_type": "stream",
     "text": [
      "Confidence threshold 0.25\n"
     ]
    },
    {
     "name": "stderr",
     "output_type": "stream",
     "text": [
      "100%|███████████████████████████████████████████████████████████████████████████████████████████████████████████████████████████████████████████████████| 150/150 [00:18<00:00,  8.19it/s]\n"
     ]
    },
    {
     "name": "stdout",
     "output_type": "stream",
     "text": [
      "{'f1': 0.1793377074237583, 'recall': 0.9774016306274371, 'precision': 0.09872620017365928, 'iou': 0.0}\n",
      "Confidence threshold 0.5\n"
     ]
    },
    {
     "name": "stderr",
     "output_type": "stream",
     "text": [
      "100%|███████████████████████████████████████████████████████████████████████████████████████████████████████████████████████████████████████████████████| 116/116 [00:14<00:00,  7.93it/s]\n"
     ]
    },
    {
     "name": "stdout",
     "output_type": "stream",
     "text": [
      "{'f1': 0.5775652366209642, 'recall': 0.9258241758241759, 'precision': 0.4196930740800257, 'iou': 0.0}\n",
      "Confidence threshold 0.75\n"
     ]
    },
    {
     "name": "stderr",
     "output_type": "stream",
     "text": [
      "100%|█████████████████████████████████████████████████████████████████████████████████████████████████████████████████████████████████████████████████████| 90/90 [00:10<00:00,  8.92it/s]\n"
     ]
    },
    {
     "name": "stdout",
     "output_type": "stream",
     "text": [
      "{'f1': 0.6804926643723963, 'recall': 0.6658986175115207, 'precision': 0.6957407407407408, 'iou': 0.0}\n",
      "Confidence threshold 0.9\n"
     ]
    },
    {
     "name": "stderr",
     "output_type": "stream",
     "text": [
      "100%|█████████████████████████████████████████████████████████████████████████████████████████████████████████████████████████████████████████████████████| 87/87 [00:03<00:00, 24.09it/s]"
     ]
    },
    {
     "name": "stdout",
     "output_type": "stream",
     "text": [
      "{'f1': 0.3780883806296767, 'recall': 0.23732718894009217, 'precision': 0.9292158223455933, 'iou': 0.0}\n"
     ]
    },
    {
     "name": "stderr",
     "output_type": "stream",
     "text": [
      "\n"
     ]
    }
   ],
   "source": [
    "confidence_threshold_evaluation_dict = dict()\n",
    "for confidence_threshold in [0.25, 0.5, 0.75, 0.9]:\n",
    "    print('Confidence threshold', confidence_threshold)\n",
    "    df_evaluation, total_evaluation_dict = model_evaluation_functions.evaluate_model_frame_ids_score(df_ground_truth, df_yolo_predictions[df_yolo_predictions.confidence >= confidence_threshold])    \n",
    "    print(total_evaluation_dict)\n",
    "    # df_evaluation.to_csv(f'data_evaluation_conf{confidence_threshold}.csv', sep=';')\n",
    "    confidence_threshold_evaluation_dict[confidence_threshold] = total_evaluation_dict"
   ]
  },
  {
   "cell_type": "code",
   "execution_count": 23,
   "metadata": {},
   "outputs": [
    {
     "data": {
      "text/plain": [
       "Text(0, 0.5, 'Recall')"
      ]
     },
     "execution_count": 23,
     "metadata": {},
     "output_type": "execute_result"
    },
    {
     "data": {
      "image/png": "[encoded data removed]",
      "text/plain": [
       "<Figure size 640x480 with 1 Axes>"
      ]
     },
     "metadata": {},
     "output_type": "display_data"
    }
   ],
   "source": [
    "plt.plot(confidence_threshold_evaluation_dict.keys(), [total_evaluation_dict['recall'] for total_evaluation_dict in confidence_threshold_evaluation_dict.values()], 'x-')\n",
    "plt.xlabel('Confidence threshold')\n",
    "plt.ylabel('Recall')"
   ]
  },
  {
   "cell_type": "code",
   "execution_count": 24,
   "metadata": {},
   "outputs": [
    {
     "data": {
      "text/plain": [
       "Text(0, 0.5, 'F1')"
      ]
     },
     "execution_count": 24,
     "metadata": {},
     "output_type": "execute_result"
    },
    {
     "data": {
      "image/png": "[encoded data removed]",
      "text/plain": [
       "<Figure size 640x480 with 1 Axes>"
      ]
     },
     "metadata": {},
     "output_type": "display_data"
    }
   ],
   "source": [
    "plt.plot(confidence_threshold_evaluation_dict.keys(), [total_evaluation_dict['f1'] for total_evaluation_dict in confidence_threshold_evaluation_dict.values()], 'x-')\n",
    "plt.xlabel('Confidence threshold')\n",
    "plt.ylabel('F1')"
   ]
  },
  {
   "cell_type": "code",
   "execution_count": 25,
   "metadata": {},
   "outputs": [
    {
     "data": {
      "text/plain": [
       "Text(0, 0.5, 'Precision')"
      ]
     },
     "execution_count": 25,
     "metadata": {},
     "output_type": "execute_result"
    },
    {
     "data": {
      "image/png": "[encoded data removed]",
      "text/plain": [
       "<Figure size 640x480 with 1 Axes>"
      ]
     },
     "metadata": {},
     "output_type": "display_data"
    }
   ],
   "source": [
    "plt.plot([total_evaluation_dict['recall'] for total_evaluation_dict in confidence_threshold_evaluation_dict.values()], [total_evaluation_dict['precision'] for total_evaluation_dict in confidence_threshold_evaluation_dict.values()], 'x-')\n",
    "plt.xlabel('Recall')\n",
    "plt.ylabel('Precision')"
   ]
  },
  {
   "cell_type": "code",
   "execution_count": 26,
   "metadata": {},
   "outputs": [
    {
     "data": {
      "text/plain": [
       "Text(0, 0.5, 'IOU')"
      ]
     },
     "execution_count": 26,
     "metadata": {},
     "output_type": "execute_result"
    },
    {
     "data": {
      "image/png": "[encoded data removed]",
      "text/plain": [
       "<Figure size 640x480 with 1 Axes>"
      ]
     },
     "metadata": {},
     "output_type": "display_data"
    }
   ],
   "source": [
    "plt.plot(confidence_threshold_evaluation_dict.keys(), [total_evaluation_dict['iou'] for total_evaluation_dict in confidence_threshold_evaluation_dict.values()], 'x-')\n",
    "plt.xlabel('Confidence threshold')\n",
    "plt.ylabel('IOU')"
   ]
  }
 ],
 "metadata": {
  "kernelspec": {
   "display_name": "Python 3 (ipykernel)",
   "language": "python",
   "name": "python3"
  },
  "language_info": {
   "codemirror_mode": {
    "name": "ipython",
    "version": 3
   },
   "file_extension": ".py",
   "mimetype": "text/x-python",
   "name": "python",
   "nbconvert_exporter": "python",
   "pygments_lexer": "ipython3",
   "version": "3.11.0rc1"
  }
 },
 "nbformat": 4,
 "nbformat_minor": 4
}
