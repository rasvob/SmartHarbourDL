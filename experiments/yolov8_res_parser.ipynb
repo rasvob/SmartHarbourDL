{
 "cells": [
  {
   "cell_type": "code",
   "execution_count": null,
   "id": "695fd25e-7e0f-47f4-8cc7-2d2879a91be3",
   "metadata": {},
   "outputs": [],
   "source": [
    "import pandas as pd\n",
    "import numpy as np\n",
    "from glob import glob\n",
    "from tqdm.notebook import tqdm, trange\n",
    "import os\n",
    "import datetime"
   ]
  },
  {
   "cell_type": "code",
   "execution_count": null,
   "id": "e2a14f60-f52a-46fa-8319-659b7884785a",
   "metadata": {},
   "outputs": [],
   "source": [
    "W, H = 1920, 1080"
   ]
  },
  {
   "cell_type": "code",
   "execution_count": null,
   "id": "8e0cf188-243e-467e-a3bb-3e7f46921e45",
   "metadata": {},
   "outputs": [],
   "source": [
    "files = glob('../runs/detect/predict/labels/*') + glob('../runs/detect/predict[234]/labels/*')"
   ]
  },
  {
   "cell_type": "code",
   "execution_count": null,
   "id": "a9bd9eda-e4b6-47fc-9873-e51550ed2127",
   "metadata": {},
   "outputs": [],
   "source": [
    "len(files)"
   ]
  },
  {
   "cell_type": "code",
   "execution_count": null,
   "id": "f02b9ac6-a0ac-4593-ad94-7bf2033fba72",
   "metadata": {},
   "outputs": [],
   "source": [
    "set([x.split('/')[3] for x in files])"
   ]
  },
  {
   "cell_type": "code",
   "execution_count": null,
   "id": "40627fa1-9693-4a9d-a4d3-5358606e1ed5",
   "metadata": {},
   "outputs": [],
   "source": [
    "# files = [x for x in files if 'predict5' not in x and 'predict6' not in x]"
   ]
  },
  {
   "cell_type": "code",
   "execution_count": null,
   "id": "6b8637fe-711c-4433-9ad9-630a99fff61f",
   "metadata": {},
   "outputs": [],
   "source": [
    "len(files)"
   ]
  },
  {
   "cell_type": "code",
   "execution_count": null,
   "id": "59283cc1-bccf-48f9-b522-86aa5170281c",
   "metadata": {
    "scrolled": true
   },
   "outputs": [],
   "source": [
    "files[:5]"
   ]
  },
  {
   "cell_type": "code",
   "execution_count": null,
   "id": "aeefd0f8-50d1-4a30-bf45-a49a02941844",
   "metadata": {
    "scrolled": true
   },
   "outputs": [],
   "source": [
    "# filename, camera_id, datetime, frame_id, label_class, x,y,x,y, confidance   #;;;;\n",
    "coco_cols = ['label_class', 'x', 'y', 'w', 'h', 'confidence']\n",
    "res = []\n",
    "for x in tqdm(files):\n",
    "    bname = os.path.basename(x).replace('.txt', '')\n",
    "    sname = bname.split('_')\n",
    "\n",
    "    video_file = '_'.join(sname[:-1]) + '.mkv'\n",
    "    frame = int(sname[-1])\n",
    "    camera = sname[3]\n",
    "    dt = sname[6]\n",
    "    dt_parsed = datetime.datetime.strptime(dt, \"%Y%m%dT%H%M%S\")\n",
    "    \n",
    "    with open(x, 'r') as file:\n",
    "        lines = [x.rstrip() for x in file.readlines()]\n",
    "        for l in lines:\n",
    "            l_split = l.split(' ')\n",
    "            curr_data = {v: float(l_split[k]) for k, v in enumerate(coco_cols)}\n",
    "            curr_data['filename'] = video_file\n",
    "            curr_data['camera_id'] = camera\n",
    "            curr_data['datetime'] = dt_parsed\n",
    "            curr_data['frame_id'] = frame\n",
    "            res.append(curr_data)\n",
    "\n",
    "df_res = pd.DataFrame.from_records(res).loc[:, ['filename', 'camera_id', 'datetime', 'frame_id', 'label_class', 'x', 'y', 'w', 'h', 'confidence']]\n",
    "df_res['label_class'] = df_res['label_class'].astype(int)\n",
    "df_res"
   ]
  },
  {
   "cell_type": "code",
   "execution_count": null,
   "id": "648f1e89-7766-4a8c-b466-27c2bf647ac9",
   "metadata": {},
   "outputs": [],
   "source": [
    "df_res['frame_id'] = df_res['frame_id'] - 1"
   ]
  },
  {
   "cell_type": "code",
   "execution_count": null,
   "id": "bd0ddbdb-f1d4-4df2-92aa-c831a5f61166",
   "metadata": {},
   "outputs": [],
   "source": [
    "df_res['x'] = (df_res['x'] * W).astype(int)\n",
    "df_res['y'] = (df_res['y'] * H).astype(int)\n",
    "df_res['w'] = (df_res['w'] * W).astype(int)\n",
    "df_res['h'] = (df_res['h'] * H).astype(int)"
   ]
  },
  {
   "cell_type": "code",
   "execution_count": null,
   "id": "79b83d4a-05ed-47be-8485-7d608c21f35b",
   "metadata": {},
   "outputs": [],
   "source": [
    "df_res.head()"
   ]
  },
  {
   "cell_type": "code",
   "execution_count": null,
   "id": "44a9461f-8d2b-4ad5-9dfe-5ec10171a98d",
   "metadata": {},
   "outputs": [],
   "source": [
    "df_res.shape"
   ]
  },
  {
   "cell_type": "code",
   "execution_count": null,
   "id": "a49dcf90-91c9-40e5-98df-04c139ea10a9",
   "metadata": {},
   "outputs": [],
   "source": [
    "df_res.to_csv('../annotations/yolov8x_full_data_train_video_labels.csv', sep=';')"
   ]
  }
 ],
 "metadata": {
  "kernelspec": {
   "display_name": "Python 3 (ipykernel)",
   "language": "python",
   "name": "python3"
  },
  "language_info": {
   "codemirror_mode": {
    "name": "ipython",
    "version": 3
   },
   "file_extension": ".py",
   "mimetype": "text/x-python",
   "name": "python",
   "nbconvert_exporter": "python",
   "pygments_lexer": "ipython3",
   "version": "3.11.0rc1"
  }
 },
 "nbformat": 4,
 "nbformat_minor": 5
}
