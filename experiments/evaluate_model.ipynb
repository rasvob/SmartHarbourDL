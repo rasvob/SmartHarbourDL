{
 "cells": [
  {
   "cell_type": "code",
   "execution_count": 1,
   "metadata": {},
   "outputs": [],
   "source": [
    "import pandas as pd\n",
    "import numpy as np\n",
    "import matplotlib.pyplot as plt\n",
    "import tqdm"
   ]
  },
  {
   "cell_type": "markdown",
   "metadata": {},
   "source": [
    "# Load and clean prediciton data"
   ]
  },
  {
   "cell_type": "code",
   "execution_count": 2,
   "metadata": {},
   "outputs": [
    {
     "name": "stdout",
     "output_type": "stream",
     "text": [
      "shape of loaded data (25443, 11) (826239, 11)\n",
      "Ground truth data:\n",
      "date        camera_id\n",
      "2023-06-09  1            4149\n",
      "            2            3481\n",
      "2023-06-10  2            6321\n",
      "2023-07-07  2            6500\n",
      "2023-07-08  1            4992\n",
      "Name: datetime, dtype: int64\n",
      "YOLO predictions data:\n",
      "date        camera_id\n",
      "2023-06-09  1            214940\n",
      "            2             12452\n",
      "2023-06-10  1            132223\n",
      "            2             28347\n",
      "2023-06-11  1             65558\n",
      "            2              5577\n",
      "2023-07-07  2            189338\n",
      "2023-07-08  1            177804\n",
      "Name: datetime, dtype: int64\n"
     ]
    },
    {
     "data": {
      "text/plain": [
       "((24870, 10), (499154, 10))"
      ]
     },
     "execution_count": 2,
     "metadata": {},
     "output_type": "execute_result"
    }
   ],
   "source": [
    "df_ground_truth = pd.read_csv('../annotations/ground_truth_boat_frames_coco.csv', index_col=0, sep=';')\n",
    "df_yolo_predictions = pd.read_csv('../annotations/yolov8x_no_train_labels.csv', index_col=0, sep=';')\n",
    "\n",
    "df_ground_truth['datetime'] = pd.to_datetime(df_ground_truth.datetime)\n",
    "df_ground_truth['date'] = df_ground_truth.datetime.dt.date\n",
    "df_yolo_predictions['datetime'] = pd.to_datetime(df_yolo_predictions['datetime'])\n",
    "df_yolo_predictions['date'] = pd.to_datetime(df_yolo_predictions.datetime.dt.date, format='%Y-%m-%d')\n",
    "print('shape of loaded data', df_ground_truth.shape, df_yolo_predictions.shape)\n",
    "print('Ground truth data:')\n",
    "print(df_ground_truth.groupby(['date', 'camera_id']).datetime.count())\n",
    "print('YOLO predictions data:')\n",
    "print(df_yolo_predictions.groupby(['date', 'camera_id']).datetime.count())\n",
    "\n",
    "df_yolo_predictions = df_yolo_predictions[\\\n",
    "    ((df_yolo_predictions.date == '2023-06-09') & (df_yolo_predictions.camera_id.isin([1,2]))) |\\\n",
    "    ((df_yolo_predictions.date == '2023-06-10') & (df_yolo_predictions.camera_id == 2)) |\\\n",
    "    ((df_yolo_predictions.date == '2023-07-07') & (df_yolo_predictions.camera_id == 2)) |\\\n",
    "    ((df_yolo_predictions.date == '2023-07-08') & (df_yolo_predictions.camera_id == 1)) \\\n",
    "].copy()\n",
    "\n",
    "# crop bounding boxes from right side of camera 2 field of view\n",
    "df_yolo_predictions.drop(index=df_yolo_predictions[(df_yolo_predictions.camera_id == 2) & (df_yolo_predictions.x > 1800)].index, inplace=True)\n",
    "df_ground_truth.drop(index=df_ground_truth[(df_ground_truth.camera_id == 2) & (df_ground_truth.x > 1800)].index, inplace=True)\n",
    "\n",
    "df_ground_truth.set_index('filename', inplace=True)\n",
    "df_yolo_predictions.set_index('filename', inplace=True)\n",
    "\n",
    "df_ground_truth.shape, df_yolo_predictions.shape"
   ]
  },
  {
   "cell_type": "code",
   "execution_count": 3,
   "metadata": {},
   "outputs": [
    {
     "name": "stdout",
     "output_type": "stream",
     "text": [
      "How many prediction were under the bank?\n",
      "under_the_bank\n",
      "True     378526\n",
      "False    120628\n",
      "Name: count, dtype: int64\n",
      "YOLO predictions filtered data:\n",
      "date        camera_id\n",
      "2023-06-09  1             5607\n",
      "            2            11815\n",
      "2023-06-10  2            27243\n",
      "2023-07-07  2            67352\n",
      "2023-07-08  1             8611\n",
      "Name: datetime, dtype: int64\n"
     ]
    }
   ],
   "source": [
    "# filter out predicitons in the bank on camera 1; use a line to define the bank in the camera 1 field of view\n",
    "point1_cam01_bank = (489, 591)\n",
    "point2_cam01_bank = (1499, 875)\n",
    "slope_cam01_bank = (point2_cam01_bank[1] - point1_cam01_bank[1]) / (point2_cam01_bank[0] - point1_cam01_bank[0])\n",
    "intercept_cam01_bank = point1_cam01_bank[1] - slope_cam01_bank * point1_cam01_bank[0]\n",
    "\n",
    "def under_the_bank_apply(row):\n",
    "    if row.camera_id == 1 and row.x >= point1_cam01_bank[0] and row.x <= point2_cam01_bank[0]:\n",
    "        if row.y > (slope_cam01_bank * row.x + intercept_cam01_bank):\n",
    "            return True        \n",
    "    return False\n",
    "        \n",
    "df_yolo_predictions['under_the_bank'] = df_yolo_predictions.apply(under_the_bank_apply, axis=1)\n",
    "print('How many prediction were under the bank?')\n",
    "print(df_yolo_predictions['under_the_bank'].value_counts())\n",
    "df_yolo_predictions = df_yolo_predictions[df_yolo_predictions.under_the_bank == False].copy()\n",
    "print('YOLO predictions filtered data:')\n",
    "print(df_yolo_predictions.groupby(['date', 'camera_id']).datetime.count())"
   ]
  },
  {
   "cell_type": "markdown",
   "metadata": {},
   "source": [
    "# Evaluation precision recall of detected frame_ids"
   ]
  },
  {
   "cell_type": "code",
   "execution_count": 97,
   "metadata": {},
   "outputs": [],
   "source": [
    "def calculate_iou(ground_truth:tuple, prediction:tuple):\n",
    "    \"\"\"\n",
    "        Calculate intersection over union for two bounding boxes.\n",
    "        Args:\n",
    "            ground_truth: tuple of (x, y, w, h)\n",
    "            prediction: tuple of (x, y, w, h)\n",
    "    \"\"\"\n",
    "    gt_xtl = ground_truth[0]-ground_truth[2]/2\n",
    "    gt_ytl = ground_truth[1]-ground_truth[3]/2\n",
    "    gt_xbr = ground_truth[0]+ground_truth[2]/2\n",
    "    gt_ybr = ground_truth[1]+ground_truth[3]/2\n",
    "    pr_xtl = prediction[0]-prediction[2]/2\n",
    "    pr_ytl = prediction[1]-prediction[3]/2\n",
    "    pr_xbr = prediction[0]+prediction[2]/2\n",
    "    pr_ybr = prediction[1]+prediction[3]/2\n",
    "    intersection_xtl = max(gt_xtl, pr_xtl)\n",
    "    intersection_ytl = max(gt_ytl, pr_ytl)\n",
    "    intersection_xbr = min(gt_xbr, pr_xbr)\n",
    "    intersection_ybr = min(gt_ybr, pr_ybr)\n",
    "    intersection_area = max(0, intersection_xbr - intersection_xtl) * max(0, intersection_ybr - intersection_ytl)\n",
    "    union_area = ground_truth[2] * ground_truth[3] + prediction[2] * prediction[3] - intersection_area\n",
    "    return intersection_area / union_area\n",
    "\n",
    "def evaluate_model(df_ground_truth, df_predictions):\n",
    "    df_predictions_frame_indexed = df_predictions.reset_index().set_index(['filename', 'frame_id'])\n",
    "    # group quality results by name, aggregate over frame_id and calculate true positive, false positive, false negative when comparing corresponding names and frame from both dataset\n",
    "    evaluation_dict = dict()\n",
    "    for id in tqdm.tqdm(set(df_ground_truth.index) | set(df_predictions.index)):\n",
    "        evaluation_dict[id] = dict()\n",
    "\n",
    "        if id in df_ground_truth.index:\n",
    "            if df_ground_truth.loc[id,'frame_id'].size == 1:\n",
    "                ground_truth_frame_ids = set([df_ground_truth.loc[id,'frame_id']])\n",
    "            else:\n",
    "                ground_truth_frame_ids = set(df_ground_truth.loc[id,'frame_id'])\n",
    "        else:\n",
    "            ground_truth_frame_ids = set()\n",
    "\n",
    "        if id in df_predictions.index:\n",
    "            if df_predictions.loc[id,'frame_id'].size == 1:\n",
    "                yolo_frame_ids = set([df_predictions.loc[id,'frame_id']])\n",
    "            else:\n",
    "                yolo_frame_ids = set(df_predictions.loc[id,'frame_id'])\n",
    "        else:\n",
    "            yolo_frame_ids = set()\n",
    "        \n",
    "        corresponding_frames = ground_truth_frame_ids & yolo_frame_ids\n",
    "        evaluation_dict[id]['true_positive'] = len(corresponding_frames)\n",
    "        evaluation_dict[id]['false_positive'] = len(yolo_frame_ids - ground_truth_frame_ids)\n",
    "        evaluation_dict[id]['false_negative'] = len(ground_truth_frame_ids - yolo_frame_ids)\n",
    "        if len(corresponding_frames) > 0:\n",
    "            frames_iou = {}\n",
    "            for frame_id in corresponding_frames:\n",
    "                # calulate iou for each frame\n",
    "                ground_truth_frame = df_ground_truth.loc[id].loc[df_ground_truth.loc[id].frame_id == frame_id].iloc[0]\n",
    "                # prediction_frame = df_predictions.loc[id].loc[df_predictions.loc[id].frame_id == frame_id].sort_values('w', ascending=False).iloc[0] ## this line was computation heavy, therefore indexed version is used\n",
    "                prediciton_frames = df_predictions_frame_indexed.loc[id].loc[frame_id]\n",
    "                if len(prediciton_frames.shape) == 1:\n",
    "                    prediction_frame = prediciton_frames\n",
    "                else:\n",
    "                    prediction_frame = prediciton_frames.sort_values(['confidence', 'w'], ascending=False).iloc[0]\n",
    "                frames_iou[frame_id] = calculate_iou(ground_truth_frame[['x', 'y', 'w', 'h']].values, prediction_frame[['x', 'y', 'w', 'h']].values)\n",
    "            evaluation_dict[id]['iou'] = sum(frames_iou.values()) / len(frames_iou.values())\n",
    "            evaluation_dict[id]['frames_iou'] = frames_iou\n",
    "        else:\n",
    "            evaluation_dict[id]['iou'] = 0\n",
    "            evaluation_dict[id]['frames_iou'] = []\n",
    "\n",
    "    df_evaluation = pd.DataFrame().from_dict(evaluation_dict, orient='index')\n",
    "    df_evaluation['f1'] = 2 * df_evaluation['true_positive'] / (2 * df_evaluation['true_positive'] + df_evaluation['false_positive'] + df_evaluation['false_negative'])\n",
    "    df_evaluation['recall'] = df_evaluation['true_positive'] / (df_evaluation['true_positive'] + df_evaluation['false_negative'])\n",
    "    df_evaluation['precision'] = df_evaluation['true_positive'] / (df_evaluation['true_positive'] + df_evaluation['false_positive'])\n",
    "    \n",
    "    total_eval = df_evaluation[['true_positive','false_positive','false_negative']].sum(axis=0)\n",
    "    total_evaluation_dict = {\n",
    "        'f1': 2*total_eval['true_positive'] / (2*total_eval['true_positive'] + total_eval['false_positive'] + total_eval['false_negative']),\n",
    "        'recall': total_eval['true_positive'] / (total_eval['true_positive'] + total_eval['false_negative']),\n",
    "        'precision': total_eval['true_positive'] / (total_eval['true_positive'] + total_eval['false_positive']),\n",
    "        'iou': (df_evaluation['true_positive']*df_evaluation['iou']).sum() / total_eval['true_positive']\n",
    "    }\n",
    "    return df_evaluation, total_evaluation_dict"
   ]
  },
  {
   "cell_type": "code",
   "execution_count": 98,
   "metadata": {},
   "outputs": [
    {
     "name": "stderr",
     "output_type": "stream",
     "text": [
      "  1%|          | 3/359 [00:00<00:13, 26.46it/s]"
     ]
    },
    {
     "name": "stderr",
     "output_type": "stream",
     "text": [
      "100%|██████████| 359/359 [00:38<00:00,  9.24it/s]\n"
     ]
    },
    {
     "data": {
      "text/plain": [
       "{'f1': 0.361082557144987,\n",
       " 'recall': 0.9386422976501305,\n",
       " 'precision': 0.22353706996220624,\n",
       " 'iou': 0.5550109721575143}"
      ]
     },
     "execution_count": 98,
     "metadata": {},
     "output_type": "execute_result"
    }
   ],
   "source": [
    "df_evaluation, total_evaluation_dict = evaluate_model(df_ground_truth, df_yolo_predictions)\n",
    "total_evaluation_dict"
   ]
  },
  {
   "cell_type": "code",
   "execution_count": 99,
   "metadata": {},
   "outputs": [],
   "source": [
    "df_evaluation.to_csv('data_evaluation.csv', sep=';')"
   ]
  },
  {
   "cell_type": "markdown",
   "metadata": {},
   "source": [
    "# Confidence values evaluation"
   ]
  },
  {
   "cell_type": "code",
   "execution_count": 100,
   "metadata": {},
   "outputs": [
    {
     "name": "stdout",
     "output_type": "stream",
     "text": [
      "Confidence threshold 0.25\n"
     ]
    },
    {
     "name": "stderr",
     "output_type": "stream",
     "text": [
      "  2%|▏         | 8/359 [00:00<00:15, 23.09it/s]"
     ]
    },
    {
     "name": "stderr",
     "output_type": "stream",
     "text": [
      "100%|██████████| 359/359 [00:38<00:00,  9.38it/s]\n"
     ]
    },
    {
     "name": "stdout",
     "output_type": "stream",
     "text": [
      "{'f1': 0.361082557144987, 'recall': 0.9386422976501305, 'precision': 0.22353706996220624, 'iou': 0.5550109721575143}\n",
      "Confidence threshold 0.5\n"
     ]
    },
    {
     "name": "stderr",
     "output_type": "stream",
     "text": [
      "100%|██████████| 256/256 [00:29<00:00,  8.68it/s]\n"
     ]
    },
    {
     "name": "stdout",
     "output_type": "stream",
     "text": [
      "{'f1': 0.3953365678049386, 'recall': 0.7795365535248042, 'precision': 0.26481879287644655, 'iou': 0.5778711179232777}\n",
      "Confidence threshold 0.75\n"
     ]
    },
    {
     "name": "stderr",
     "output_type": "stream",
     "text": [
      "100%|██████████| 217/217 [00:15<00:00, 14.00it/s]\n"
     ]
    },
    {
     "name": "stdout",
     "output_type": "stream",
     "text": [
      "{'f1': 0.43823845327604727, 'recall': 0.4827023498694517, 'precision': 0.4012751814420403, 'iou': 0.6192621243346821}\n",
      "Confidence threshold 0.9\n"
     ]
    },
    {
     "name": "stderr",
     "output_type": "stream",
     "text": [
      "100%|██████████| 202/202 [00:05<00:00, 36.39it/s]"
     ]
    },
    {
     "name": "stdout",
     "output_type": "stream",
     "text": [
      "{'f1': 0.29031706399425383, 'recall': 0.17313968668407312, 'precision': 0.8982010582010582, 'iou': 0.6829156230924763}\n"
     ]
    },
    {
     "name": "stderr",
     "output_type": "stream",
     "text": [
      "\n"
     ]
    }
   ],
   "source": [
    "confidence_threshold_evaluation_dict = dict()\n",
    "for confidence_threshold in [0.25, 0.5, 0.75, 0.9]:\n",
    "    print('Confidence threshold', confidence_threshold)\n",
    "    df_evaluation, total_evaluation_dict = evaluate_model(df_ground_truth, df_yolo_predictions[df_yolo_predictions.confidence >= confidence_threshold])    \n",
    "    print(total_evaluation_dict)\n",
    "    # df_evaluation.to_csv(f'data_evaluation_conf{confidence_threshold}.csv', sep=';')\n",
    "    confidence_threshold_evaluation_dict[confidence_threshold] = total_evaluation_dict"
   ]
  },
  {
   "cell_type": "code",
   "execution_count": 89,
   "metadata": {},
   "outputs": [
    {
     "data": {
      "text/plain": [
       "Text(0, 0.5, 'Recall')"
      ]
     },
     "execution_count": 89,
     "metadata": {},
     "output_type": "execute_result"
    },
    {
     "data": {
      "image/png": "[encoded data removed]",
      "text/plain": [
       "<Figure size 640x480 with 1 Axes>"
      ]
     },
     "metadata": {},
     "output_type": "display_data"
    }
   ],
   "source": [
    "plt.plot(confidence_threshold_evaluation_dict.keys(), [total_evaluation_dict['recall'] for total_evaluation_dict in confidence_threshold_evaluation_dict.values()], 'x-')\n",
    "plt.xlabel('Confidence threshold')\n",
    "plt.ylabel('Recall')"
   ]
  },
  {
   "cell_type": "code",
   "execution_count": 88,
   "metadata": {},
   "outputs": [
    {
     "data": {
      "text/plain": [
       "Text(0, 0.5, 'F1')"
      ]
     },
     "execution_count": 88,
     "metadata": {},
     "output_type": "execute_result"
    },
    {
     "data": {
      "image/png": "[encoded data removed]",
      "text/plain": [
       "<Figure size 640x480 with 1 Axes>"
      ]
     },
     "metadata": {},
     "output_type": "display_data"
    }
   ],
   "source": [
    "plt.plot(confidence_threshold_evaluation_dict.keys(), [total_evaluation_dict['f1'] for total_evaluation_dict in confidence_threshold_evaluation_dict.values()], 'x-')\n",
    "plt.xlabel('Confidence threshold')\n",
    "plt.ylabel('F1')"
   ]
  },
  {
   "cell_type": "code",
   "execution_count": 94,
   "metadata": {},
   "outputs": [
    {
     "data": {
      "text/plain": [
       "Text(0, 0.5, 'IOU')"
      ]
     },
     "execution_count": 94,
     "metadata": {},
     "output_type": "execute_result"
    },
    {
     "data": {
      "image/png": "[encoded data removed]",
      "text/plain": [
       "<Figure size 640x480 with 1 Axes>"
      ]
     },
     "metadata": {},
     "output_type": "display_data"
    }
   ],
   "source": [
    "plt.plot(confidence_threshold_evaluation_dict.keys(), [total_evaluation_dict['iou'] for total_evaluation_dict in confidence_threshold_evaluation_dict.values()], 'x-')\n",
    "plt.xlabel('Confidence threshold')\n",
    "plt.ylabel('IOU')"
   ]
  },
  {
   "cell_type": "markdown",
   "metadata": {},
   "source": [
    "# mAP evaluation\n",
    "- Use https://github.com/bes-dev/mean_average_precision.git for evaluation"
   ]
  },
  {
   "cell_type": "code",
   "execution_count": 21,
   "metadata": {},
   "outputs": [],
   "source": [
    "# transform coords to xmin, ymin, xmax, ymax\n",
    "df_ground_truth['xmin'] = (df_ground_truth['x'] - df_ground_truth['w']/2).astype(int)\n",
    "df_ground_truth['ymin'] = (df_ground_truth['y'] - df_ground_truth['h']/2).astype(int)\n",
    "df_ground_truth['xmax'] = (df_ground_truth['x'] + df_ground_truth['w']/2).astype(int)\n",
    "df_ground_truth['ymax'] = (df_ground_truth['y'] + df_ground_truth['h']/2).astype(int)\n",
    "df_yolo_predictions['xmin'] = (df_yolo_predictions['x'] - df_yolo_predictions['w']/2).astype(int)\n",
    "df_yolo_predictions['ymin'] = (df_yolo_predictions['y'] - df_yolo_predictions['h']/2).astype(int)\n",
    "df_yolo_predictions['xmax'] = (df_yolo_predictions['x'] + df_yolo_predictions['w']/2).astype(int)\n",
    "df_yolo_predictions['ymax'] = (df_yolo_predictions['y'] + df_yolo_predictions['h']/2).astype(int)"
   ]
  },
  {
   "cell_type": "markdown",
   "metadata": {},
   "source": [
    "## Firt evaluation\n",
    "- Evaluation only for videos (10 minutes) with known ground truths and predictions\n",
    "- Missing frames from ground truth or prediction is threated as wrong prediction\n"
   ]
  },
  {
   "cell_type": "code",
   "execution_count": 51,
   "metadata": {},
   "outputs": [
    {
     "name": "stderr",
     "output_type": "stream",
     "text": [
      "  0%|          | 0/193 [00:00<?, ?it/s]"
     ]
    },
    {
     "name": "stderr",
     "output_type": "stream",
     "text": [
      "100%|██████████| 193/193 [00:41<00:00,  4.66it/s]\n"
     ]
    },
    {
     "name": "stdout",
     "output_type": "stream",
     "text": [
      "VOC PASCAL mAP: 0.1615930050611496\n",
      "VOC PASCAL mAP in all points: 0.12525682151317596\n",
      "COCO mAP: 0.04905642569065094\n"
     ]
    }
   ],
   "source": [
    "metric_fn = MetricBuilder.build_evaluation_metric(\"map_2d\", async_mode=True, num_classes=1)\n",
    "\n",
    "# for id in tqdm.tqdm(set(df_ground_truth.index) | set(df_yolo_predictions.index)):\n",
    "for id in tqdm.tqdm(set(df_ground_truth.index) & set(df_yolo_predictions.index)):\n",
    "    # print(id)\n",
    "    # TODO there can be an error bcs id not in index\n",
    "    df_ground_truth_filtered = df_ground_truth.loc[id].set_index('frame_id')\n",
    "    df_yolo_predictions_filtered = df_yolo_predictions.loc[id].set_index('frame_id')\n",
    "\n",
    "    # if id in df_ground_truth.index:\n",
    "    #     if df_ground_truth.loc[id,'frame_id'].size == 1:\n",
    "    #         ground_truth_frame_ids = set([df_ground_truth.loc[id,'frame_id']])\n",
    "    #     else:\n",
    "    #         ground_truth_frame_ids = set(df_ground_truth.loc[id,'frame_id'])\n",
    "    # else:\n",
    "    #     ground_truth_frame_ids = set()\n",
    "\n",
    "    # if id in df_yolo_predictions.index:\n",
    "    #     if df_yolo_predictions.loc[id,'frame_id'].size == 1:\n",
    "    #         yolo_frame_ids = set([df_yolo_predictions.loc[id,'frame_id']])\n",
    "    #     else:\n",
    "    #         yolo_frame_ids = set(df_yolo_predictions.loc[id,'frame_id'])\n",
    "    # else:\n",
    "    #     yolo_frame_ids = set()\n",
    "\n",
    "    for frame_id in list(df_ground_truth_filtered.index.union(df_yolo_predictions_filtered.index)):\n",
    "        if frame_id in df_ground_truth_filtered.index:            \n",
    "            gt = df_ground_truth_filtered.loc[frame_id][['xmin', 'ymin', 'xmax', 'ymax']].values\n",
    "        else:\n",
    "            gt = np.array([0, 0, 0, 0])\n",
    "        if frame_id in df_yolo_predictions_filtered.index:\n",
    "            preds = df_yolo_predictions_filtered.loc[frame_id][['xmin', 'ymin', 'xmax', 'ymax', 'confidence']].values\n",
    "        else:\n",
    "            preds = np.array([0, 0, 0, 0, 0])\n",
    "\n",
    "        if len(gt.shape) == 1:\n",
    "            gt = np.array([gt])\n",
    "        if len(preds.shape) == 1:\n",
    "            preds = np.array([preds])\n",
    "        # gt [xmin, ymin, xmax, ymax, class_id, difficult, crowd]\n",
    "        # preds [xmin, ymin, xmax, ymax, class_id, confidence]\n",
    "        gt = np.concatenate((gt, np.zeros((gt.shape[0], 3))), axis=1)\n",
    "        preds = np.concatenate((preds, np.zeros((preds.shape[0], 1))), axis=1)\n",
    "        preds[:, -1] = preds[:, -2]\n",
    "        preds[:, -2] = 0\n",
    "\n",
    "        metric_fn.add(preds, gt)\n",
    "\n",
    "# compute PASCAL VOC metric\n",
    "print(f\"VOC PASCAL mAP: {metric_fn.value(iou_thresholds=0.5, recall_thresholds=np.arange(0., 1.1, 0.1))['mAP']}\")\n",
    "# compute PASCAL VOC metric at the all points\n",
    "print(f\"VOC PASCAL mAP in all points: {metric_fn.value(iou_thresholds=0.5)['mAP']}\")\n",
    "# compute metric COCO metric\n",
    "print(f\"COCO mAP: {metric_fn.value(iou_thresholds=np.arange(0.5, 1.0, 0.05), recall_thresholds=np.arange(0., 1.01, 0.01), mpolicy='soft')['mAP']}\")"
   ]
  },
  {
   "cell_type": "markdown",
   "metadata": {},
   "source": [
    "## Evaluate only for ground truth frames - similar to finetuning procedure"
   ]
  },
  {
   "cell_type": "code",
   "execution_count": null,
   "metadata": {},
   "outputs": [],
   "source": [
    "metric_fn = MetricBuilder.build_evaluation_metric(\"map_2d\", async_mode=True, num_classes=1)\n",
    "\n",
    "for id in tqdm.tqdm(set(df_ground_truth.index) & set(df_yolo_predictions.index)):\n",
    "    df_ground_truth_filtered = df_ground_truth.loc[id].set_index('frame_id')\n",
    "    df_yolo_predictions_filtered = df_yolo_predictions.loc[id].set_index('frame_id')\n",
    "\n",
    "    for frame_id in list(df_ground_truth_filtered.index):\n",
    "        if frame_id in df_ground_truth_filtered.index:            \n",
    "            gt = df_ground_truth_filtered.loc[frame_id][['xmin', 'ymin', 'xmax', 'ymax']].values\n",
    "        else:\n",
    "            gt = np.array([0, 0, 0, 0])\n",
    "        if frame_id in df_yolo_predictions_filtered.index:\n",
    "            preds = df_yolo_predictions_filtered.loc[frame_id][['xmin', 'ymin', 'xmax', 'ymax', 'confidence']].values\n",
    "        else:\n",
    "            preds = np.array([0, 0, 0, 0, 0])\n",
    "\n",
    "        if len(gt.shape) == 1:\n",
    "            gt = np.array([gt])\n",
    "        if len(preds.shape) == 1:\n",
    "            preds = np.array([preds])\n",
    "        # gt [xmin, ymin, xmax, ymax, class_id, difficult, crowd]\n",
    "        # preds [xmin, ymin, xmax, ymax, class_id, confidence]\n",
    "        gt = np.concatenate((gt, np.zeros((gt.shape[0], 3))), axis=1)\n",
    "        preds = np.concatenate((preds, np.zeros((preds.shape[0], 1))), axis=1)\n",
    "        preds[:, -1] = preds[:, -2]\n",
    "        preds[:, -2] = 0\n",
    "\n",
    "        metric_fn.add(preds, gt)\n",
    "\n",
    "# compute PASCAL VOC metric\n",
    "print(f\"VOC PASCAL mAP: {metric_fn.value(iou_thresholds=0.5, recall_thresholds=np.arange(0., 1.1, 0.1))['mAP']}\")\n",
    "# compute PASCAL VOC metric at the all points\n",
    "print(f\"VOC PASCAL mAP in all points: {metric_fn.value(iou_thresholds=0.5)['mAP']}\")\n",
    "# compute metric COCO metric\n",
    "print(f\"COCO mAP: {metric_fn.value(iou_thresholds=np.arange(0.5, 1.0, 0.05), recall_thresholds=np.arange(0., 1.01, 0.01), mpolicy='soft')['mAP']}\")"
   ]
  },
  {
   "cell_type": "markdown",
   "metadata": {},
   "source": [
    "## Evaluate only for ground truth frames - use only validation set"
   ]
  },
  {
   "cell_type": "code",
   "execution_count": 59,
   "metadata": {},
   "outputs": [
    {
     "data": {
      "text/plain": [
       "((24870, 14), (11248, 14))"
      ]
     },
     "execution_count": 59,
     "metadata": {},
     "output_type": "execute_result"
    }
   ],
   "source": [
    "df_ground_truth['date'] = pd.to_datetime(df_ground_truth.datetime.dt.date, format='%Y-%m-%d')\n",
    "df_ground_truth.shape, df_ground_truth[(df_ground_truth.date == '2023-07-07') | (df_ground_truth.date == '2023-07-08')].shape"
   ]
  },
  {
   "cell_type": "code",
   "execution_count": 60,
   "metadata": {},
   "outputs": [
    {
     "name": "stderr",
     "output_type": "stream",
     "text": [
      "  0%|          | 0/84 [00:00<?, ?it/s]"
     ]
    },
    {
     "name": "stderr",
     "output_type": "stream",
     "text": [
      "100%|██████████| 84/84 [00:07<00:00, 10.53it/s]\n"
     ]
    },
    {
     "name": "stdout",
     "output_type": "stream",
     "text": [
      "VOC PASCAL mAP: 0.44991669058799744\n",
      "VOC PASCAL mAP in all points: 0.434072345495224\n",
      "COCO mAP: 0.14262066781520844\n"
     ]
    }
   ],
   "source": [
    "metric_fn = MetricBuilder.build_evaluation_metric(\"map_2d\", async_mode=True, num_classes=1)\n",
    "\n",
    "for id in tqdm.tqdm(set(df_ground_truth[(df_ground_truth.date == '2023-07-07') | (df_ground_truth.date == '2023-07-08')].index) & set(df_yolo_predictions.index)):\n",
    "    df_ground_truth_filtered = df_ground_truth.loc[id].set_index('frame_id')\n",
    "    df_yolo_predictions_filtered = df_yolo_predictions.loc[id].set_index('frame_id')\n",
    "\n",
    "    for frame_id in list(df_ground_truth_filtered.index):\n",
    "        if frame_id in df_ground_truth_filtered.index:            \n",
    "            gt = df_ground_truth_filtered.loc[frame_id][['xmin', 'ymin', 'xmax', 'ymax']].values\n",
    "        else:\n",
    "            gt = np.array([0, 0, 0, 0])\n",
    "        if frame_id in df_yolo_predictions_filtered.index:\n",
    "            preds = df_yolo_predictions_filtered.loc[frame_id][['xmin', 'ymin', 'xmax', 'ymax', 'confidence']].values\n",
    "        else:\n",
    "            preds = np.array([0, 0, 0, 0, 0])\n",
    "\n",
    "        if len(gt.shape) == 1:\n",
    "            gt = np.array([gt])\n",
    "        if len(preds.shape) == 1:\n",
    "            preds = np.array([preds])\n",
    "        # gt [xmin, ymin, xmax, ymax, class_id, difficult, crowd]\n",
    "        # preds [xmin, ymin, xmax, ymax, class_id, confidence]\n",
    "        gt = np.concatenate((gt, np.zeros((gt.shape[0], 3))), axis=1)\n",
    "        preds = np.concatenate((preds, np.zeros((preds.shape[0], 1))), axis=1)\n",
    "        preds[:, -1] = preds[:, -2]\n",
    "        preds[:, -2] = 0\n",
    "\n",
    "        metric_fn.add(preds, gt)\n",
    "\n",
    "# compute PASCAL VOC metric\n",
    "print(f\"VOC PASCAL mAP: {metric_fn.value(iou_thresholds=0.5, recall_thresholds=np.arange(0., 1.1, 0.1))['mAP']}\")\n",
    "# compute PASCAL VOC metric at the all points\n",
    "print(f\"VOC PASCAL mAP in all points: {metric_fn.value(iou_thresholds=0.5)['mAP']}\")\n",
    "# compute metric COCO metric\n",
    "print(f\"COCO mAP: {metric_fn.value(iou_thresholds=np.arange(0.5, 1.0, 0.05), recall_thresholds=np.arange(0., 1.01, 0.01), mpolicy='soft')['mAP']}\")"
   ]
  },
  {
   "cell_type": "markdown",
   "metadata": {},
   "source": [
    "# Helpers for debugging"
   ]
  },
  {
   "cell_type": "code",
   "execution_count": 109,
   "metadata": {},
   "outputs": [],
   "source": [
    "## cfg_raw_cam_02_fhd_h265_20230609T173000 # there is a car identified as a boat outside of the field of view"
   ]
  },
  {
   "cell_type": "code",
   "execution_count": 182,
   "metadata": {},
   "outputs": [
    {
     "name": "stdout",
     "output_type": "stream",
     "text": [
      "cfg_raw_cam_02_fhd_h265_20230610T125001.mkv\n",
      "      frame_id     x  x_shift\n",
      "0            0  1601      NaN\n",
      "1            1  1602      1.0\n",
      "2            2  1601      1.0\n",
      "3            3  1601      0.0\n",
      "4            4  1601      0.0\n",
      "...        ...   ...      ...\n",
      "2342      2395  1410      2.0\n",
      "2343      2396  1424     14.0\n",
      "2344      2397  1423      1.0\n",
      "2345      2398  1412     11.0\n",
      "2346      2399  1413      1.0\n",
      "\n",
      "[2347 rows x 3 columns]\n"
     ]
    }
   ],
   "source": [
    "def iqr(x):\n",
    "    return np.percentile(x, 75) - np.percentile(x, 25)\n",
    "# filter out static bounding box predictions; use iqr < 100 as a threshold and later shift of x coords are less than 10\n",
    "df_tmp = df_yolo_predictions[df_yolo_predictions.camera_id == 2].reset_index()\n",
    "df_tmp = df_tmp.groupby('filename').datetime.count()\n",
    "df_tmp = df_tmp[df_tmp > 100]\n",
    "df_tmp = df_yolo_predictions.loc[df_tmp.index].reset_index().groupby('filename').agg({'x': iqr, 'y': iqr})\n",
    "df_static_indexes = df_tmp[(df_tmp.x < 100) & (df_tmp.y < 100)].index\n",
    "\n",
    "# for each static filename, calculate the shift of x coords between frames and filter out those with shift > 10\n",
    "for filename in list(df_static_indexes)[5:]:\n",
    "    print(filename)\n",
    "    df_tmp = df_yolo_predictions.loc[filename].groupby('frame_id').x.max().reset_index()\n",
    "    # df_tmp = \n",
    "    df_tmp['x_shift'] = df_tmp['x'].diff().abs()\n",
    "    print(df_tmp)\n",
    "    # df_tmp = df_tmp[df_tmp['x_shift'] > 10]\n",
    "    # print(df_tmp)\n",
    "    # df_static_indexes = df_static_indexes.drop(filename)\n",
    "    # df_static_indexes = df_static_indexes.append(df_tmp.index)\n",
    "\n",
    "    break\n",
    "\n",
    "\n",
    "\n",
    "# .agg({'x': lambda x: np.percentile(x, 75) - np.percentile(x, 25)})"
   ]
  },
  {
   "cell_type": "code",
   "execution_count": null,
   "metadata": {},
   "outputs": [],
   "source": [
    "# values for camera 2 bank identification.. this should be the water.. camera have a good horizontal angle, therefore check that bottom coord of bounding box is in upper area of the image y < less than straight line\n",
    "x = 2 (0.001042), y = 378 (0.350000)\n",
    "x = 1918 (0.998958), y = 445 (0.412037)"
   ]
  },
  {
   "cell_type": "code",
   "execution_count": 180,
   "metadata": {},
   "outputs": [],
   "source": [
    "df_tmp.set_index('frame_id').to_csv('debug.csv')"
   ]
  },
  {
   "cell_type": "code",
   "execution_count": 141,
   "metadata": {},
   "outputs": [
    {
     "data": {
      "text/plain": [
       "x    56.0\n",
       "y     2.0\n",
       "Name: cfg_raw_cam_02_fhd_h265_20230707T202002.mkv, dtype: float64"
      ]
     },
     "execution_count": 141,
     "metadata": {},
     "output_type": "execute_result"
    }
   ],
   "source": [
    "df_tmp.loc['cfg_raw_cam_02_fhd_h265_20230707T202002.mkv']"
   ]
  },
  {
   "cell_type": "code",
   "execution_count": 150,
   "metadata": {},
   "outputs": [
    {
     "data": {
      "text/plain": [
       "<Axes: xlabel='frame_id'>"
      ]
     },
     "execution_count": 150,
     "metadata": {},
     "output_type": "execute_result"
    },
    {
     "data": {
      "image/png": "[encoded data removed]",
      "text/plain": [
       "<Figure size 640x480 with 1 Axes>"
      ]
     },
     "metadata": {},
     "output_type": "display_data"
    }
   ],
   "source": [
    "(df_yolo_predictions.loc['cfg_raw_cam_02_fhd_h265_20230707T202002.mkv'].groupby('frame_id').x.max() - df_yolo_predictions.loc['cfg_raw_cam_02_fhd_h265_20230707T202002.mkv'].groupby('frame_id').x.max().shift()).rolling(10).mean().plot()"
   ]
  },
  {
   "cell_type": "code",
   "execution_count": 181,
   "metadata": {},
   "outputs": [
    {
     "data": {
      "text/plain": [
       "6.654166666666667"
      ]
     },
     "execution_count": 181,
     "metadata": {},
     "output_type": "execute_result"
    }
   ],
   "source": [
    "1597  /4/60"
   ]
  },
  {
   "cell_type": "code",
   "execution_count": 162,
   "metadata": {},
   "outputs": [
    {
     "data": {
      "text/html": [
       "<div>\n",
       "<style scoped>\n",
       "    .dataframe tbody tr th:only-of-type {\n",
       "        vertical-align: middle;\n",
       "    }\n",
       "\n",
       "    .dataframe tbody tr th {\n",
       "        vertical-align: top;\n",
       "    }\n",
       "\n",
       "    .dataframe thead th {\n",
       "        text-align: right;\n",
       "    }\n",
       "</style>\n",
       "<table border=\"1\" class=\"dataframe\">\n",
       "  <thead>\n",
       "    <tr style=\"text-align: right;\">\n",
       "      <th></th>\n",
       "      <th>camera_id</th>\n",
       "      <th>datetime</th>\n",
       "      <th>frame_id</th>\n",
       "      <th>label_class</th>\n",
       "      <th>x</th>\n",
       "      <th>y</th>\n",
       "      <th>w</th>\n",
       "      <th>h</th>\n",
       "      <th>confidence</th>\n",
       "      <th>date</th>\n",
       "      <th>under_the_bank</th>\n",
       "    </tr>\n",
       "    <tr>\n",
       "      <th>filename</th>\n",
       "      <th></th>\n",
       "      <th></th>\n",
       "      <th></th>\n",
       "      <th></th>\n",
       "      <th></th>\n",
       "      <th></th>\n",
       "      <th></th>\n",
       "      <th></th>\n",
       "      <th></th>\n",
       "      <th></th>\n",
       "      <th></th>\n",
       "    </tr>\n",
       "  </thead>\n",
       "  <tbody>\n",
       "    <tr>\n",
       "      <th>cfg_raw_cam_02_fhd_h265_20230707T202002.mkv</th>\n",
       "      <td>2</td>\n",
       "      <td>2023-07-07 20:20:02</td>\n",
       "      <td>2255</td>\n",
       "      <td>8</td>\n",
       "      <td>1533</td>\n",
       "      <td>828</td>\n",
       "      <td>772</td>\n",
       "      <td>489</td>\n",
       "      <td>0.256372</td>\n",
       "      <td>2023-07-07</td>\n",
       "      <td>False</td>\n",
       "    </tr>\n",
       "    <tr>\n",
       "      <th>cfg_raw_cam_02_fhd_h265_20230707T202002.mkv</th>\n",
       "      <td>2</td>\n",
       "      <td>2023-07-07 20:20:02</td>\n",
       "      <td>2265</td>\n",
       "      <td>8</td>\n",
       "      <td>1533</td>\n",
       "      <td>828</td>\n",
       "      <td>773</td>\n",
       "      <td>489</td>\n",
       "      <td>0.304322</td>\n",
       "      <td>2023-07-07</td>\n",
       "      <td>False</td>\n",
       "    </tr>\n",
       "    <tr>\n",
       "      <th>cfg_raw_cam_02_fhd_h265_20230707T202002.mkv</th>\n",
       "      <td>2</td>\n",
       "      <td>2023-07-07 20:20:02</td>\n",
       "      <td>2266</td>\n",
       "      <td>8</td>\n",
       "      <td>1533</td>\n",
       "      <td>829</td>\n",
       "      <td>772</td>\n",
       "      <td>490</td>\n",
       "      <td>0.274906</td>\n",
       "      <td>2023-07-07</td>\n",
       "      <td>False</td>\n",
       "    </tr>\n",
       "    <tr>\n",
       "      <th>cfg_raw_cam_02_fhd_h265_20230707T202002.mkv</th>\n",
       "      <td>2</td>\n",
       "      <td>2023-07-07 20:20:02</td>\n",
       "      <td>2268</td>\n",
       "      <td>8</td>\n",
       "      <td>1533</td>\n",
       "      <td>828</td>\n",
       "      <td>773</td>\n",
       "      <td>488</td>\n",
       "      <td>0.289129</td>\n",
       "      <td>2023-07-07</td>\n",
       "      <td>False</td>\n",
       "    </tr>\n",
       "    <tr>\n",
       "      <th>cfg_raw_cam_02_fhd_h265_20230707T202002.mkv</th>\n",
       "      <td>2</td>\n",
       "      <td>2023-07-07 20:20:02</td>\n",
       "      <td>2272</td>\n",
       "      <td>8</td>\n",
       "      <td>607</td>\n",
       "      <td>763</td>\n",
       "      <td>24</td>\n",
       "      <td>37</td>\n",
       "      <td>0.418604</td>\n",
       "      <td>2023-07-07</td>\n",
       "      <td>False</td>\n",
       "    </tr>\n",
       "    <tr>\n",
       "      <th>cfg_raw_cam_02_fhd_h265_20230707T202002.mkv</th>\n",
       "      <td>2</td>\n",
       "      <td>2023-07-07 20:20:02</td>\n",
       "      <td>2280</td>\n",
       "      <td>8</td>\n",
       "      <td>1533</td>\n",
       "      <td>827</td>\n",
       "      <td>772</td>\n",
       "      <td>492</td>\n",
       "      <td>0.278634</td>\n",
       "      <td>2023-07-07</td>\n",
       "      <td>False</td>\n",
       "    </tr>\n",
       "    <tr>\n",
       "      <th>cfg_raw_cam_02_fhd_h265_20230707T202002.mkv</th>\n",
       "      <td>2</td>\n",
       "      <td>2023-07-07 20:20:02</td>\n",
       "      <td>2281</td>\n",
       "      <td>8</td>\n",
       "      <td>1533</td>\n",
       "      <td>827</td>\n",
       "      <td>772</td>\n",
       "      <td>491</td>\n",
       "      <td>0.274963</td>\n",
       "      <td>2023-07-07</td>\n",
       "      <td>False</td>\n",
       "    </tr>\n",
       "    <tr>\n",
       "      <th>cfg_raw_cam_02_fhd_h265_20230707T202002.mkv</th>\n",
       "      <td>2</td>\n",
       "      <td>2023-07-07 20:20:02</td>\n",
       "      <td>2286</td>\n",
       "      <td>8</td>\n",
       "      <td>1532</td>\n",
       "      <td>826</td>\n",
       "      <td>774</td>\n",
       "      <td>489</td>\n",
       "      <td>0.251022</td>\n",
       "      <td>2023-07-07</td>\n",
       "      <td>False</td>\n",
       "    </tr>\n",
       "    <tr>\n",
       "      <th>cfg_raw_cam_02_fhd_h265_20230707T202002.mkv</th>\n",
       "      <td>2</td>\n",
       "      <td>2023-07-07 20:20:02</td>\n",
       "      <td>2289</td>\n",
       "      <td>8</td>\n",
       "      <td>440</td>\n",
       "      <td>852</td>\n",
       "      <td>124</td>\n",
       "      <td>82</td>\n",
       "      <td>0.308547</td>\n",
       "      <td>2023-07-07</td>\n",
       "      <td>False</td>\n",
       "    </tr>\n",
       "    <tr>\n",
       "      <th>cfg_raw_cam_02_fhd_h265_20230707T202002.mkv</th>\n",
       "      <td>2</td>\n",
       "      <td>2023-07-07 20:20:02</td>\n",
       "      <td>2293</td>\n",
       "      <td>8</td>\n",
       "      <td>1533</td>\n",
       "      <td>826</td>\n",
       "      <td>772</td>\n",
       "      <td>492</td>\n",
       "      <td>0.373886</td>\n",
       "      <td>2023-07-07</td>\n",
       "      <td>False</td>\n",
       "    </tr>\n",
       "    <tr>\n",
       "      <th>cfg_raw_cam_02_fhd_h265_20230707T202002.mkv</th>\n",
       "      <td>2</td>\n",
       "      <td>2023-07-07 20:20:02</td>\n",
       "      <td>2297</td>\n",
       "      <td>8</td>\n",
       "      <td>1532</td>\n",
       "      <td>826</td>\n",
       "      <td>774</td>\n",
       "      <td>493</td>\n",
       "      <td>0.293085</td>\n",
       "      <td>2023-07-07</td>\n",
       "      <td>False</td>\n",
       "    </tr>\n",
       "    <tr>\n",
       "      <th>cfg_raw_cam_02_fhd_h265_20230707T202002.mkv</th>\n",
       "      <td>2</td>\n",
       "      <td>2023-07-07 20:20:02</td>\n",
       "      <td>2300</td>\n",
       "      <td>8</td>\n",
       "      <td>1534</td>\n",
       "      <td>826</td>\n",
       "      <td>771</td>\n",
       "      <td>492</td>\n",
       "      <td>0.312201</td>\n",
       "      <td>2023-07-07</td>\n",
       "      <td>False</td>\n",
       "    </tr>\n",
       "    <tr>\n",
       "      <th>cfg_raw_cam_02_fhd_h265_20230707T202002.mkv</th>\n",
       "      <td>2</td>\n",
       "      <td>2023-07-07 20:20:02</td>\n",
       "      <td>2301</td>\n",
       "      <td>8</td>\n",
       "      <td>1587</td>\n",
       "      <td>824</td>\n",
       "      <td>664</td>\n",
       "      <td>487</td>\n",
       "      <td>0.284148</td>\n",
       "      <td>2023-07-07</td>\n",
       "      <td>False</td>\n",
       "    </tr>\n",
       "    <tr>\n",
       "      <th>cfg_raw_cam_02_fhd_h265_20230707T202002.mkv</th>\n",
       "      <td>2</td>\n",
       "      <td>2023-07-07 20:20:02</td>\n",
       "      <td>2303</td>\n",
       "      <td>8</td>\n",
       "      <td>1533</td>\n",
       "      <td>827</td>\n",
       "      <td>770</td>\n",
       "      <td>490</td>\n",
       "      <td>0.262694</td>\n",
       "      <td>2023-07-07</td>\n",
       "      <td>False</td>\n",
       "    </tr>\n",
       "    <tr>\n",
       "      <th>cfg_raw_cam_02_fhd_h265_20230707T202002.mkv</th>\n",
       "      <td>2</td>\n",
       "      <td>2023-07-07 20:20:02</td>\n",
       "      <td>2314</td>\n",
       "      <td>8</td>\n",
       "      <td>1602</td>\n",
       "      <td>827</td>\n",
       "      <td>630</td>\n",
       "      <td>492</td>\n",
       "      <td>0.272000</td>\n",
       "      <td>2023-07-07</td>\n",
       "      <td>False</td>\n",
       "    </tr>\n",
       "    <tr>\n",
       "      <th>cfg_raw_cam_02_fhd_h265_20230707T202002.mkv</th>\n",
       "      <td>2</td>\n",
       "      <td>2023-07-07 20:20:02</td>\n",
       "      <td>2315</td>\n",
       "      <td>8</td>\n",
       "      <td>1589</td>\n",
       "      <td>825</td>\n",
       "      <td>661</td>\n",
       "      <td>493</td>\n",
       "      <td>0.329462</td>\n",
       "      <td>2023-07-07</td>\n",
       "      <td>False</td>\n",
       "    </tr>\n",
       "    <tr>\n",
       "      <th>cfg_raw_cam_02_fhd_h265_20230707T202002.mkv</th>\n",
       "      <td>2</td>\n",
       "      <td>2023-07-07 20:20:02</td>\n",
       "      <td>2316</td>\n",
       "      <td>8</td>\n",
       "      <td>1533</td>\n",
       "      <td>826</td>\n",
       "      <td>769</td>\n",
       "      <td>490</td>\n",
       "      <td>0.272624</td>\n",
       "      <td>2023-07-07</td>\n",
       "      <td>False</td>\n",
       "    </tr>\n",
       "    <tr>\n",
       "      <th>cfg_raw_cam_02_fhd_h265_20230707T202002.mkv</th>\n",
       "      <td>2</td>\n",
       "      <td>2023-07-07 20:20:02</td>\n",
       "      <td>2317</td>\n",
       "      <td>8</td>\n",
       "      <td>1602</td>\n",
       "      <td>827</td>\n",
       "      <td>630</td>\n",
       "      <td>490</td>\n",
       "      <td>0.332178</td>\n",
       "      <td>2023-07-07</td>\n",
       "      <td>False</td>\n",
       "    </tr>\n",
       "    <tr>\n",
       "      <th>cfg_raw_cam_02_fhd_h265_20230707T202002.mkv</th>\n",
       "      <td>2</td>\n",
       "      <td>2023-07-07 20:20:02</td>\n",
       "      <td>2319</td>\n",
       "      <td>8</td>\n",
       "      <td>1534</td>\n",
       "      <td>827</td>\n",
       "      <td>771</td>\n",
       "      <td>490</td>\n",
       "      <td>0.273164</td>\n",
       "      <td>2023-07-07</td>\n",
       "      <td>False</td>\n",
       "    </tr>\n",
       "    <tr>\n",
       "      <th>cfg_raw_cam_02_fhd_h265_20230707T202002.mkv</th>\n",
       "      <td>2</td>\n",
       "      <td>2023-07-07 20:20:02</td>\n",
       "      <td>2324</td>\n",
       "      <td>8</td>\n",
       "      <td>1533</td>\n",
       "      <td>828</td>\n",
       "      <td>772</td>\n",
       "      <td>490</td>\n",
       "      <td>0.312029</td>\n",
       "      <td>2023-07-07</td>\n",
       "      <td>False</td>\n",
       "    </tr>\n",
       "    <tr>\n",
       "      <th>cfg_raw_cam_02_fhd_h265_20230707T202002.mkv</th>\n",
       "      <td>2</td>\n",
       "      <td>2023-07-07 20:20:02</td>\n",
       "      <td>2326</td>\n",
       "      <td>8</td>\n",
       "      <td>1533</td>\n",
       "      <td>828</td>\n",
       "      <td>771</td>\n",
       "      <td>490</td>\n",
       "      <td>0.333719</td>\n",
       "      <td>2023-07-07</td>\n",
       "      <td>False</td>\n",
       "    </tr>\n",
       "    <tr>\n",
       "      <th>cfg_raw_cam_02_fhd_h265_20230707T202002.mkv</th>\n",
       "      <td>2</td>\n",
       "      <td>2023-07-07 20:20:02</td>\n",
       "      <td>2327</td>\n",
       "      <td>8</td>\n",
       "      <td>1533</td>\n",
       "      <td>827</td>\n",
       "      <td>772</td>\n",
       "      <td>489</td>\n",
       "      <td>0.254107</td>\n",
       "      <td>2023-07-07</td>\n",
       "      <td>False</td>\n",
       "    </tr>\n",
       "    <tr>\n",
       "      <th>cfg_raw_cam_02_fhd_h265_20230707T202002.mkv</th>\n",
       "      <td>2</td>\n",
       "      <td>2023-07-07 20:20:02</td>\n",
       "      <td>2328</td>\n",
       "      <td>8</td>\n",
       "      <td>1602</td>\n",
       "      <td>828</td>\n",
       "      <td>630</td>\n",
       "      <td>490</td>\n",
       "      <td>0.261994</td>\n",
       "      <td>2023-07-07</td>\n",
       "      <td>False</td>\n",
       "    </tr>\n",
       "    <tr>\n",
       "      <th>cfg_raw_cam_02_fhd_h265_20230707T202002.mkv</th>\n",
       "      <td>2</td>\n",
       "      <td>2023-07-07 20:20:02</td>\n",
       "      <td>2339</td>\n",
       "      <td>8</td>\n",
       "      <td>1533</td>\n",
       "      <td>826</td>\n",
       "      <td>772</td>\n",
       "      <td>488</td>\n",
       "      <td>0.355907</td>\n",
       "      <td>2023-07-07</td>\n",
       "      <td>False</td>\n",
       "    </tr>\n",
       "    <tr>\n",
       "      <th>cfg_raw_cam_02_fhd_h265_20230707T202002.mkv</th>\n",
       "      <td>2</td>\n",
       "      <td>2023-07-07 20:20:02</td>\n",
       "      <td>2342</td>\n",
       "      <td>8</td>\n",
       "      <td>1533</td>\n",
       "      <td>828</td>\n",
       "      <td>772</td>\n",
       "      <td>489</td>\n",
       "      <td>0.275871</td>\n",
       "      <td>2023-07-07</td>\n",
       "      <td>False</td>\n",
       "    </tr>\n",
       "    <tr>\n",
       "      <th>cfg_raw_cam_02_fhd_h265_20230707T202002.mkv</th>\n",
       "      <td>2</td>\n",
       "      <td>2023-07-07 20:20:02</td>\n",
       "      <td>2375</td>\n",
       "      <td>8</td>\n",
       "      <td>1534</td>\n",
       "      <td>827</td>\n",
       "      <td>769</td>\n",
       "      <td>489</td>\n",
       "      <td>0.323199</td>\n",
       "      <td>2023-07-07</td>\n",
       "      <td>False</td>\n",
       "    </tr>\n",
       "    <tr>\n",
       "      <th>cfg_raw_cam_02_fhd_h265_20230707T202002.mkv</th>\n",
       "      <td>2</td>\n",
       "      <td>2023-07-07 20:20:02</td>\n",
       "      <td>2377</td>\n",
       "      <td>8</td>\n",
       "      <td>1534</td>\n",
       "      <td>827</td>\n",
       "      <td>771</td>\n",
       "      <td>491</td>\n",
       "      <td>0.429899</td>\n",
       "      <td>2023-07-07</td>\n",
       "      <td>False</td>\n",
       "    </tr>\n",
       "    <tr>\n",
       "      <th>cfg_raw_cam_02_fhd_h265_20230707T202002.mkv</th>\n",
       "      <td>2</td>\n",
       "      <td>2023-07-07 20:20:02</td>\n",
       "      <td>2379</td>\n",
       "      <td>8</td>\n",
       "      <td>1533</td>\n",
       "      <td>827</td>\n",
       "      <td>773</td>\n",
       "      <td>488</td>\n",
       "      <td>0.268973</td>\n",
       "      <td>2023-07-07</td>\n",
       "      <td>False</td>\n",
       "    </tr>\n",
       "    <tr>\n",
       "      <th>cfg_raw_cam_02_fhd_h265_20230707T202002.mkv</th>\n",
       "      <td>2</td>\n",
       "      <td>2023-07-07 20:20:02</td>\n",
       "      <td>2382</td>\n",
       "      <td>8</td>\n",
       "      <td>1534</td>\n",
       "      <td>827</td>\n",
       "      <td>771</td>\n",
       "      <td>490</td>\n",
       "      <td>0.263655</td>\n",
       "      <td>2023-07-07</td>\n",
       "      <td>False</td>\n",
       "    </tr>\n",
       "    <tr>\n",
       "      <th>cfg_raw_cam_02_fhd_h265_20230707T202002.mkv</th>\n",
       "      <td>2</td>\n",
       "      <td>2023-07-07 20:20:02</td>\n",
       "      <td>2385</td>\n",
       "      <td>8</td>\n",
       "      <td>1533</td>\n",
       "      <td>827</td>\n",
       "      <td>772</td>\n",
       "      <td>489</td>\n",
       "      <td>0.313679</td>\n",
       "      <td>2023-07-07</td>\n",
       "      <td>False</td>\n",
       "    </tr>\n",
       "  </tbody>\n",
       "</table>\n",
       "</div>"
      ],
      "text/plain": [
       "                                             camera_id            datetime  \\\n",
       "filename                                                                     \n",
       "cfg_raw_cam_02_fhd_h265_20230707T202002.mkv          2 2023-07-07 20:20:02   \n",
       "cfg_raw_cam_02_fhd_h265_20230707T202002.mkv          2 2023-07-07 20:20:02   \n",
       "cfg_raw_cam_02_fhd_h265_20230707T202002.mkv          2 2023-07-07 20:20:02   \n",
       "cfg_raw_cam_02_fhd_h265_20230707T202002.mkv          2 2023-07-07 20:20:02   \n",
       "cfg_raw_cam_02_fhd_h265_20230707T202002.mkv          2 2023-07-07 20:20:02   \n",
       "cfg_raw_cam_02_fhd_h265_20230707T202002.mkv          2 2023-07-07 20:20:02   \n",
       "cfg_raw_cam_02_fhd_h265_20230707T202002.mkv          2 2023-07-07 20:20:02   \n",
       "cfg_raw_cam_02_fhd_h265_20230707T202002.mkv          2 2023-07-07 20:20:02   \n",
       "cfg_raw_cam_02_fhd_h265_20230707T202002.mkv          2 2023-07-07 20:20:02   \n",
       "cfg_raw_cam_02_fhd_h265_20230707T202002.mkv          2 2023-07-07 20:20:02   \n",
       "cfg_raw_cam_02_fhd_h265_20230707T202002.mkv          2 2023-07-07 20:20:02   \n",
       "cfg_raw_cam_02_fhd_h265_20230707T202002.mkv          2 2023-07-07 20:20:02   \n",
       "cfg_raw_cam_02_fhd_h265_20230707T202002.mkv          2 2023-07-07 20:20:02   \n",
       "cfg_raw_cam_02_fhd_h265_20230707T202002.mkv          2 2023-07-07 20:20:02   \n",
       "cfg_raw_cam_02_fhd_h265_20230707T202002.mkv          2 2023-07-07 20:20:02   \n",
       "cfg_raw_cam_02_fhd_h265_20230707T202002.mkv          2 2023-07-07 20:20:02   \n",
       "cfg_raw_cam_02_fhd_h265_20230707T202002.mkv          2 2023-07-07 20:20:02   \n",
       "cfg_raw_cam_02_fhd_h265_20230707T202002.mkv          2 2023-07-07 20:20:02   \n",
       "cfg_raw_cam_02_fhd_h265_20230707T202002.mkv          2 2023-07-07 20:20:02   \n",
       "cfg_raw_cam_02_fhd_h265_20230707T202002.mkv          2 2023-07-07 20:20:02   \n",
       "cfg_raw_cam_02_fhd_h265_20230707T202002.mkv          2 2023-07-07 20:20:02   \n",
       "cfg_raw_cam_02_fhd_h265_20230707T202002.mkv          2 2023-07-07 20:20:02   \n",
       "cfg_raw_cam_02_fhd_h265_20230707T202002.mkv          2 2023-07-07 20:20:02   \n",
       "cfg_raw_cam_02_fhd_h265_20230707T202002.mkv          2 2023-07-07 20:20:02   \n",
       "cfg_raw_cam_02_fhd_h265_20230707T202002.mkv          2 2023-07-07 20:20:02   \n",
       "cfg_raw_cam_02_fhd_h265_20230707T202002.mkv          2 2023-07-07 20:20:02   \n",
       "cfg_raw_cam_02_fhd_h265_20230707T202002.mkv          2 2023-07-07 20:20:02   \n",
       "cfg_raw_cam_02_fhd_h265_20230707T202002.mkv          2 2023-07-07 20:20:02   \n",
       "cfg_raw_cam_02_fhd_h265_20230707T202002.mkv          2 2023-07-07 20:20:02   \n",
       "cfg_raw_cam_02_fhd_h265_20230707T202002.mkv          2 2023-07-07 20:20:02   \n",
       "\n",
       "                                             frame_id  label_class     x    y  \\\n",
       "filename                                                                        \n",
       "cfg_raw_cam_02_fhd_h265_20230707T202002.mkv      2255            8  1533  828   \n",
       "cfg_raw_cam_02_fhd_h265_20230707T202002.mkv      2265            8  1533  828   \n",
       "cfg_raw_cam_02_fhd_h265_20230707T202002.mkv      2266            8  1533  829   \n",
       "cfg_raw_cam_02_fhd_h265_20230707T202002.mkv      2268            8  1533  828   \n",
       "cfg_raw_cam_02_fhd_h265_20230707T202002.mkv      2272            8   607  763   \n",
       "cfg_raw_cam_02_fhd_h265_20230707T202002.mkv      2280            8  1533  827   \n",
       "cfg_raw_cam_02_fhd_h265_20230707T202002.mkv      2281            8  1533  827   \n",
       "cfg_raw_cam_02_fhd_h265_20230707T202002.mkv      2286            8  1532  826   \n",
       "cfg_raw_cam_02_fhd_h265_20230707T202002.mkv      2289            8   440  852   \n",
       "cfg_raw_cam_02_fhd_h265_20230707T202002.mkv      2293            8  1533  826   \n",
       "cfg_raw_cam_02_fhd_h265_20230707T202002.mkv      2297            8  1532  826   \n",
       "cfg_raw_cam_02_fhd_h265_20230707T202002.mkv      2300            8  1534  826   \n",
       "cfg_raw_cam_02_fhd_h265_20230707T202002.mkv      2301            8  1587  824   \n",
       "cfg_raw_cam_02_fhd_h265_20230707T202002.mkv      2303            8  1533  827   \n",
       "cfg_raw_cam_02_fhd_h265_20230707T202002.mkv      2314            8  1602  827   \n",
       "cfg_raw_cam_02_fhd_h265_20230707T202002.mkv      2315            8  1589  825   \n",
       "cfg_raw_cam_02_fhd_h265_20230707T202002.mkv      2316            8  1533  826   \n",
       "cfg_raw_cam_02_fhd_h265_20230707T202002.mkv      2317            8  1602  827   \n",
       "cfg_raw_cam_02_fhd_h265_20230707T202002.mkv      2319            8  1534  827   \n",
       "cfg_raw_cam_02_fhd_h265_20230707T202002.mkv      2324            8  1533  828   \n",
       "cfg_raw_cam_02_fhd_h265_20230707T202002.mkv      2326            8  1533  828   \n",
       "cfg_raw_cam_02_fhd_h265_20230707T202002.mkv      2327            8  1533  827   \n",
       "cfg_raw_cam_02_fhd_h265_20230707T202002.mkv      2328            8  1602  828   \n",
       "cfg_raw_cam_02_fhd_h265_20230707T202002.mkv      2339            8  1533  826   \n",
       "cfg_raw_cam_02_fhd_h265_20230707T202002.mkv      2342            8  1533  828   \n",
       "cfg_raw_cam_02_fhd_h265_20230707T202002.mkv      2375            8  1534  827   \n",
       "cfg_raw_cam_02_fhd_h265_20230707T202002.mkv      2377            8  1534  827   \n",
       "cfg_raw_cam_02_fhd_h265_20230707T202002.mkv      2379            8  1533  827   \n",
       "cfg_raw_cam_02_fhd_h265_20230707T202002.mkv      2382            8  1534  827   \n",
       "cfg_raw_cam_02_fhd_h265_20230707T202002.mkv      2385            8  1533  827   \n",
       "\n",
       "                                               w    h  confidence       date  \\\n",
       "filename                                                                       \n",
       "cfg_raw_cam_02_fhd_h265_20230707T202002.mkv  772  489    0.256372 2023-07-07   \n",
       "cfg_raw_cam_02_fhd_h265_20230707T202002.mkv  773  489    0.304322 2023-07-07   \n",
       "cfg_raw_cam_02_fhd_h265_20230707T202002.mkv  772  490    0.274906 2023-07-07   \n",
       "cfg_raw_cam_02_fhd_h265_20230707T202002.mkv  773  488    0.289129 2023-07-07   \n",
       "cfg_raw_cam_02_fhd_h265_20230707T202002.mkv   24   37    0.418604 2023-07-07   \n",
       "cfg_raw_cam_02_fhd_h265_20230707T202002.mkv  772  492    0.278634 2023-07-07   \n",
       "cfg_raw_cam_02_fhd_h265_20230707T202002.mkv  772  491    0.274963 2023-07-07   \n",
       "cfg_raw_cam_02_fhd_h265_20230707T202002.mkv  774  489    0.251022 2023-07-07   \n",
       "cfg_raw_cam_02_fhd_h265_20230707T202002.mkv  124   82    0.308547 2023-07-07   \n",
       "cfg_raw_cam_02_fhd_h265_20230707T202002.mkv  772  492    0.373886 2023-07-07   \n",
       "cfg_raw_cam_02_fhd_h265_20230707T202002.mkv  774  493    0.293085 2023-07-07   \n",
       "cfg_raw_cam_02_fhd_h265_20230707T202002.mkv  771  492    0.312201 2023-07-07   \n",
       "cfg_raw_cam_02_fhd_h265_20230707T202002.mkv  664  487    0.284148 2023-07-07   \n",
       "cfg_raw_cam_02_fhd_h265_20230707T202002.mkv  770  490    0.262694 2023-07-07   \n",
       "cfg_raw_cam_02_fhd_h265_20230707T202002.mkv  630  492    0.272000 2023-07-07   \n",
       "cfg_raw_cam_02_fhd_h265_20230707T202002.mkv  661  493    0.329462 2023-07-07   \n",
       "cfg_raw_cam_02_fhd_h265_20230707T202002.mkv  769  490    0.272624 2023-07-07   \n",
       "cfg_raw_cam_02_fhd_h265_20230707T202002.mkv  630  490    0.332178 2023-07-07   \n",
       "cfg_raw_cam_02_fhd_h265_20230707T202002.mkv  771  490    0.273164 2023-07-07   \n",
       "cfg_raw_cam_02_fhd_h265_20230707T202002.mkv  772  490    0.312029 2023-07-07   \n",
       "cfg_raw_cam_02_fhd_h265_20230707T202002.mkv  771  490    0.333719 2023-07-07   \n",
       "cfg_raw_cam_02_fhd_h265_20230707T202002.mkv  772  489    0.254107 2023-07-07   \n",
       "cfg_raw_cam_02_fhd_h265_20230707T202002.mkv  630  490    0.261994 2023-07-07   \n",
       "cfg_raw_cam_02_fhd_h265_20230707T202002.mkv  772  488    0.355907 2023-07-07   \n",
       "cfg_raw_cam_02_fhd_h265_20230707T202002.mkv  772  489    0.275871 2023-07-07   \n",
       "cfg_raw_cam_02_fhd_h265_20230707T202002.mkv  769  489    0.323199 2023-07-07   \n",
       "cfg_raw_cam_02_fhd_h265_20230707T202002.mkv  771  491    0.429899 2023-07-07   \n",
       "cfg_raw_cam_02_fhd_h265_20230707T202002.mkv  773  488    0.268973 2023-07-07   \n",
       "cfg_raw_cam_02_fhd_h265_20230707T202002.mkv  771  490    0.263655 2023-07-07   \n",
       "cfg_raw_cam_02_fhd_h265_20230707T202002.mkv  772  489    0.313679 2023-07-07   \n",
       "\n",
       "                                             under_the_bank  \n",
       "filename                                                     \n",
       "cfg_raw_cam_02_fhd_h265_20230707T202002.mkv           False  \n",
       "cfg_raw_cam_02_fhd_h265_20230707T202002.mkv           False  \n",
       "cfg_raw_cam_02_fhd_h265_20230707T202002.mkv           False  \n",
       "cfg_raw_cam_02_fhd_h265_20230707T202002.mkv           False  \n",
       "cfg_raw_cam_02_fhd_h265_20230707T202002.mkv           False  \n",
       "cfg_raw_cam_02_fhd_h265_20230707T202002.mkv           False  \n",
       "cfg_raw_cam_02_fhd_h265_20230707T202002.mkv           False  \n",
       "cfg_raw_cam_02_fhd_h265_20230707T202002.mkv           False  \n",
       "cfg_raw_cam_02_fhd_h265_20230707T202002.mkv           False  \n",
       "cfg_raw_cam_02_fhd_h265_20230707T202002.mkv           False  \n",
       "cfg_raw_cam_02_fhd_h265_20230707T202002.mkv           False  \n",
       "cfg_raw_cam_02_fhd_h265_20230707T202002.mkv           False  \n",
       "cfg_raw_cam_02_fhd_h265_20230707T202002.mkv           False  \n",
       "cfg_raw_cam_02_fhd_h265_20230707T202002.mkv           False  \n",
       "cfg_raw_cam_02_fhd_h265_20230707T202002.mkv           False  \n",
       "cfg_raw_cam_02_fhd_h265_20230707T202002.mkv           False  \n",
       "cfg_raw_cam_02_fhd_h265_20230707T202002.mkv           False  \n",
       "cfg_raw_cam_02_fhd_h265_20230707T202002.mkv           False  \n",
       "cfg_raw_cam_02_fhd_h265_20230707T202002.mkv           False  \n",
       "cfg_raw_cam_02_fhd_h265_20230707T202002.mkv           False  \n",
       "cfg_raw_cam_02_fhd_h265_20230707T202002.mkv           False  \n",
       "cfg_raw_cam_02_fhd_h265_20230707T202002.mkv           False  \n",
       "cfg_raw_cam_02_fhd_h265_20230707T202002.mkv           False  \n",
       "cfg_raw_cam_02_fhd_h265_20230707T202002.mkv           False  \n",
       "cfg_raw_cam_02_fhd_h265_20230707T202002.mkv           False  \n",
       "cfg_raw_cam_02_fhd_h265_20230707T202002.mkv           False  \n",
       "cfg_raw_cam_02_fhd_h265_20230707T202002.mkv           False  \n",
       "cfg_raw_cam_02_fhd_h265_20230707T202002.mkv           False  \n",
       "cfg_raw_cam_02_fhd_h265_20230707T202002.mkv           False  \n",
       "cfg_raw_cam_02_fhd_h265_20230707T202002.mkv           False  "
      ]
     },
     "execution_count": 162,
     "metadata": {},
     "output_type": "execute_result"
    }
   ],
   "source": [
    "df_yolo_predictions.loc['cfg_raw_cam_02_fhd_h265_20230707T202002.mkv'][df_yolo_predictions.loc['cfg_raw_cam_02_fhd_h265_20230707T202002.mkv'].frame_id > 2250].sort_values('frame_id').head(30)"
   ]
  },
  {
   "cell_type": "code",
   "execution_count": 147,
   "metadata": {},
   "outputs": [
    {
     "data": {
      "text/plain": [
       "<Axes: xlabel='frame_id'>"
      ]
     },
     "execution_count": 147,
     "metadata": {},
     "output_type": "execute_result"
    },
    {
     "data": {
      "image/png": "[encoded data removed]",
      "text/plain": [
       "<Figure size 640x480 with 1 Axes>"
      ]
     },
     "metadata": {},
     "output_type": "display_data"
    }
   ],
   "source": [
    "df_yolo_predictions.loc['cfg_raw_cam_02_fhd_h265_20230707T202002.mkv'].groupby('frame_id').x.max().sort_index().plot()"
   ]
  },
  {
   "cell_type": "code",
   "execution_count": 112,
   "metadata": {},
   "outputs": [
    {
     "data": {
      "text/plain": [
       "count    2586.000000\n",
       "mean      812.137278\n",
       "std        84.303707\n",
       "min       448.000000\n",
       "25%       832.000000\n",
       "50%       834.000000\n",
       "75%       836.000000\n",
       "max      1065.000000\n",
       "Name: y, dtype: float64"
      ]
     },
     "execution_count": 112,
     "metadata": {},
     "output_type": "execute_result"
    }
   ],
   "source": [
    "df_yolo_predictions.loc['cfg_raw_cam_02_fhd_h265_20230707T174000.mkv'].y.describe()\n"
   ]
  },
  {
   "cell_type": "code",
   "execution_count": 117,
   "metadata": {},
   "outputs": [
    {
     "data": {
      "text/plain": [
       "x\n",
       "1533    1123\n",
       "1534     556\n",
       "1532     441\n",
       "1535     170\n",
       "1536      36\n",
       "        ... \n",
       "1642       1\n",
       "1617       1\n",
       "1618       1\n",
       "1569       1\n",
       "1072       1\n",
       "Name: count, Length: 173, dtype: int64"
      ]
     },
     "execution_count": 117,
     "metadata": {},
     "output_type": "execute_result"
    }
   ],
   "source": [
    "df_yolo_predictions.loc['cfg_raw_cam_02_fhd_h265_20230707T174000.mkv'].x.value_counts()"
   ]
  },
  {
   "cell_type": "code",
   "execution_count": 48,
   "metadata": {},
   "outputs": [
    {
     "data": {
      "text/plain": [
       "<matplotlib.collections.PathCollection at 0x7f3e3e0fdcd0>"
      ]
     },
     "execution_count": 48,
     "metadata": {},
     "output_type": "execute_result"
    },
    {
     "data": {
      "image/png": "[encoded data removed]",
      "text/plain": [
       "<Figure size 640x480 with 1 Axes>"
      ]
     },
     "metadata": {},
     "output_type": "display_data"
    }
   ],
   "source": [
    "plt.scatter(df_evaluation.iloc[0].frames_iou.keys(), df_evaluation.iloc[0].frames_iou.values())"
   ]
  },
  {
   "cell_type": "code",
   "execution_count": 52,
   "metadata": {},
   "outputs": [
    {
     "data": {
      "text/html": [
       "<div>\n",
       "<style scoped>\n",
       "    .dataframe tbody tr th:only-of-type {\n",
       "        vertical-align: middle;\n",
       "    }\n",
       "\n",
       "    .dataframe tbody tr th {\n",
       "        vertical-align: top;\n",
       "    }\n",
       "\n",
       "    .dataframe thead th {\n",
       "        text-align: right;\n",
       "    }\n",
       "</style>\n",
       "<table border=\"1\" class=\"dataframe\">\n",
       "  <thead>\n",
       "    <tr style=\"text-align: right;\">\n",
       "      <th></th>\n",
       "      <th>camera_id</th>\n",
       "      <th>datetime</th>\n",
       "      <th>frame_id</th>\n",
       "      <th>label_class</th>\n",
       "      <th>x</th>\n",
       "      <th>y</th>\n",
       "      <th>w</th>\n",
       "      <th>h</th>\n",
       "      <th>confidance</th>\n",
       "      <th>date</th>\n",
       "    </tr>\n",
       "    <tr>\n",
       "      <th>filename</th>\n",
       "      <th></th>\n",
       "      <th></th>\n",
       "      <th></th>\n",
       "      <th></th>\n",
       "      <th></th>\n",
       "      <th></th>\n",
       "      <th></th>\n",
       "      <th></th>\n",
       "      <th></th>\n",
       "      <th></th>\n",
       "    </tr>\n",
       "  </thead>\n",
       "  <tbody>\n",
       "    <tr>\n",
       "      <th>cfg_raw_cam_01_fhd_h265_20230609T050002.mkv</th>\n",
       "      <td>1</td>\n",
       "      <td>2023-06-09 05:00:02</td>\n",
       "      <td>1087</td>\n",
       "      <td>8</td>\n",
       "      <td>1332</td>\n",
       "      <td>544</td>\n",
       "      <td>187</td>\n",
       "      <td>81</td>\n",
       "      <td>1</td>\n",
       "      <td>2023-06-09</td>\n",
       "    </tr>\n",
       "    <tr>\n",
       "      <th>cfg_raw_cam_01_fhd_h265_20230609T050002.mkv</th>\n",
       "      <td>1</td>\n",
       "      <td>2023-06-09 05:00:02</td>\n",
       "      <td>1088</td>\n",
       "      <td>8</td>\n",
       "      <td>1331</td>\n",
       "      <td>542</td>\n",
       "      <td>187</td>\n",
       "      <td>81</td>\n",
       "      <td>1</td>\n",
       "      <td>2023-06-09</td>\n",
       "    </tr>\n",
       "    <tr>\n",
       "      <th>cfg_raw_cam_01_fhd_h265_20230609T050002.mkv</th>\n",
       "      <td>1</td>\n",
       "      <td>2023-06-09 05:00:02</td>\n",
       "      <td>1089</td>\n",
       "      <td>8</td>\n",
       "      <td>1332</td>\n",
       "      <td>543</td>\n",
       "      <td>187</td>\n",
       "      <td>81</td>\n",
       "      <td>1</td>\n",
       "      <td>2023-06-09</td>\n",
       "    </tr>\n",
       "    <tr>\n",
       "      <th>cfg_raw_cam_01_fhd_h265_20230609T050002.mkv</th>\n",
       "      <td>1</td>\n",
       "      <td>2023-06-09 05:00:02</td>\n",
       "      <td>1090</td>\n",
       "      <td>8</td>\n",
       "      <td>1332</td>\n",
       "      <td>543</td>\n",
       "      <td>187</td>\n",
       "      <td>81</td>\n",
       "      <td>1</td>\n",
       "      <td>2023-06-09</td>\n",
       "    </tr>\n",
       "    <tr>\n",
       "      <th>cfg_raw_cam_01_fhd_h265_20230609T050002.mkv</th>\n",
       "      <td>1</td>\n",
       "      <td>2023-06-09 05:00:02</td>\n",
       "      <td>1091</td>\n",
       "      <td>8</td>\n",
       "      <td>1332</td>\n",
       "      <td>543</td>\n",
       "      <td>187</td>\n",
       "      <td>81</td>\n",
       "      <td>1</td>\n",
       "      <td>2023-06-09</td>\n",
       "    </tr>\n",
       "    <tr>\n",
       "      <th>cfg_raw_cam_01_fhd_h265_20230609T050002.mkv</th>\n",
       "      <td>1</td>\n",
       "      <td>2023-06-09 05:00:02</td>\n",
       "      <td>1092</td>\n",
       "      <td>8</td>\n",
       "      <td>1332</td>\n",
       "      <td>543</td>\n",
       "      <td>187</td>\n",
       "      <td>81</td>\n",
       "      <td>1</td>\n",
       "      <td>2023-06-09</td>\n",
       "    </tr>\n",
       "    <tr>\n",
       "      <th>cfg_raw_cam_01_fhd_h265_20230609T050002.mkv</th>\n",
       "      <td>1</td>\n",
       "      <td>2023-06-09 05:00:02</td>\n",
       "      <td>1093</td>\n",
       "      <td>8</td>\n",
       "      <td>1332</td>\n",
       "      <td>543</td>\n",
       "      <td>187</td>\n",
       "      <td>81</td>\n",
       "      <td>1</td>\n",
       "      <td>2023-06-09</td>\n",
       "    </tr>\n",
       "    <tr>\n",
       "      <th>cfg_raw_cam_01_fhd_h265_20230609T050002.mkv</th>\n",
       "      <td>1</td>\n",
       "      <td>2023-06-09 05:00:02</td>\n",
       "      <td>1094</td>\n",
       "      <td>8</td>\n",
       "      <td>1309</td>\n",
       "      <td>554</td>\n",
       "      <td>187</td>\n",
       "      <td>81</td>\n",
       "      <td>1</td>\n",
       "      <td>2023-06-09</td>\n",
       "    </tr>\n",
       "    <tr>\n",
       "      <th>cfg_raw_cam_01_fhd_h265_20230609T050002.mkv</th>\n",
       "      <td>1</td>\n",
       "      <td>2023-06-09 05:00:02</td>\n",
       "      <td>1095</td>\n",
       "      <td>8</td>\n",
       "      <td>1310</td>\n",
       "      <td>553</td>\n",
       "      <td>187</td>\n",
       "      <td>81</td>\n",
       "      <td>1</td>\n",
       "      <td>2023-06-09</td>\n",
       "    </tr>\n",
       "    <tr>\n",
       "      <th>cfg_raw_cam_01_fhd_h265_20230609T050002.mkv</th>\n",
       "      <td>1</td>\n",
       "      <td>2023-06-09 05:00:02</td>\n",
       "      <td>1096</td>\n",
       "      <td>8</td>\n",
       "      <td>1309</td>\n",
       "      <td>553</td>\n",
       "      <td>187</td>\n",
       "      <td>81</td>\n",
       "      <td>1</td>\n",
       "      <td>2023-06-09</td>\n",
       "    </tr>\n",
       "    <tr>\n",
       "      <th>cfg_raw_cam_01_fhd_h265_20230609T050002.mkv</th>\n",
       "      <td>1</td>\n",
       "      <td>2023-06-09 05:00:02</td>\n",
       "      <td>1097</td>\n",
       "      <td>8</td>\n",
       "      <td>1313</td>\n",
       "      <td>553</td>\n",
       "      <td>194</td>\n",
       "      <td>81</td>\n",
       "      <td>1</td>\n",
       "      <td>2023-06-09</td>\n",
       "    </tr>\n",
       "    <tr>\n",
       "      <th>cfg_raw_cam_01_fhd_h265_20230609T050002.mkv</th>\n",
       "      <td>1</td>\n",
       "      <td>2023-06-09 05:00:02</td>\n",
       "      <td>1098</td>\n",
       "      <td>8</td>\n",
       "      <td>1313</td>\n",
       "      <td>553</td>\n",
       "      <td>194</td>\n",
       "      <td>81</td>\n",
       "      <td>1</td>\n",
       "      <td>2023-06-09</td>\n",
       "    </tr>\n",
       "    <tr>\n",
       "      <th>cfg_raw_cam_01_fhd_h265_20230609T050002.mkv</th>\n",
       "      <td>1</td>\n",
       "      <td>2023-06-09 05:00:02</td>\n",
       "      <td>1099</td>\n",
       "      <td>8</td>\n",
       "      <td>1313</td>\n",
       "      <td>553</td>\n",
       "      <td>194</td>\n",
       "      <td>81</td>\n",
       "      <td>1</td>\n",
       "      <td>2023-06-09</td>\n",
       "    </tr>\n",
       "    <tr>\n",
       "      <th>cfg_raw_cam_01_fhd_h265_20230609T050002.mkv</th>\n",
       "      <td>1</td>\n",
       "      <td>2023-06-09 05:00:02</td>\n",
       "      <td>1100</td>\n",
       "      <td>8</td>\n",
       "      <td>1313</td>\n",
       "      <td>553</td>\n",
       "      <td>194</td>\n",
       "      <td>81</td>\n",
       "      <td>1</td>\n",
       "      <td>2023-06-09</td>\n",
       "    </tr>\n",
       "    <tr>\n",
       "      <th>cfg_raw_cam_01_fhd_h265_20230609T050002.mkv</th>\n",
       "      <td>1</td>\n",
       "      <td>2023-06-09 05:00:02</td>\n",
       "      <td>1101</td>\n",
       "      <td>8</td>\n",
       "      <td>1313</td>\n",
       "      <td>554</td>\n",
       "      <td>194</td>\n",
       "      <td>81</td>\n",
       "      <td>1</td>\n",
       "      <td>2023-06-09</td>\n",
       "    </tr>\n",
       "    <tr>\n",
       "      <th>cfg_raw_cam_01_fhd_h265_20230609T050002.mkv</th>\n",
       "      <td>1</td>\n",
       "      <td>2023-06-09 05:00:02</td>\n",
       "      <td>1102</td>\n",
       "      <td>8</td>\n",
       "      <td>1314</td>\n",
       "      <td>554</td>\n",
       "      <td>194</td>\n",
       "      <td>81</td>\n",
       "      <td>1</td>\n",
       "      <td>2023-06-09</td>\n",
       "    </tr>\n",
       "    <tr>\n",
       "      <th>cfg_raw_cam_01_fhd_h265_20230609T050002.mkv</th>\n",
       "      <td>1</td>\n",
       "      <td>2023-06-09 05:00:02</td>\n",
       "      <td>1103</td>\n",
       "      <td>8</td>\n",
       "      <td>1313</td>\n",
       "      <td>553</td>\n",
       "      <td>194</td>\n",
       "      <td>81</td>\n",
       "      <td>1</td>\n",
       "      <td>2023-06-09</td>\n",
       "    </tr>\n",
       "    <tr>\n",
       "      <th>cfg_raw_cam_01_fhd_h265_20230609T050002.mkv</th>\n",
       "      <td>1</td>\n",
       "      <td>2023-06-09 05:00:02</td>\n",
       "      <td>1104</td>\n",
       "      <td>8</td>\n",
       "      <td>1313</td>\n",
       "      <td>554</td>\n",
       "      <td>194</td>\n",
       "      <td>81</td>\n",
       "      <td>1</td>\n",
       "      <td>2023-06-09</td>\n",
       "    </tr>\n",
       "    <tr>\n",
       "      <th>cfg_raw_cam_01_fhd_h265_20230609T050002.mkv</th>\n",
       "      <td>1</td>\n",
       "      <td>2023-06-09 05:00:02</td>\n",
       "      <td>1105</td>\n",
       "      <td>8</td>\n",
       "      <td>1314</td>\n",
       "      <td>554</td>\n",
       "      <td>194</td>\n",
       "      <td>81</td>\n",
       "      <td>1</td>\n",
       "      <td>2023-06-09</td>\n",
       "    </tr>\n",
       "    <tr>\n",
       "      <th>cfg_raw_cam_01_fhd_h265_20230609T050002.mkv</th>\n",
       "      <td>1</td>\n",
       "      <td>2023-06-09 05:00:02</td>\n",
       "      <td>1106</td>\n",
       "      <td>8</td>\n",
       "      <td>1314</td>\n",
       "      <td>554</td>\n",
       "      <td>194</td>\n",
       "      <td>81</td>\n",
       "      <td>1</td>\n",
       "      <td>2023-06-09</td>\n",
       "    </tr>\n",
       "    <tr>\n",
       "      <th>cfg_raw_cam_01_fhd_h265_20230609T050002.mkv</th>\n",
       "      <td>1</td>\n",
       "      <td>2023-06-09 05:00:02</td>\n",
       "      <td>1107</td>\n",
       "      <td>8</td>\n",
       "      <td>1313</td>\n",
       "      <td>554</td>\n",
       "      <td>194</td>\n",
       "      <td>81</td>\n",
       "      <td>1</td>\n",
       "      <td>2023-06-09</td>\n",
       "    </tr>\n",
       "    <tr>\n",
       "      <th>cfg_raw_cam_01_fhd_h265_20230609T050002.mkv</th>\n",
       "      <td>1</td>\n",
       "      <td>2023-06-09 05:00:02</td>\n",
       "      <td>1108</td>\n",
       "      <td>8</td>\n",
       "      <td>1313</td>\n",
       "      <td>554</td>\n",
       "      <td>194</td>\n",
       "      <td>81</td>\n",
       "      <td>1</td>\n",
       "      <td>2023-06-09</td>\n",
       "    </tr>\n",
       "  </tbody>\n",
       "</table>\n",
       "</div>"
      ],
      "text/plain": [
       "                                             camera_id            datetime  \\\n",
       "filename                                                                     \n",
       "cfg_raw_cam_01_fhd_h265_20230609T050002.mkv          1 2023-06-09 05:00:02   \n",
       "cfg_raw_cam_01_fhd_h265_20230609T050002.mkv          1 2023-06-09 05:00:02   \n",
       "cfg_raw_cam_01_fhd_h265_20230609T050002.mkv          1 2023-06-09 05:00:02   \n",
       "cfg_raw_cam_01_fhd_h265_20230609T050002.mkv          1 2023-06-09 05:00:02   \n",
       "cfg_raw_cam_01_fhd_h265_20230609T050002.mkv          1 2023-06-09 05:00:02   \n",
       "cfg_raw_cam_01_fhd_h265_20230609T050002.mkv          1 2023-06-09 05:00:02   \n",
       "cfg_raw_cam_01_fhd_h265_20230609T050002.mkv          1 2023-06-09 05:00:02   \n",
       "cfg_raw_cam_01_fhd_h265_20230609T050002.mkv          1 2023-06-09 05:00:02   \n",
       "cfg_raw_cam_01_fhd_h265_20230609T050002.mkv          1 2023-06-09 05:00:02   \n",
       "cfg_raw_cam_01_fhd_h265_20230609T050002.mkv          1 2023-06-09 05:00:02   \n",
       "cfg_raw_cam_01_fhd_h265_20230609T050002.mkv          1 2023-06-09 05:00:02   \n",
       "cfg_raw_cam_01_fhd_h265_20230609T050002.mkv          1 2023-06-09 05:00:02   \n",
       "cfg_raw_cam_01_fhd_h265_20230609T050002.mkv          1 2023-06-09 05:00:02   \n",
       "cfg_raw_cam_01_fhd_h265_20230609T050002.mkv          1 2023-06-09 05:00:02   \n",
       "cfg_raw_cam_01_fhd_h265_20230609T050002.mkv          1 2023-06-09 05:00:02   \n",
       "cfg_raw_cam_01_fhd_h265_20230609T050002.mkv          1 2023-06-09 05:00:02   \n",
       "cfg_raw_cam_01_fhd_h265_20230609T050002.mkv          1 2023-06-09 05:00:02   \n",
       "cfg_raw_cam_01_fhd_h265_20230609T050002.mkv          1 2023-06-09 05:00:02   \n",
       "cfg_raw_cam_01_fhd_h265_20230609T050002.mkv          1 2023-06-09 05:00:02   \n",
       "cfg_raw_cam_01_fhd_h265_20230609T050002.mkv          1 2023-06-09 05:00:02   \n",
       "cfg_raw_cam_01_fhd_h265_20230609T050002.mkv          1 2023-06-09 05:00:02   \n",
       "cfg_raw_cam_01_fhd_h265_20230609T050002.mkv          1 2023-06-09 05:00:02   \n",
       "\n",
       "                                             frame_id  label_class     x    y  \\\n",
       "filename                                                                        \n",
       "cfg_raw_cam_01_fhd_h265_20230609T050002.mkv      1087            8  1332  544   \n",
       "cfg_raw_cam_01_fhd_h265_20230609T050002.mkv      1088            8  1331  542   \n",
       "cfg_raw_cam_01_fhd_h265_20230609T050002.mkv      1089            8  1332  543   \n",
       "cfg_raw_cam_01_fhd_h265_20230609T050002.mkv      1090            8  1332  543   \n",
       "cfg_raw_cam_01_fhd_h265_20230609T050002.mkv      1091            8  1332  543   \n",
       "cfg_raw_cam_01_fhd_h265_20230609T050002.mkv      1092            8  1332  543   \n",
       "cfg_raw_cam_01_fhd_h265_20230609T050002.mkv      1093            8  1332  543   \n",
       "cfg_raw_cam_01_fhd_h265_20230609T050002.mkv      1094            8  1309  554   \n",
       "cfg_raw_cam_01_fhd_h265_20230609T050002.mkv      1095            8  1310  553   \n",
       "cfg_raw_cam_01_fhd_h265_20230609T050002.mkv      1096            8  1309  553   \n",
       "cfg_raw_cam_01_fhd_h265_20230609T050002.mkv      1097            8  1313  553   \n",
       "cfg_raw_cam_01_fhd_h265_20230609T050002.mkv      1098            8  1313  553   \n",
       "cfg_raw_cam_01_fhd_h265_20230609T050002.mkv      1099            8  1313  553   \n",
       "cfg_raw_cam_01_fhd_h265_20230609T050002.mkv      1100            8  1313  553   \n",
       "cfg_raw_cam_01_fhd_h265_20230609T050002.mkv      1101            8  1313  554   \n",
       "cfg_raw_cam_01_fhd_h265_20230609T050002.mkv      1102            8  1314  554   \n",
       "cfg_raw_cam_01_fhd_h265_20230609T050002.mkv      1103            8  1313  553   \n",
       "cfg_raw_cam_01_fhd_h265_20230609T050002.mkv      1104            8  1313  554   \n",
       "cfg_raw_cam_01_fhd_h265_20230609T050002.mkv      1105            8  1314  554   \n",
       "cfg_raw_cam_01_fhd_h265_20230609T050002.mkv      1106            8  1314  554   \n",
       "cfg_raw_cam_01_fhd_h265_20230609T050002.mkv      1107            8  1313  554   \n",
       "cfg_raw_cam_01_fhd_h265_20230609T050002.mkv      1108            8  1313  554   \n",
       "\n",
       "                                               w   h  confidance        date  \n",
       "filename                                                                      \n",
       "cfg_raw_cam_01_fhd_h265_20230609T050002.mkv  187  81           1  2023-06-09  \n",
       "cfg_raw_cam_01_fhd_h265_20230609T050002.mkv  187  81           1  2023-06-09  \n",
       "cfg_raw_cam_01_fhd_h265_20230609T050002.mkv  187  81           1  2023-06-09  \n",
       "cfg_raw_cam_01_fhd_h265_20230609T050002.mkv  187  81           1  2023-06-09  \n",
       "cfg_raw_cam_01_fhd_h265_20230609T050002.mkv  187  81           1  2023-06-09  \n",
       "cfg_raw_cam_01_fhd_h265_20230609T050002.mkv  187  81           1  2023-06-09  \n",
       "cfg_raw_cam_01_fhd_h265_20230609T050002.mkv  187  81           1  2023-06-09  \n",
       "cfg_raw_cam_01_fhd_h265_20230609T050002.mkv  187  81           1  2023-06-09  \n",
       "cfg_raw_cam_01_fhd_h265_20230609T050002.mkv  187  81           1  2023-06-09  \n",
       "cfg_raw_cam_01_fhd_h265_20230609T050002.mkv  187  81           1  2023-06-09  \n",
       "cfg_raw_cam_01_fhd_h265_20230609T050002.mkv  194  81           1  2023-06-09  \n",
       "cfg_raw_cam_01_fhd_h265_20230609T050002.mkv  194  81           1  2023-06-09  \n",
       "cfg_raw_cam_01_fhd_h265_20230609T050002.mkv  194  81           1  2023-06-09  \n",
       "cfg_raw_cam_01_fhd_h265_20230609T050002.mkv  194  81           1  2023-06-09  \n",
       "cfg_raw_cam_01_fhd_h265_20230609T050002.mkv  194  81           1  2023-06-09  \n",
       "cfg_raw_cam_01_fhd_h265_20230609T050002.mkv  194  81           1  2023-06-09  \n",
       "cfg_raw_cam_01_fhd_h265_20230609T050002.mkv  194  81           1  2023-06-09  \n",
       "cfg_raw_cam_01_fhd_h265_20230609T050002.mkv  194  81           1  2023-06-09  \n",
       "cfg_raw_cam_01_fhd_h265_20230609T050002.mkv  194  81           1  2023-06-09  \n",
       "cfg_raw_cam_01_fhd_h265_20230609T050002.mkv  194  81           1  2023-06-09  \n",
       "cfg_raw_cam_01_fhd_h265_20230609T050002.mkv  194  81           1  2023-06-09  \n",
       "cfg_raw_cam_01_fhd_h265_20230609T050002.mkv  194  81           1  2023-06-09  "
      ]
     },
     "execution_count": 52,
     "metadata": {},
     "output_type": "execute_result"
    }
   ],
   "source": [
    "df_ground_truth.loc['cfg_raw_cam_01_fhd_h265_20230609T050002.mkv'].sort_values('frame_id')"
   ]
  },
  {
   "cell_type": "code",
   "execution_count": 24,
   "metadata": {},
   "outputs": [
    {
     "data": {
      "text/plain": [
       "<Axes: xlabel='filename'>"
      ]
     },
     "execution_count": 24,
     "metadata": {},
     "output_type": "execute_result"
    },
    {
     "data": {
      "image/png": "[encoded data removed]",
      "text/plain": [
       "<Figure size 640x480 with 1 Axes>"
      ]
     },
     "metadata": {},
     "output_type": "display_data"
    }
   ],
   "source": [
    "df_ground_truth.loc['cfg_raw_cam_02_fhd_h265_20230707T124001.mkv'].sort_values('frame_id').frame_id.plot()"
   ]
  },
  {
   "cell_type": "code",
   "execution_count": 55,
   "metadata": {},
   "outputs": [
    {
     "data": {
      "text/plain": [
       "(4.529166666666667, 4.0, 31.75)"
      ]
     },
     "execution_count": 55,
     "metadata": {},
     "output_type": "execute_result"
    }
   ],
   "source": [
    "convert_frame_id = 1087\n",
    "convert_frame_id / 4 / 60, convert_frame_id / 4 // 60, convert_frame_id / 4 % 60"
   ]
  },
  {
   "cell_type": "code",
   "execution_count": 29,
   "metadata": {},
   "outputs": [
    {
     "data": {
      "text/plain": [
       "<Axes: xlabel='filename'>"
      ]
     },
     "execution_count": 29,
     "metadata": {},
     "output_type": "execute_result"
    },
    {
     "data": {
      "image/png": "[encoded data removed]",
      "text/plain": [
       "<Figure size 640x480 with 1 Axes>"
      ]
     },
     "metadata": {},
     "output_type": "display_data"
    }
   ],
   "source": [
    "df_tmp = df_yolo_predictions.loc['cfg_raw_cam_02_fhd_h265_20230707T124001.mkv']\n",
    "df_tmp[df_tmp.x < 1800].sort_values('frame_id').frame_id.plot()"
   ]
  }
 ],
 "metadata": {
  "kernelspec": {
   "display_name": "venv",
   "language": "python",
   "name": "python3"
  },
  "language_info": {
   "codemirror_mode": {
    "name": "ipython",
    "version": 3
   },
   "file_extension": ".py",
   "mimetype": "text/x-python",
   "name": "python",
   "nbconvert_exporter": "python",
   "pygments_lexer": "ipython3",
   "version": "3.11.0rc1"
  },
  "orig_nbformat": 4
 },
 "nbformat": 4,
 "nbformat_minor": 2
}
