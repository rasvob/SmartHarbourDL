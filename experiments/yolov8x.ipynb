{
 "cells": [
  {
   "cell_type": "code",
   "execution_count": null,
   "id": "dcc10c27-2894-4746-a627-5fc3fc5ac89c",
   "metadata": {},
   "outputs": [],
   "source": [
    "import yaml\n",
    "import os\n",
    "import pickle\n",
    "import pandas as pd\n",
    "import numpy as np\n",
    "from tqdm.notebook import trange, tqdm\n",
    "from glob import glob"
   ]
  },
  {
   "cell_type": "code",
   "execution_count": null,
   "id": "546a1ec1-2357-47ea-93ad-c43cb3c57b03",
   "metadata": {},
   "outputs": [],
   "source": [
    "from ultralytics import YOLO"
   ]
  },
  {
   "cell_type": "code",
   "execution_count": null,
   "id": "dfe5fb87-23d0-47b7-8015-5ee9927932e1",
   "metadata": {},
   "outputs": [],
   "source": [
    "CONFIG_PATH = r'../config/config_sumo3.yaml'\n",
    "DEVICE = 0\n",
    "CAM = '02'\n",
    "HALF = 0 if DEVICE == 0 or DEVICE == 2 else 1"
   ]
  },
  {
   "cell_type": "code",
   "execution_count": null,
   "id": "9263b5ec-fbb2-4199-a233-d55284f27993",
   "metadata": {},
   "outputs": [],
   "source": [
    "with open(CONFIG_PATH, \"r\") as stream:\n",
    "    try:\n",
    "        config = yaml.safe_load(stream)\n",
    "    except yaml.YAMLError as exc:\n",
    "        print(exc)"
   ]
  },
  {
   "cell_type": "code",
   "execution_count": null,
   "id": "2780587b-4d6d-4917-86cb-ae2a0875e3de",
   "metadata": {},
   "outputs": [],
   "source": [
    "camera_cfg = config[f'camera-{CAM}']\n",
    "camera_cfg"
   ]
  },
  {
   "cell_type": "code",
   "execution_count": null,
   "id": "bd0a5848-d9cf-4078-a902-51ebd1c61cf5",
   "metadata": {},
   "outputs": [],
   "source": [
    "files = glob(f\"{camera_cfg['data-folder']}/*.mkv\")"
   ]
  },
  {
   "cell_type": "code",
   "execution_count": null,
   "id": "2f700738-c5e7-42bd-8d18-953005612d27",
   "metadata": {},
   "outputs": [],
   "source": [
    "for f in files:\n",
    "    bname = os.path.basename(f)\n",
    "    bname_no_ext = bname[:-4]"
   ]
  },
  {
   "cell_type": "code",
   "execution_count": null,
   "id": "d43c30c5-9ed4-4f70-bcf5-4ad0f9b3cab9",
   "metadata": {},
   "outputs": [],
   "source": [
    "video_file = r'cfg_raw_cam_02_fhd_h265_20230609T090003.mkv'\n",
    "video_file_name = video_file\n",
    "video_file = os.path.join(camera_cfg['data-folder'], video_file)\n",
    "video_file"
   ]
  },
  {
   "cell_type": "code",
   "execution_count": null,
   "id": "88409b22-93f2-4e05-9277-3207631f2f4f",
   "metadata": {},
   "outputs": [],
   "source": [
    "model = YOLO(\"../saved_models/yolov8x.pt\")  # load a pretrained model (recommended for training)"
   ]
  },
  {
   "cell_type": "code",
   "execution_count": null,
   "id": "20d162d3-9dde-4abf-bdce-c43f15386f41",
   "metadata": {},
   "outputs": [],
   "source": [
    "results = model(video_file, stream=True, device=3, imgsz=1920, save_txt=True, save_conf=True, save=False, classes=[8])  # predict on an image"
   ]
  },
  {
   "cell_type": "code",
   "execution_count": null,
   "id": "6ce35658-a647-4485-946a-fa0eeb35f049",
   "metadata": {
    "scrolled": true
   },
   "outputs": [],
   "source": [
    "res = []\n",
    "for result in results:\n",
    "    curr = result.boxes.data.cpu().numpy()\n",
    "    res.append(curr)"
   ]
  },
  {
   "cell_type": "code",
   "execution_count": null,
   "id": "07ac59c4-8dc9-45a3-8db1-92c0235727aa",
   "metadata": {
    "scrolled": true
   },
   "outputs": [],
   "source": [
    "with open(f'./output/{video_file_name}.pickle', 'wb') as handle:\n",
    "    pickle.dump(res, handle, protocol=pickle.HIGHEST_PROTOCOL)"
   ]
  }
 ],
 "metadata": {
  "kernelspec": {
   "display_name": "Python 3 (ipykernel)",
   "language": "python",
   "name": "python3"
  },
  "language_info": {
   "codemirror_mode": {
    "name": "ipython",
    "version": 3
   },
   "file_extension": ".py",
   "mimetype": "text/x-python",
   "name": "python",
   "nbconvert_exporter": "python",
   "pygments_lexer": "ipython3",
   "version": "3.11.0rc1"
  }
 },
 "nbformat": 4,
 "nbformat_minor": 5
}
