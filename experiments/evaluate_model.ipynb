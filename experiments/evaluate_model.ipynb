{
 "cells": [
  {
   "cell_type": "code",
   "execution_count": null,
   "metadata": {},
   "outputs": [],
   "source": [
    "import pandas as pd\n",
    "import matplotlib.pyplot as plt\n",
    "import tqdm"
   ]
  },
  {
   "cell_type": "code",
   "execution_count": null,
   "metadata": {},
   "outputs": [],
   "source": [
    "# df_ground_truth = pd.read_csv('../annotations/ground_truth_sample.csv', index_col=0, sep=';')\n",
    "# df_yolo_predictions = pd.read_csv('../annotations/yolo_labels_sample.csv', index_col=0, sep=';')\n",
    "# TODO: add +1 for frame_id in yolo real predictions\n",
    "\n",
    "df_ground_truth = pd.read_csv('../annotations/ground_truth_boat_frames_coco.csv', index_col=0, sep=';')\n",
    "df_yolo_predictions = pd.read_csv('../annotations/yolov8x_no_train_labels.csv', index_col=0, sep=';')\n",
    "\n",
    "df_ground_truth['datetime'] = pd.to_datetime(df_ground_truth.datetime)\n",
    "df_ground_truth['date'] = df_ground_truth.datetime.dt.date\n",
    "df_yolo_predictions['datetime'] = pd.to_datetime(df_yolo_predictions['datetime'])\n",
    "df_yolo_predictions['date'] = pd.to_datetime(df_yolo_predictions.datetime.dt.date, format='%Y-%m-%d')\n",
    "print('shape of loaded data', df_ground_truth.shape, df_yolo_predictions.shape)\n",
    "print(df_ground_truth.groupby(['date', 'camera_id']).datetime.count())\n",
    "print(df_yolo_predictions.groupby(['date', 'camera_id']).datetime.count())\n",
    "\n",
    "df_yolo_predictions = df_yolo_predictions[\\\n",
    "    ((df_yolo_predictions.date == '2023-06-09') & (df_yolo_predictions.camera_id.isin([1,2]))) |\\\n",
    "    ((df_yolo_predictions.date == '2023-06-10') & (df_yolo_predictions.camera_id == 2)) |\\\n",
    "    ((df_yolo_predictions.date == '2023-07-07') & (df_yolo_predictions.camera_id == 2)) |\\\n",
    "    ((df_yolo_predictions.date == '2023-07-08') & (df_yolo_predictions.camera_id == 1)) \\\n",
    "].copy()\n",
    "\n",
    "df_yolo_predictions.drop(index=df_yolo_predictions[(df_yolo_predictions.camera_id == 2) & (df_yolo_predictions.x > 1800)].index, inplace=True)\n",
    "df_ground_truth.drop(index=df_ground_truth[(df_ground_truth.camera_id == 2) & (df_ground_truth.x > 1800)].index, inplace=True)\n",
    "\n",
    "df_ground_truth.set_index('filename', inplace=True)\n",
    "df_yolo_predictions.set_index('filename', inplace=True)\n",
    "\n",
    "df_ground_truth.shape, df_yolo_predictions.shape"
   ]
  },
  {
   "cell_type": "code",
   "execution_count": null,
   "metadata": {},
   "outputs": [],
   "source": [
    "df_yolo_predictions_frame_indexed = df_yolo_predictions.reset_index().set_index(['filename', 'frame_id'])\n",
    "df_yolo_predictions_frame_indexed.shape"
   ]
  },
  {
   "cell_type": "code",
   "execution_count": null,
   "metadata": {},
   "outputs": [],
   "source": [
    "def calculate_iou(ground_truth:tuple, prediction:tuple):\n",
    "    \"\"\"\n",
    "        Calculate intersection over union for two bounding boxes.\n",
    "        Args:\n",
    "            ground_truth: tuple of (x, y, w, h)\n",
    "            prediction: tuple of (x, y, w, h)\n",
    "    \"\"\"\n",
    "    gt_xtl = ground_truth[0]-ground_truth[2]/2\n",
    "    gt_ytl = ground_truth[1]-ground_truth[3]/2\n",
    "    gt_xbr = ground_truth[0]+ground_truth[2]/2\n",
    "    gt_ybr = ground_truth[1]+ground_truth[3]/2\n",
    "    pr_xtl = prediction[0]-prediction[2]/2\n",
    "    pr_ytl = prediction[1]-prediction[3]/2\n",
    "    pr_xbr = prediction[0]+prediction[2]/2\n",
    "    pr_ybr = prediction[1]+prediction[3]/2\n",
    "    intersection_xtl = max(gt_xtl, pr_xtl)\n",
    "    intersection_ytl = max(gt_ytl, pr_ytl)\n",
    "    intersection_xbr = min(gt_xbr, pr_xbr)\n",
    "    intersection_ybr = min(gt_ybr, pr_ybr)\n",
    "    intersection_area = max(0, intersection_xbr - intersection_xtl) * max(0, intersection_ybr - intersection_ytl)\n",
    "    union_area = ground_truth[2] * ground_truth[3] + prediction[2] * prediction[3] - intersection_area\n",
    "    return intersection_area / union_area\n",
    "\n",
    "# group quality results by name, aggregate over frame_id and calculate true positive, false positive, false negative when comparing corresponding names and frame from both dataset\n",
    "evaluation_dict = dict()\n",
    "#for id in tqdm.tqdm(list(['cfg_raw_cam_02_fhd_h265_20230707T124001.mkv'])):\n",
    "for id in tqdm.tqdm(set(df_ground_truth.index) | set(df_yolo_predictions.index)):\n",
    "# for id in set(df_ground_truth.index) | set(df_yolo_predictions.index):\n",
    "    evaluation_dict[id] = dict()\n",
    "\n",
    "    if id in df_ground_truth.index:\n",
    "        if df_ground_truth.loc[id,'frame_id'].size == 1:\n",
    "            ground_truth_frame_ids = set([df_ground_truth.loc[id,'frame_id']])\n",
    "        else:\n",
    "            ground_truth_frame_ids = set(df_ground_truth.loc[id,'frame_id'])\n",
    "    else:\n",
    "        ground_truth_frame_ids = set()\n",
    "\n",
    "    if id in df_yolo_predictions.index:\n",
    "        if df_yolo_predictions.loc[id,'frame_id'].size == 1:\n",
    "            yolo_frame_ids = set([df_yolo_predictions.loc[id,'frame_id']])\n",
    "        else:\n",
    "            yolo_frame_ids = set(df_yolo_predictions.loc[id,'frame_id'])\n",
    "    else:\n",
    "        yolo_frame_ids = set()\n",
    "    \n",
    "    corresponding_frames = ground_truth_frame_ids & yolo_frame_ids\n",
    "    evaluation_dict[id]['true_positive'] = len(corresponding_frames)\n",
    "    evaluation_dict[id]['false_positive'] = len(yolo_frame_ids - ground_truth_frame_ids)\n",
    "    evaluation_dict[id]['false_negative'] = len(ground_truth_frame_ids - yolo_frame_ids)\n",
    "    if len(corresponding_frames) > 0:\n",
    "        frames_iou = {}\n",
    "        for frame_id in corresponding_frames:\n",
    "            # calulate iou for each frame\n",
    "            ground_truth_frame = df_ground_truth.loc[id].loc[df_ground_truth.loc[id].frame_id == frame_id].iloc[0]\n",
    "            # prediction_frame = df_yolo_predictions.loc[id].loc[df_yolo_predictions.loc[id].frame_id == frame_id].sort_values('w', ascending=False).iloc[0] ## this line was computation heavy, therefore indexed version is used\n",
    "            prediciton_frames = df_yolo_predictions_frame_indexed.loc[id].loc[frame_id]\n",
    "            if len(prediciton_frames.shape) == 1:\n",
    "                prediction_frame = prediciton_frames\n",
    "            else:\n",
    "                prediction_frame = prediciton_frames.sort_values('w', ascending=False).iloc[0]\n",
    "            frames_iou[frame_id] = calculate_iou(ground_truth_frame[['x', 'y', 'w', 'h']].values, prediction_frame[['x', 'y', 'w', 'h']].values)\n",
    "        evaluation_dict[id]['iou'] = sum(frames_iou.values()) / len(frames_iou.values())\n",
    "        evaluation_dict[id]['frames_iou'] = frames_iou\n",
    "    else:\n",
    "        evaluation_dict[id]['iou'] = 0\n",
    "        evaluation_dict[id]['frames_iou'] = []\n",
    "\n",
    "df_evaluation = pd.DataFrame().from_dict(evaluation_dict, orient='index')\n",
    "df_evaluation['f1'] = 2 * df_evaluation['true_positive'] / (2 * df_evaluation['true_positive'] + df_evaluation['false_positive'] + df_evaluation['false_negative'])\n",
    "df_evaluation['recall'] = df_evaluation['true_positive'] / (df_evaluation['true_positive'] + df_evaluation['false_negative'])\n",
    "df_evaluation['precision'] = df_evaluation['true_positive'] / (df_evaluation['true_positive'] + df_evaluation['false_positive'])\n",
    "df_evaluation"
   ]
  },
  {
   "cell_type": "code",
   "execution_count": null,
   "metadata": {},
   "outputs": [],
   "source": [
    "df_evaluation.sort_values('true_positive', ascending=False)"
   ]
  },
  {
   "cell_type": "code",
   "execution_count": null,
   "metadata": {},
   "outputs": [],
   "source": [
    "df_evaluation.to_csv('data_evaluation.csv')"
   ]
  },
  {
   "cell_type": "markdown",
   "metadata": {},
   "source": [
    "## Helpers for debugging"
   ]
  },
  {
   "cell_type": "code",
   "execution_count": null,
   "metadata": {},
   "outputs": [],
   "source": [
    "plt.scatter(df_evaluation.iloc[0].frames_iou.keys(), df_evaluation.iloc[0].frames_iou.values())"
   ]
  },
  {
   "cell_type": "code",
   "execution_count": null,
   "metadata": {},
   "outputs": [],
   "source": [
    "df_ground_truth.loc['cfg_raw_cam_01_fhd_h265_20230609T050002.mkv'].sort_values('frame_id')"
   ]
  },
  {
   "cell_type": "code",
   "execution_count": null,
   "metadata": {},
   "outputs": [],
   "source": [
    "df_ground_truth.loc['cfg_raw_cam_02_fhd_h265_20230707T124001.mkv'].sort_values('frame_id').frame_id.plot()"
   ]
  },
  {
   "cell_type": "code",
   "execution_count": null,
   "metadata": {},
   "outputs": [],
   "source": [
    "convert_frame_id = 1087\n",
    "convert_frame_id / 4 / 60, convert_frame_id / 4 // 60, convert_frame_id / 4 % 60"
   ]
  },
  {
   "cell_type": "code",
   "execution_count": null,
   "metadata": {},
   "outputs": [],
   "source": [
    "df_tmp = df_yolo_predictions.loc['cfg_raw_cam_02_fhd_h265_20230707T124001.mkv']\n",
    "df_tmp[df_tmp.x < 1800].sort_values('frame_id').frame_id.plot()"
   ]
  },
  {
   "cell_type": "code",
   "execution_count": null,
   "metadata": {},
   "outputs": [],
   "source": [
    "df_tmp[(df_tmp.x < 1800) & (df_tmp.frame_id > 1000)].sort_values('frame_id')"
   ]
  }
 ],
 "metadata": {
  "kernelspec": {
   "display_name": "Python 3 (ipykernel)",
   "language": "python",
   "name": "python3"
  },
  "language_info": {
   "codemirror_mode": {
    "name": "ipython",
    "version": 3
   },
   "file_extension": ".py",
   "mimetype": "text/x-python",
   "name": "python",
   "nbconvert_exporter": "python",
   "pygments_lexer": "ipython3",
   "version": "3.11.0rc1"
  }
 },
 "nbformat": 4,
 "nbformat_minor": 4
}
