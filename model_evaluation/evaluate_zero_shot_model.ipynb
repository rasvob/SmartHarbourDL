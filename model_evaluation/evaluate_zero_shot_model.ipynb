{
 "cells": [
  {
   "cell_type": "code",
   "execution_count": 30,
   "metadata": {},
   "outputs": [],
   "source": [
    "import pandas as pd\n",
    "import numpy as np\n",
    "import matplotlib.pyplot as plt\n",
    "\n",
    "import model_evaluation_functions"
   ]
  },
  {
   "cell_type": "code",
   "execution_count": 31,
   "metadata": {},
   "outputs": [
    {
     "name": "stdout",
     "output_type": "stream",
     "text": [
      "The autoreload extension is already loaded. To reload it, use:\n",
      "  %reload_ext autoreload\n"
     ]
    }
   ],
   "source": [
    "%load_ext autoreload\n",
    "%autoreload 2"
   ]
  },
  {
   "cell_type": "markdown",
   "metadata": {},
   "source": [
    "# Load and clean prediciton data"
   ]
  },
  {
   "cell_type": "code",
   "execution_count": 32,
   "metadata": {},
   "outputs": [
    {
     "name": "stdout",
     "output_type": "stream",
     "text": [
      "shape of loaded data (25443, 11) (826239, 11)\n",
      "Ground truth data:\n",
      "date        camera_id\n",
      "2023-06-09  1            4149\n",
      "            2            3481\n",
      "2023-06-10  2            6321\n",
      "2023-07-07  2            6500\n",
      "2023-07-08  1            4992\n",
      "Name: datetime, dtype: int64\n",
      "YOLO predictions data:\n",
      "date        camera_id\n",
      "2023-06-09  1            214940\n",
      "            2             12452\n",
      "2023-06-10  1            132223\n",
      "            2             28347\n",
      "2023-06-11  1             65558\n",
      "            2              5577\n",
      "2023-07-07  2            189338\n",
      "2023-07-08  1            177804\n",
      "Name: datetime, dtype: int64\n"
     ]
    },
    {
     "data": {
      "text/plain": [
       "((25443, 10), (622881, 10))"
      ]
     },
     "execution_count": 32,
     "metadata": {},
     "output_type": "execute_result"
    }
   ],
   "source": [
    "df_ground_truth = pd.read_csv('../annotations/ground_truth_boat_frames_coco.csv', index_col=0, sep=';')\n",
    "df_yolo_predictions = pd.read_csv('../annotations/yolov8x_no_train_labels.csv', index_col=0, sep=';')\n",
    "\n",
    "df_ground_truth['datetime'] = pd.to_datetime(df_ground_truth.datetime)\n",
    "df_ground_truth['date'] = pd.to_datetime(df_ground_truth.datetime.dt.date, format='%Y-%m-%d')\n",
    "df_yolo_predictions['datetime'] = pd.to_datetime(df_yolo_predictions['datetime'])\n",
    "df_yolo_predictions['date'] = pd.to_datetime(df_yolo_predictions.datetime.dt.date, format='%Y-%m-%d')\n",
    "print('shape of loaded data', df_ground_truth.shape, df_yolo_predictions.shape)\n",
    "print('Ground truth data:')\n",
    "print(df_ground_truth.groupby(['date', 'camera_id']).datetime.count())\n",
    "print('YOLO predictions data:')\n",
    "print(df_yolo_predictions.groupby(['date', 'camera_id']).datetime.count())\n",
    "\n",
    "# filter out predictions for dates with ground truth data\n",
    "df_yolo_predictions = df_yolo_predictions[\\\n",
    "    ((df_yolo_predictions.date == '2023-06-09') & (df_yolo_predictions.camera_id.isin([1,2]))) |\\\n",
    "    ((df_yolo_predictions.date == '2023-06-10') & (df_yolo_predictions.camera_id == 2)) |\\\n",
    "    ((df_yolo_predictions.date == '2023-07-07') & (df_yolo_predictions.camera_id == 2)) |\\\n",
    "    ((df_yolo_predictions.date == '2023-07-08') & (df_yolo_predictions.camera_id == 1)) \\\n",
    "].copy()\n",
    "\n",
    "# crop bounding boxes from right side of camera 2 field of view\n",
    "# df_yolo_predictions.drop(index=df_yolo_predictions[(df_yolo_predictions.camera_id == 2) & (df_yolo_predictions.x > 1800)].index, inplace=True)\n",
    "# df_ground_truth.drop(index=df_ground_truth[(df_ground_truth.camera_id == 2) & (df_ground_truth.x > 1800)].index, inplace=True)\n",
    "\n",
    "df_ground_truth.set_index('filename', inplace=True)\n",
    "df_yolo_predictions.set_index('filename', inplace=True)\n",
    "\n",
    "df_ground_truth.shape, df_yolo_predictions.shape"
   ]
  },
  {
   "cell_type": "code",
   "execution_count": 33,
   "metadata": {},
   "outputs": [],
   "source": [
    "# transform coords to xmin, ymin, xmax, ymax\n",
    "df_ground_truth['xmin'] = (df_ground_truth['x'] - df_ground_truth['w']/2).astype(int)\n",
    "df_ground_truth['ymin'] = (df_ground_truth['y'] - df_ground_truth['h']/2).astype(int)\n",
    "df_ground_truth['xmax'] = (df_ground_truth['x'] + df_ground_truth['w']/2).astype(int)\n",
    "df_ground_truth['ymax'] = (df_ground_truth['y'] + df_ground_truth['h']/2).astype(int)\n",
    "df_yolo_predictions['xmin'] = (df_yolo_predictions['x'] - df_yolo_predictions['w']/2).astype(int)\n",
    "df_yolo_predictions['ymin'] = (df_yolo_predictions['y'] - df_yolo_predictions['h']/2).astype(int)\n",
    "df_yolo_predictions['xmax'] = (df_yolo_predictions['x'] + df_yolo_predictions['w']/2).astype(int)\n",
    "df_yolo_predictions['ymax'] = (df_yolo_predictions['y'] + df_yolo_predictions['h']/2).astype(int)"
   ]
  },
  {
   "cell_type": "code",
   "execution_count": 34,
   "metadata": {},
   "outputs": [
    {
     "name": "stdout",
     "output_type": "stream",
     "text": [
      "How many prediction were under the bank?\n",
      "under_the_bank\n",
      "True     378526\n",
      "False    244355\n",
      "Name: count, dtype: int64\n",
      "YOLO predictions filtered data:\n",
      "date        camera_id\n",
      "2023-06-09  1              5607\n",
      "            2             12452\n",
      "2023-06-10  2             28347\n",
      "2023-07-07  2            189338\n",
      "2023-07-08  1              8611\n",
      "Name: datetime, dtype: int64\n"
     ]
    }
   ],
   "source": [
    "# filter out predicitons in the bank on camera 1; use a line to define the bank in the camera 1 field of view\n",
    "point1_cam01_bank = (489, 591)\n",
    "point2_cam01_bank = (1499, 875)\n",
    "slope_cam01_bank = (point2_cam01_bank[1] - point1_cam01_bank[1]) / (point2_cam01_bank[0] - point1_cam01_bank[0])\n",
    "intercept_cam01_bank = point1_cam01_bank[1] - slope_cam01_bank * point1_cam01_bank[0]\n",
    "\n",
    "def under_the_bank_apply(row):\n",
    "    if row.camera_id == 1 and row.x >= point1_cam01_bank[0] and row.x <= point2_cam01_bank[0]:\n",
    "        if row.y > (slope_cam01_bank * row.x + intercept_cam01_bank):\n",
    "            return True        \n",
    "    return False\n",
    "        \n",
    "df_yolo_predictions['under_the_bank'] = df_yolo_predictions.apply(under_the_bank_apply, axis=1)\n",
    "print('How many prediction were under the bank?')\n",
    "print(df_yolo_predictions['under_the_bank'].value_counts())\n",
    "df_yolo_predictions = df_yolo_predictions[df_yolo_predictions.under_the_bank == False].copy()\n",
    "print('YOLO predictions filtered data:')\n",
    "print(df_yolo_predictions.groupby(['date', 'camera_id']).datetime.count())"
   ]
  },
  {
   "cell_type": "code",
   "execution_count": 35,
   "metadata": {},
   "outputs": [
    {
     "data": {
      "text/plain": [
       "((9141, 14), (14218, 15), (16302, 14), (230137, 15))"
      ]
     },
     "execution_count": 35,
     "metadata": {},
     "output_type": "execute_result"
    }
   ],
   "source": [
    "df_ground_truth_cam1 = df_ground_truth[df_ground_truth['camera_id'] == 1]\n",
    "df_prediction_cam_1 = df_yolo_predictions[df_yolo_predictions['camera_id'] == 1]\n",
    "df_ground_truth_cam2 = df_ground_truth[df_ground_truth['camera_id'] == 2]\n",
    "df_prediction_cam_2 = df_yolo_predictions[df_yolo_predictions['camera_id'] == 2]\n",
    "df_ground_truth_cam1.shape, df_prediction_cam_1.shape, df_ground_truth_cam2.shape, df_prediction_cam_2.shape"
   ]
  },
  {
   "cell_type": "markdown",
   "metadata": {},
   "source": [
    "# Evaluation of precision and recall for detected frame_ids"
   ]
  },
  {
   "cell_type": "code",
   "execution_count": 36,
   "metadata": {},
   "outputs": [
    {
     "name": "stderr",
     "output_type": "stream",
     "text": [
      "  1%|          | 3/374 [00:00<00:39,  9.40it/s]"
     ]
    },
    {
     "name": "stderr",
     "output_type": "stream",
     "text": [
      "100%|██████████| 374/374 [00:46<00:00,  8.01it/s]\n"
     ]
    },
    {
     "data": {
      "text/plain": [
       "{'f1': 0.19568337040859543,\n",
       " 'recall': 0.9488396203844006,\n",
       " 'precision': 0.10909082573434012,\n",
       " 'iou': 0.5157411817951545}"
      ]
     },
     "execution_count": 36,
     "metadata": {},
     "output_type": "execute_result"
    }
   ],
   "source": [
    "df_evaluation, total_evaluation_dict = model_evaluation_functions.evaluate_model_frame_ids_score(df_ground_truth, df_yolo_predictions)\n",
    "total_evaluation_dict"
   ]
  },
  {
   "cell_type": "code",
   "execution_count": 37,
   "metadata": {},
   "outputs": [],
   "source": [
    "df_evaluation.to_csv('data_evaluation_zero_shot.csv', sep=';')"
   ]
  },
  {
   "cell_type": "code",
   "execution_count": 10,
   "metadata": {},
   "outputs": [],
   "source": [
    "# model_evaluation_functions.evaluate_mAP(df_ground_truth, df_yolo_predictions)"
   ]
  },
  {
   "cell_type": "code",
   "execution_count": 11,
   "metadata": {},
   "outputs": [
    {
     "name": "stderr",
     "output_type": "stream",
     "text": [
      "100%|██████████| 101/101 [00:13<00:00,  7.69it/s]\n"
     ]
    },
    {
     "data": {
      "text/plain": [
       "{'f1': 0.8478293080456364,\n",
       " 'recall': 0.952291135027183,\n",
       " 'precision': 0.7640199394694677,\n",
       " 'iou': 0.6760068991189924}"
      ]
     },
     "execution_count": 11,
     "metadata": {},
     "output_type": "execute_result"
    }
   ],
   "source": [
    "df_evaluation, total_evaluation_dict = model_evaluation_functions.evaluate_model_frame_ids_score(df_ground_truth_cam1, df_prediction_cam_1)\n",
    "total_evaluation_dict"
   ]
  },
  {
   "cell_type": "code",
   "execution_count": 12,
   "metadata": {},
   "outputs": [
    {
     "name": "stderr",
     "output_type": "stream",
     "text": [
      "100%|██████████| 273/273 [00:31<00:00,  8.80it/s]\n"
     ]
    },
    {
     "data": {
      "text/plain": [
       "{'f1': 0.13645986580071046,\n",
       " 'recall': 0.9469032057267351,\n",
       " 'precision': 0.0735280612121593,\n",
       " 'iou': 0.42531515945815074}"
      ]
     },
     "execution_count": 12,
     "metadata": {},
     "output_type": "execute_result"
    }
   ],
   "source": [
    "df_evaluation, total_evaluation_dict = model_evaluation_functions.evaluate_model_frame_ids_score(df_ground_truth_cam2, df_prediction_cam_2)\n",
    "total_evaluation_dict"
   ]
  },
  {
   "cell_type": "markdown",
   "metadata": {},
   "source": [
    "## Use validation part of data"
   ]
  },
  {
   "cell_type": "code",
   "execution_count": 17,
   "metadata": {},
   "outputs": [
    {
     "data": {
      "text/plain": [
       "((11492, 14), (197949, 15))"
      ]
     },
     "execution_count": 17,
     "metadata": {},
     "output_type": "execute_result"
    }
   ],
   "source": [
    "df_ground_truth_filtered = df_ground_truth[df_ground_truth.date.isin(['2023-07-07', '2023-07-08'])]\n",
    "df_yolo_predictions_filtered = df_yolo_predictions[df_yolo_predictions.date.isin(['2023-07-07', '2023-07-08'])]\n",
    "df_ground_truth_filtered_cam1 = df_ground_truth_filtered[df_ground_truth_filtered['camera_id'] == 1]\n",
    "df_prediction_filtered_cam_1 = df_yolo_predictions_filtered[df_yolo_predictions_filtered['camera_id'] == 1]\n",
    "df_ground_truth_filtered_cam2 = df_ground_truth_filtered[df_ground_truth_filtered['camera_id'] == 2]\n",
    "df_prediction_filtered_cam_2 = df_yolo_predictions_filtered[df_yolo_predictions_filtered['camera_id'] == 2]\n",
    "df_ground_truth_filtered.shape, df_yolo_predictions_filtered.shape"
   ]
  },
  {
   "cell_type": "code",
   "execution_count": 14,
   "metadata": {},
   "outputs": [
    {
     "name": "stderr",
     "output_type": "stream",
     "text": [
      "100%|██████████| 154/154 [00:22<00:00,  7.00it/s]\n"
     ]
    },
    {
     "data": {
      "text/plain": [
       "{'f1': 0.11161851458913132,\n",
       " 'recall': 0.9649946827366183,\n",
       " 'precision': 0.05923504164241379,\n",
       " 'iou': 0.44031826720213835}"
      ]
     },
     "execution_count": 14,
     "metadata": {},
     "output_type": "execute_result"
    }
   ],
   "source": [
    "df_evaluation, total_evaluation_dict = model_evaluation_functions.evaluate_model_frame_ids_score(df_ground_truth_filtered, df_yolo_predictions_filtered)\n",
    "total_evaluation_dict"
   ]
  },
  {
   "cell_type": "code",
   "execution_count": 15,
   "metadata": {},
   "outputs": [
    {
     "name": "stderr",
     "output_type": "stream",
     "text": [
      "100%|██████████| 84/84 [00:40<00:00,  2.06it/s]\n"
     ]
    },
    {
     "data": {
      "text/plain": [
       "{'mAP_0.5_11points': 0.100371286,\n",
       " 'mAP_0.5_all_points': 0.015588985,\n",
       " 'mAP_0.5_0.95_101points': 0.011247767}"
      ]
     },
     "execution_count": 15,
     "metadata": {},
     "output_type": "execute_result"
    }
   ],
   "source": [
    "model_evaluation_functions.evaluate_mAP(df_ground_truth_filtered, df_yolo_predictions_filtered)"
   ]
  },
  {
   "cell_type": "code",
   "execution_count": 18,
   "metadata": {},
   "outputs": [
    {
     "name": "stderr",
     "output_type": "stream",
     "text": [
      "  0%|          | 0/53 [00:00<?, ?it/s]"
     ]
    },
    {
     "name": "stderr",
     "output_type": "stream",
     "text": [
      "100%|██████████| 53/53 [00:07<00:00,  7.49it/s]\n"
     ]
    },
    {
     "data": {
      "text/plain": [
       "{'f1': 0.8033678302052272,\n",
       " 'recall': 0.9416118421052632,\n",
       " 'precision': 0.7005200367084735,\n",
       " 'iou': 0.5915260416157992}"
      ]
     },
     "execution_count": 18,
     "metadata": {},
     "output_type": "execute_result"
    }
   ],
   "source": [
    "df_evaluation, total_evaluation_dict = model_evaluation_functions.evaluate_model_frame_ids_score(df_ground_truth_filtered_cam1, df_prediction_filtered_cam_1)\n",
    "total_evaluation_dict"
   ]
  },
  {
   "cell_type": "code",
   "execution_count": 19,
   "metadata": {},
   "outputs": [
    {
     "name": "stderr",
     "output_type": "stream",
     "text": [
      "  0%|          | 0/33 [00:00<?, ?it/s]"
     ]
    },
    {
     "name": "stderr",
     "output_type": "stream",
     "text": [
      "100%|██████████| 33/33 [00:05<00:00,  6.25it/s]\n"
     ]
    },
    {
     "data": {
      "text/plain": [
       "{'mAP_0.5_11points': 0.36161944,\n",
       " 'mAP_0.5_all_points': 0.34800074,\n",
       " 'mAP_0.5_0.95_101points': 0.15083024}"
      ]
     },
     "execution_count": 19,
     "metadata": {},
     "output_type": "execute_result"
    }
   ],
   "source": [
    "model_evaluation_functions.evaluate_mAP(df_ground_truth_filtered_cam1, df_prediction_filtered_cam_1)"
   ]
  },
  {
   "cell_type": "code",
   "execution_count": 20,
   "metadata": {},
   "outputs": [
    {
     "name": "stderr",
     "output_type": "stream",
     "text": [
      "  1%|          | 1/101 [00:00<00:14,  6.99it/s]"
     ]
    },
    {
     "name": "stderr",
     "output_type": "stream",
     "text": [
      "100%|██████████| 101/101 [00:14<00:00,  7.16it/s]\n"
     ]
    },
    {
     "data": {
      "text/plain": [
       "{'f1': 0.06868471332378925,\n",
       " 'recall': 0.9827102803738318,\n",
       " 'precision': 0.035585964160212986,\n",
       " 'iou': 0.3305494279543073}"
      ]
     },
     "execution_count": 20,
     "metadata": {},
     "output_type": "execute_result"
    }
   ],
   "source": [
    "df_evaluation, total_evaluation_dict = model_evaluation_functions.evaluate_model_frame_ids_score(df_ground_truth_filtered_cam2, df_prediction_filtered_cam_2)\n",
    "total_evaluation_dict"
   ]
  },
  {
   "cell_type": "code",
   "execution_count": 21,
   "metadata": {},
   "outputs": [
    {
     "name": "stderr",
     "output_type": "stream",
     "text": [
      "  0%|          | 0/51 [00:00<?, ?it/s]"
     ]
    },
    {
     "name": "stderr",
     "output_type": "stream",
     "text": [
      "100%|██████████| 51/51 [00:35<00:00,  1.44it/s]\n"
     ]
    },
    {
     "data": {
      "text/plain": [
       "{'mAP_0.5_11points': 0.09090909,\n",
       " 'mAP_0.5_all_points': 0.0075068916,\n",
       " 'mAP_0.5_0.95_101points': 0.0085322885}"
      ]
     },
     "execution_count": 21,
     "metadata": {},
     "output_type": "execute_result"
    }
   ],
   "source": [
    "model_evaluation_functions.evaluate_mAP(df_ground_truth_filtered_cam2, df_prediction_filtered_cam_2)"
   ]
  },
  {
   "cell_type": "code",
   "execution_count": null,
   "metadata": {},
   "outputs": [],
   "source": []
  },
  {
   "cell_type": "markdown",
   "metadata": {},
   "source": [
    "## Use validation part of data and only a filter images with known ground truth"
   ]
  },
  {
   "cell_type": "code",
   "execution_count": 22,
   "metadata": {},
   "outputs": [
    {
     "data": {
      "text/plain": [
       "((11492, 13), (19276, 14))"
      ]
     },
     "execution_count": 22,
     "metadata": {},
     "output_type": "execute_result"
    }
   ],
   "source": [
    "df_ground_truth_filtered = df_ground_truth[(df_ground_truth.date == '2023-07-07') | (df_ground_truth.date == '2023-07-08')].reset_index().set_index(['filename', 'frame_id'])\n",
    "df_yolo_predictions_filtered = df_yolo_predictions.reset_index().set_index(['filename', 'frame_id'])\n",
    "df_yolo_predictions_filtered = df_yolo_predictions_filtered.loc[df_ground_truth_filtered.index.intersection(df_yolo_predictions_filtered.index)]\n",
    "df_ground_truth_filtered.shape, df_yolo_predictions_filtered.shape"
   ]
  },
  {
   "cell_type": "code",
   "execution_count": 23,
   "metadata": {},
   "outputs": [],
   "source": [
    "df_ground_truth_filtered = df_ground_truth_filtered.reset_index().set_index('filename')\n",
    "df_yolo_predictions_filtered = df_yolo_predictions_filtered.reset_index().set_index('filename')\n",
    "df_ground_truth_filtered_cam1 = df_ground_truth_filtered[df_ground_truth_filtered['camera_id'] == 1]\n",
    "df_prediction_filtered_cam_1 = df_yolo_predictions_filtered[df_yolo_predictions_filtered['camera_id'] == 1]\n",
    "df_ground_truth_filtered_cam2 = df_ground_truth_filtered[df_ground_truth_filtered['camera_id'] == 2]\n",
    "df_prediction_filtered_cam_2 = df_yolo_predictions_filtered[df_yolo_predictions_filtered['camera_id'] == 2]"
   ]
  },
  {
   "cell_type": "code",
   "execution_count": 24,
   "metadata": {},
   "outputs": [
    {
     "name": "stderr",
     "output_type": "stream",
     "text": [
      "100%|██████████| 84/84 [00:16<00:00,  5.19it/s]\n"
     ]
    },
    {
     "data": {
      "text/plain": [
       "{'f1': 0.9821855409732557,\n",
       " 'recall': 0.9649946827366183,\n",
       " 'precision': 1.0,\n",
       " 'iou': 0.44031826720213835}"
      ]
     },
     "execution_count": 24,
     "metadata": {},
     "output_type": "execute_result"
    }
   ],
   "source": [
    "df_evaluation, total_evaluation_dict = model_evaluation_functions.evaluate_model_frame_ids_score(df_ground_truth_filtered, df_yolo_predictions_filtered)\n",
    "total_evaluation_dict"
   ]
  },
  {
   "cell_type": "code",
   "execution_count": 25,
   "metadata": {},
   "outputs": [
    {
     "name": "stderr",
     "output_type": "stream",
     "text": [
      "100%|██████████| 84/84 [00:12<00:00,  6.82it/s]\n"
     ]
    },
    {
     "data": {
      "text/plain": [
       "{'mAP_0.5_11points': 0.31303647,\n",
       " 'mAP_0.5_all_points': 0.26968673,\n",
       " 'mAP_0.5_0.95_101points': 0.08506321}"
      ]
     },
     "execution_count": 25,
     "metadata": {},
     "output_type": "execute_result"
    }
   ],
   "source": [
    "model_evaluation_functions.evaluate_mAP(df_ground_truth_filtered, df_yolo_predictions_filtered)"
   ]
  },
  {
   "cell_type": "code",
   "execution_count": 26,
   "metadata": {},
   "outputs": [
    {
     "name": "stderr",
     "output_type": "stream",
     "text": [
      "  0%|          | 0/33 [00:00<?, ?it/s]"
     ]
    },
    {
     "name": "stderr",
     "output_type": "stream",
     "text": [
      "100%|██████████| 33/33 [00:06<00:00,  5.46it/s]\n"
     ]
    },
    {
     "data": {
      "text/plain": [
       "{'f1': 0.9699279966116052,\n",
       " 'recall': 0.9416118421052632,\n",
       " 'precision': 1.0,\n",
       " 'iou': 0.5915260416157992}"
      ]
     },
     "execution_count": 26,
     "metadata": {},
     "output_type": "execute_result"
    }
   ],
   "source": [
    "df_evaluation, total_evaluation_dict = model_evaluation_functions.evaluate_model_frame_ids_score(df_ground_truth_filtered_cam1, df_prediction_filtered_cam_1)\n",
    "total_evaluation_dict"
   ]
  },
  {
   "cell_type": "code",
   "execution_count": 27,
   "metadata": {},
   "outputs": [
    {
     "name": "stderr",
     "output_type": "stream",
     "text": [
      "  3%|▎         | 1/33 [00:00<00:03,  8.87it/s]"
     ]
    },
    {
     "name": "stderr",
     "output_type": "stream",
     "text": [
      "100%|██████████| 33/33 [00:04<00:00,  8.08it/s]\n"
     ]
    },
    {
     "data": {
      "text/plain": [
       "{'mAP_0.5_11points': 0.54226464,\n",
       " 'mAP_0.5_all_points': 0.5342894,\n",
       " 'mAP_0.5_0.95_101points': 0.22738895}"
      ]
     },
     "execution_count": 27,
     "metadata": {},
     "output_type": "execute_result"
    }
   ],
   "source": [
    "model_evaluation_functions.evaluate_mAP(df_ground_truth_filtered_cam1, df_prediction_filtered_cam_1)"
   ]
  },
  {
   "cell_type": "code",
   "execution_count": 28,
   "metadata": {},
   "outputs": [
    {
     "name": "stderr",
     "output_type": "stream",
     "text": [
      "  2%|▏         | 1/51 [00:00<00:06,  7.82it/s]"
     ]
    },
    {
     "name": "stderr",
     "output_type": "stream",
     "text": [
      "100%|██████████| 51/51 [00:10<00:00,  4.88it/s]\n"
     ]
    },
    {
     "data": {
      "text/plain": [
       "{'f1': 0.9912797548904078,\n",
       " 'recall': 0.9827102803738318,\n",
       " 'precision': 1.0,\n",
       " 'iou': 0.3305494279543073}"
      ]
     },
     "execution_count": 28,
     "metadata": {},
     "output_type": "execute_result"
    }
   ],
   "source": [
    "df_evaluation, total_evaluation_dict = model_evaluation_functions.evaluate_model_frame_ids_score(df_ground_truth_filtered_cam2, df_prediction_filtered_cam_2)\n",
    "total_evaluation_dict"
   ]
  },
  {
   "cell_type": "code",
   "execution_count": 29,
   "metadata": {},
   "outputs": [
    {
     "name": "stderr",
     "output_type": "stream",
     "text": [
      "  0%|          | 0/51 [00:00<?, ?it/s]"
     ]
    },
    {
     "name": "stderr",
     "output_type": "stream",
     "text": [
      "100%|██████████| 51/51 [00:08<00:00,  5.98it/s]\n"
     ]
    },
    {
     "data": {
      "text/plain": [
       "{'mAP_0.5_11points': 0.26729968,\n",
       " 'mAP_0.5_all_points': 0.2051093,\n",
       " 'mAP_0.5_0.95_101points': 0.05653868}"
      ]
     },
     "execution_count": 29,
     "metadata": {},
     "output_type": "execute_result"
    }
   ],
   "source": [
    "model_evaluation_functions.evaluate_mAP(df_ground_truth_filtered_cam2, df_prediction_filtered_cam_2)"
   ]
  },
  {
   "cell_type": "code",
   "execution_count": null,
   "metadata": {},
   "outputs": [],
   "source": []
  },
  {
   "cell_type": "markdown",
   "metadata": {},
   "source": [
    "# Confidence values evaluation"
   ]
  },
  {
   "cell_type": "code",
   "execution_count": null,
   "metadata": {},
   "outputs": [],
   "source": [
    "confidence_threshold_evaluation_dict = dict()\n",
    "for confidence_threshold in [0.25, 0.5, 0.75, 0.9]:\n",
    "    print('Confidence threshold', confidence_threshold)\n",
    "    df_evaluation, total_evaluation_dict = model_evaluation_functions.evaluate_model_frame_ids_score(df_ground_truth, df_yolo_predictions[df_yolo_predictions.confidence >= confidence_threshold])    \n",
    "    print(total_evaluation_dict)\n",
    "    # df_evaluation.to_csv(f'data_evaluation_conf{confidence_threshold}.csv', sep=';')\n",
    "    confidence_threshold_evaluation_dict[confidence_threshold] = total_evaluation_dict"
   ]
  },
  {
   "cell_type": "code",
   "execution_count": null,
   "metadata": {},
   "outputs": [],
   "source": [
    "plt.plot(confidence_threshold_evaluation_dict.keys(), [total_evaluation_dict['recall'] for total_evaluation_dict in confidence_threshold_evaluation_dict.values()], 'x-')\n",
    "plt.xlabel('Confidence threshold')\n",
    "plt.ylabel('Recall')"
   ]
  },
  {
   "cell_type": "code",
   "execution_count": null,
   "metadata": {},
   "outputs": [],
   "source": [
    "plt.plot(confidence_threshold_evaluation_dict.keys(), [total_evaluation_dict['f1'] for total_evaluation_dict in confidence_threshold_evaluation_dict.values()], 'x-')\n",
    "plt.xlabel('Confidence threshold')\n",
    "plt.ylabel('F1')"
   ]
  },
  {
   "cell_type": "code",
   "execution_count": null,
   "metadata": {},
   "outputs": [],
   "source": [
    "plt.plot([total_evaluation_dict['recall'] for total_evaluation_dict in confidence_threshold_evaluation_dict.values()], [total_evaluation_dict['precision'] for total_evaluation_dict in confidence_threshold_evaluation_dict.values()], 'x-')\n",
    "plt.xlabel('Recall')\n",
    "plt.ylabel('Precision')"
   ]
  },
  {
   "cell_type": "code",
   "execution_count": null,
   "metadata": {},
   "outputs": [],
   "source": [
    "plt.plot(confidence_threshold_evaluation_dict.keys(), [total_evaluation_dict['iou'] for total_evaluation_dict in confidence_threshold_evaluation_dict.values()], 'x-')\n",
    "plt.xlabel('Confidence threshold')\n",
    "plt.ylabel('IOU')"
   ]
  },
  {
   "cell_type": "code",
   "execution_count": null,
   "metadata": {},
   "outputs": [],
   "source": []
  },
  {
   "cell_type": "markdown",
   "metadata": {},
   "source": [
    "# Helpers for debugging"
   ]
  },
  {
   "cell_type": "code",
   "execution_count": null,
   "metadata": {},
   "outputs": [],
   "source": [
    "stop_run_all_exec()"
   ]
  },
  {
   "cell_type": "code",
   "execution_count": null,
   "metadata": {},
   "outputs": [],
   "source": [
    "## cfg_raw_cam_02_fhd_h265_20230609T173000 # there is a car identified as a boat outside of the field of view"
   ]
  },
  {
   "cell_type": "code",
   "execution_count": null,
   "metadata": {},
   "outputs": [],
   "source": [
    "def iqr(x):\n",
    "    return np.percentile(x, 75) - np.percentile(x, 25)\n",
    "# filter out static bounding box predictions; use iqr < 100 as a threshold and later shift of x coords are less than 10\n",
    "df_tmp = df_yolo_predictions[df_yolo_predictions.camera_id == 2].reset_index()\n",
    "df_tmp = df_tmp.groupby('filename').datetime.count()\n",
    "df_tmp = df_tmp[df_tmp > 100]\n",
    "df_tmp = df_yolo_predictions.loc[df_tmp.index].reset_index().groupby('filename').agg({'x': iqr, 'y': iqr})\n",
    "df_static_indexes = df_tmp[(df_tmp.x < 100) & (df_tmp.y < 100)].index\n",
    "\n",
    "# for each static filename, calculate the shift of x coords between frames and filter out those with shift > 10\n",
    "for filename in list(df_static_indexes)[5:]:\n",
    "    print(filename)\n",
    "    df_tmp = df_yolo_predictions.loc[filename].groupby('frame_id').x.max().reset_index()\n",
    "    # df_tmp = \n",
    "    df_tmp['x_shift'] = df_tmp['x'].diff().abs()\n",
    "    print(df_tmp)\n",
    "    # df_tmp = df_tmp[df_tmp['x_shift'] > 10]\n",
    "    # print(df_tmp)\n",
    "    # df_static_indexes = df_static_indexes.drop(filename)\n",
    "    # df_static_indexes = df_static_indexes.append(df_tmp.index)\n",
    "\n",
    "    break\n",
    "\n",
    "\n",
    "\n",
    "# .agg({'x': lambda x: np.percentile(x, 75) - np.percentile(x, 25)})"
   ]
  },
  {
   "cell_type": "code",
   "execution_count": null,
   "metadata": {},
   "outputs": [],
   "source": [
    "# values for camera 2 bank identification.. this should be the water.. camera have a good horizontal angle, therefore check that bottom coord of bounding box is in upper area of the image y < less than straight line\n",
    "x = 2 (0.001042), y = 378 (0.350000)\n",
    "x = 1918 (0.998958), y = 445 (0.412037)"
   ]
  },
  {
   "cell_type": "code",
   "execution_count": null,
   "metadata": {},
   "outputs": [],
   "source": [
    "df_tmp.set_index('frame_id').to_csv('debug.csv')"
   ]
  },
  {
   "cell_type": "code",
   "execution_count": null,
   "metadata": {},
   "outputs": [],
   "source": [
    "df_tmp.loc['cfg_raw_cam_02_fhd_h265_20230707T202002.mkv']"
   ]
  },
  {
   "cell_type": "code",
   "execution_count": null,
   "metadata": {},
   "outputs": [],
   "source": [
    "(df_yolo_predictions.loc['cfg_raw_cam_02_fhd_h265_20230707T202002.mkv'].groupby('frame_id').x.max() - df_yolo_predictions.loc['cfg_raw_cam_02_fhd_h265_20230707T202002.mkv'].groupby('frame_id').x.max().shift()).rolling(10).mean().plot()"
   ]
  },
  {
   "cell_type": "code",
   "execution_count": null,
   "metadata": {},
   "outputs": [],
   "source": [
    "1597  /4/60"
   ]
  },
  {
   "cell_type": "code",
   "execution_count": null,
   "metadata": {},
   "outputs": [],
   "source": [
    "df_yolo_predictions.loc['cfg_raw_cam_02_fhd_h265_20230707T202002.mkv'][df_yolo_predictions.loc['cfg_raw_cam_02_fhd_h265_20230707T202002.mkv'].frame_id > 2250].sort_values('frame_id').head(30)"
   ]
  },
  {
   "cell_type": "code",
   "execution_count": null,
   "metadata": {},
   "outputs": [],
   "source": [
    "df_yolo_predictions.loc['cfg_raw_cam_02_fhd_h265_20230707T202002.mkv'].groupby('frame_id').x.max().sort_index().plot()"
   ]
  },
  {
   "cell_type": "code",
   "execution_count": null,
   "metadata": {},
   "outputs": [],
   "source": [
    "df_yolo_predictions.loc['cfg_raw_cam_02_fhd_h265_20230707T174000.mkv'].y.describe()\n"
   ]
  },
  {
   "cell_type": "code",
   "execution_count": null,
   "metadata": {},
   "outputs": [],
   "source": [
    "df_yolo_predictions.loc['cfg_raw_cam_02_fhd_h265_20230707T174000.mkv'].x.value_counts()"
   ]
  },
  {
   "cell_type": "code",
   "execution_count": null,
   "metadata": {},
   "outputs": [],
   "source": [
    "plt.scatter(df_evaluation.iloc[0].frames_iou.keys(), df_evaluation.iloc[0].frames_iou.values())"
   ]
  },
  {
   "cell_type": "code",
   "execution_count": null,
   "metadata": {},
   "outputs": [],
   "source": [
    "df_ground_truth.loc['cfg_raw_cam_01_fhd_h265_20230609T050002.mkv'].sort_values('frame_id')"
   ]
  },
  {
   "cell_type": "code",
   "execution_count": null,
   "metadata": {},
   "outputs": [],
   "source": [
    "df_ground_truth.loc['cfg_raw_cam_02_fhd_h265_20230707T124001.mkv'].sort_values('frame_id').frame_id.plot()"
   ]
  },
  {
   "cell_type": "code",
   "execution_count": null,
   "metadata": {},
   "outputs": [],
   "source": [
    "convert_frame_id = 1087\n",
    "convert_frame_id / 4 / 60, convert_frame_id / 4 // 60, convert_frame_id / 4 % 60"
   ]
  },
  {
   "cell_type": "code",
   "execution_count": null,
   "metadata": {},
   "outputs": [],
   "source": [
    "df_tmp = df_yolo_predictions.loc['cfg_raw_cam_02_fhd_h265_20230707T124001.mkv']\n",
    "df_tmp[df_tmp.x < 1800].sort_values('frame_id').frame_id.plot()"
   ]
  }
 ],
 "metadata": {
  "kernelspec": {
   "display_name": "Python 3 (ipykernel)",
   "language": "python",
   "name": "python3"
  },
  "language_info": {
   "codemirror_mode": {
    "name": "ipython",
    "version": 3
   },
   "file_extension": ".py",
   "mimetype": "text/x-python",
   "name": "python",
   "nbconvert_exporter": "python",
   "pygments_lexer": "ipython3",
   "version": "3.11.0rc1"
  }
 },
 "nbformat": 4,
 "nbformat_minor": 4
}
