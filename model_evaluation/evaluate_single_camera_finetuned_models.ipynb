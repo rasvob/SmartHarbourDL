{
 "cells": [
  {
   "cell_type": "code",
   "execution_count": 2,
   "metadata": {},
   "outputs": [],
   "source": [
    "import pandas as pd\n",
    "import numpy as np\n",
    "import matplotlib.pyplot as plt\n",
    "\n",
    "import model_evaluation_functions"
   ]
  },
  {
   "cell_type": "code",
   "execution_count": 3,
   "metadata": {},
   "outputs": [
    {
     "name": "stdout",
     "output_type": "stream",
     "text": [
      "The autoreload extension is already loaded. To reload it, use:\n",
      "  %reload_ext autoreload\n"
     ]
    }
   ],
   "source": [
    "%load_ext autoreload\n",
    "%autoreload 2"
   ]
  },
  {
   "cell_type": "markdown",
   "metadata": {},
   "source": [
    "# Load and clean prediciton data"
   ]
  },
  {
   "cell_type": "code",
   "execution_count": 4,
   "metadata": {},
   "outputs": [
    {
     "name": "stdout",
     "output_type": "stream",
     "text": [
      "shape of loaded data (11492, 11) (127468, 11)\n",
      "Ground truth data:\n",
      "date        camera_id\n",
      "2023-07-07  2            6500\n",
      "2023-07-08  1            4992\n",
      "Name: datetime, dtype: int64\n",
      "YOLO predictions data:\n",
      "date        camera_id\n",
      "2023-07-07  2            105364\n",
      "2023-07-08  1             22104\n",
      "Name: datetime, dtype: int64\n"
     ]
    },
    {
     "data": {
      "text/plain": [
       "((11492, 10), (127468, 10))"
      ]
     },
     "execution_count": 4,
     "metadata": {},
     "output_type": "execute_result"
    }
   ],
   "source": [
    "df_ground_truth = pd.read_csv('../annotations/ground_truth_boat_frames_coco.csv', index_col=0, sep=';')\n",
    "df_yolo_predictions = pd.read_csv('../annotations/yolov8x_single_camera_data_train_video_labels.csv', index_col=0, sep=';')\n",
    "\n",
    "df_ground_truth['datetime'] = pd.to_datetime(df_ground_truth.datetime)\n",
    "df_ground_truth['date'] = pd.to_datetime(df_ground_truth.datetime.dt.date, format='%Y-%m-%d')\n",
    "df_yolo_predictions['datetime'] = pd.to_datetime(df_yolo_predictions['datetime'])\n",
    "df_yolo_predictions['date'] = pd.to_datetime(df_yolo_predictions.datetime.dt.date, format='%Y-%m-%d')\n",
    "\n",
    "df_ground_truth = df_ground_truth[df_ground_truth.date.isin(df_yolo_predictions.date.unique())]\n",
    "\n",
    "print('shape of loaded data', df_ground_truth.shape, df_yolo_predictions.shape)\n",
    "print('Ground truth data:')\n",
    "print(df_ground_truth.groupby(['date', 'camera_id']).datetime.count())\n",
    "print('YOLO predictions data:')\n",
    "print(df_yolo_predictions.groupby(['date', 'camera_id']).datetime.count())\n",
    "\n",
    "# crop bounding boxes from right side of camera 2 field of view\n",
    "# df_yolo_predictions.drop(index=df_yolo_predictions[(df_yolo_predictions.camera_id == 2) & (df_yolo_predictions.x > 1800)].index, inplace=True)\n",
    "# df_ground_truth.drop(index=df_ground_truth[(df_ground_truth.camera_id == 2) & (df_ground_truth.x > 1800)].index, inplace=True)\n",
    "\n",
    "df_ground_truth.set_index('filename', inplace=True)\n",
    "df_yolo_predictions.set_index('filename', inplace=True)\n",
    "\n",
    "df_ground_truth.shape, df_yolo_predictions.shape"
   ]
  },
  {
   "cell_type": "code",
   "execution_count": 5,
   "metadata": {},
   "outputs": [],
   "source": [
    "# transform coords to xmin, ymin, xmax, ymax\n",
    "df_ground_truth['xmin'] = (df_ground_truth['x'] - df_ground_truth['w']/2).astype(int)\n",
    "df_ground_truth['ymin'] = (df_ground_truth['y'] - df_ground_truth['h']/2).astype(int)\n",
    "df_ground_truth['xmax'] = (df_ground_truth['x'] + df_ground_truth['w']/2).astype(int)\n",
    "df_ground_truth['ymax'] = (df_ground_truth['y'] + df_ground_truth['h']/2).astype(int)\n",
    "df_yolo_predictions['xmin'] = (df_yolo_predictions['x'] - df_yolo_predictions['w']/2).astype(int)\n",
    "df_yolo_predictions['ymin'] = (df_yolo_predictions['y'] - df_yolo_predictions['h']/2).astype(int)\n",
    "df_yolo_predictions['xmax'] = (df_yolo_predictions['x'] + df_yolo_predictions['w']/2).astype(int)\n",
    "df_yolo_predictions['ymax'] = (df_yolo_predictions['y'] + df_yolo_predictions['h']/2).astype(int)"
   ]
  },
  {
   "cell_type": "code",
   "execution_count": 6,
   "metadata": {},
   "outputs": [
    {
     "name": "stdout",
     "output_type": "stream",
     "text": [
      "How many prediction were under the bank?\n",
      "under_the_bank\n",
      "False    120382\n",
      "True       7086\n",
      "Name: count, dtype: int64\n",
      "YOLO predictions filtered data:\n",
      "date        camera_id\n",
      "2023-07-07  2            105364\n",
      "2023-07-08  1             15018\n",
      "Name: datetime, dtype: int64\n"
     ]
    }
   ],
   "source": [
    "# filter out predicitons in the bank on camera 1; use a line to define the bank in the camera 1 field of view\n",
    "point1_cam01_bank = (489, 591)\n",
    "point2_cam01_bank = (1499, 875)\n",
    "slope_cam01_bank = (point2_cam01_bank[1] - point1_cam01_bank[1]) / (point2_cam01_bank[0] - point1_cam01_bank[0])\n",
    "intercept_cam01_bank = point1_cam01_bank[1] - slope_cam01_bank * point1_cam01_bank[0]\n",
    "\n",
    "def under_the_bank_apply(row):\n",
    "    if row.camera_id == 1 and row.x >= point1_cam01_bank[0] and row.x <= point2_cam01_bank[0]:\n",
    "        if row.y > (slope_cam01_bank * row.x + intercept_cam01_bank):\n",
    "            return True        \n",
    "    return False\n",
    "        \n",
    "df_yolo_predictions['under_the_bank'] = df_yolo_predictions.apply(under_the_bank_apply, axis=1)\n",
    "print('How many prediction were under the bank?')\n",
    "print(df_yolo_predictions['under_the_bank'].value_counts())\n",
    "df_yolo_predictions = df_yolo_predictions[df_yolo_predictions.under_the_bank == False].copy()\n",
    "print('YOLO predictions filtered data:')\n",
    "print(df_yolo_predictions.groupby(['date', 'camera_id']).datetime.count())"
   ]
  },
  {
   "cell_type": "code",
   "execution_count": 7,
   "metadata": {},
   "outputs": [
    {
     "data": {
      "text/plain": [
       "((4992, 14), (15018, 15), (6500, 14), (105364, 15))"
      ]
     },
     "execution_count": 7,
     "metadata": {},
     "output_type": "execute_result"
    }
   ],
   "source": [
    "df_ground_truth_cam1 = df_ground_truth[df_ground_truth['camera_id'] == 1]\n",
    "df_prediction_cam_1 = df_yolo_predictions[df_yolo_predictions['camera_id'] == 1]\n",
    "df_ground_truth_cam2 = df_ground_truth[df_ground_truth['camera_id'] == 2]\n",
    "df_prediction_cam_2 = df_yolo_predictions[df_yolo_predictions['camera_id'] == 2]\n",
    "df_ground_truth_cam1.shape, df_prediction_cam_1.shape, df_ground_truth_cam2.shape, df_prediction_cam_2.shape"
   ]
  },
  {
   "cell_type": "markdown",
   "metadata": {},
   "source": [
    "# Evaluation of precision and recall for detected frame_ids"
   ]
  },
  {
   "cell_type": "code",
   "execution_count": 8,
   "metadata": {},
   "outputs": [
    {
     "name": "stderr",
     "output_type": "stream",
     "text": [
      "  0%|          | 0/145 [00:00<?, ?it/s]"
     ]
    },
    {
     "name": "stderr",
     "output_type": "stream",
     "text": [
      "100%|██████████| 145/145 [00:17<00:00,  8.08it/s]\n"
     ]
    },
    {
     "data": {
      "text/plain": [
       "{'f1': 0.18875570387522986,\n",
       " 'recall': 0.9824530308401276,\n",
       " 'precision': 0.10440760971934451,\n",
       " 'iou': 0.7513576454399039}"
      ]
     },
     "execution_count": 8,
     "metadata": {},
     "output_type": "execute_result"
    }
   ],
   "source": [
    "df_evaluation, total_evaluation_dict = model_evaluation_functions.evaluate_model_frame_ids_score(df_ground_truth, df_yolo_predictions)\n",
    "total_evaluation_dict"
   ]
  },
  {
   "cell_type": "code",
   "execution_count": 9,
   "metadata": {},
   "outputs": [],
   "source": [
    "df_evaluation.to_csv('data_evaluation_dual_model.csv', sep=';')"
   ]
  },
  {
   "cell_type": "code",
   "execution_count": 10,
   "metadata": {},
   "outputs": [
    {
     "name": "stderr",
     "output_type": "stream",
     "text": [
      "  2%|▏         | 2/84 [00:00<00:06, 13.41it/s]"
     ]
    },
    {
     "name": "stderr",
     "output_type": "stream",
     "text": [
      "100%|██████████| 84/84 [00:22<00:00,  3.67it/s]\n"
     ]
    },
    {
     "data": {
      "text/plain": [
       "{'mAP_0.5_11points': 0.24341293,\n",
       " 'mAP_0.5_all_points': 0.19430423,\n",
       " 'mAP_0.5_0.95_101points': 0.10441625}"
      ]
     },
     "execution_count": 10,
     "metadata": {},
     "output_type": "execute_result"
    }
   ],
   "source": [
    "model_evaluation_functions.evaluate_mAP(df_ground_truth, df_yolo_predictions)"
   ]
  },
  {
   "cell_type": "code",
   "execution_count": 11,
   "metadata": {},
   "outputs": [
    {
     "name": "stderr",
     "output_type": "stream",
     "text": [
      "  0%|          | 0/51 [00:00<?, ?it/s]"
     ]
    },
    {
     "name": "stderr",
     "output_type": "stream",
     "text": [
      "100%|██████████| 51/51 [00:06<00:00,  7.41it/s]\n"
     ]
    },
    {
     "data": {
      "text/plain": [
       "{'f1': 0.5085289556708198,\n",
       " 'recall': 0.9775904605263158,\n",
       " 'precision': 0.34364385343643855,\n",
       " 'iou': 0.7691296548989031}"
      ]
     },
     "execution_count": 11,
     "metadata": {},
     "output_type": "execute_result"
    }
   ],
   "source": [
    "df_evaluation, total_evaluation_dict = model_evaluation_functions.evaluate_model_frame_ids_score(df_ground_truth_cam1, df_prediction_cam_1)\n",
    "total_evaluation_dict"
   ]
  },
  {
   "cell_type": "code",
   "execution_count": 12,
   "metadata": {},
   "outputs": [
    {
     "name": "stderr",
     "output_type": "stream",
     "text": [
      "  0%|          | 0/33 [00:00<?, ?it/s]"
     ]
    },
    {
     "name": "stderr",
     "output_type": "stream",
     "text": [
      "100%|██████████| 33/33 [00:05<00:00,  5.67it/s]\n"
     ]
    },
    {
     "data": {
      "text/plain": [
       "{'mAP_0.5_11points': 0.34617582,\n",
       " 'mAP_0.5_all_points': 0.36040094,\n",
       " 'mAP_0.5_0.95_101points': 0.21119758}"
      ]
     },
     "execution_count": 12,
     "metadata": {},
     "output_type": "execute_result"
    }
   ],
   "source": [
    "model_evaluation_functions.evaluate_mAP(df_ground_truth_cam1, df_prediction_cam_1)"
   ]
  },
  {
   "cell_type": "code",
   "execution_count": 13,
   "metadata": {},
   "outputs": [
    {
     "name": "stderr",
     "output_type": "stream",
     "text": [
      "  5%|▌         | 5/94 [00:00<00:11,  7.53it/s]"
     ]
    },
    {
     "name": "stderr",
     "output_type": "stream",
     "text": [
      "100%|██████████| 94/94 [00:10<00:00,  9.19it/s]\n"
     ]
    },
    {
     "data": {
      "text/plain": [
       "{'f1': 0.12820590707046162,\n",
       " 'recall': 0.9861370716510903,\n",
       " 'precision': 0.06855960928278267,\n",
       " 'iou': 0.7380096901441305}"
      ]
     },
     "execution_count": 13,
     "metadata": {},
     "output_type": "execute_result"
    }
   ],
   "source": [
    "df_evaluation, total_evaluation_dict = model_evaluation_functions.evaluate_model_frame_ids_score(df_ground_truth_cam2, df_prediction_cam_2)\n",
    "total_evaluation_dict"
   ]
  },
  {
   "cell_type": "code",
   "execution_count": 15,
   "metadata": {},
   "outputs": [
    {
     "name": "stderr",
     "output_type": "stream",
     "text": [
      "  0%|          | 0/51 [00:00<?, ?it/s]"
     ]
    },
    {
     "name": "stderr",
     "output_type": "stream",
     "text": [
      "100%|██████████| 51/51 [00:17<00:00,  2.84it/s]\n"
     ]
    },
    {
     "data": {
      "text/plain": [
       "{'mAP_0.5_11points': 0.17983977,\n",
       " 'mAP_0.5_all_points': 0.1613526,\n",
       " 'mAP_0.5_0.95_101points': 0.08039116}"
      ]
     },
     "execution_count": 15,
     "metadata": {},
     "output_type": "execute_result"
    }
   ],
   "source": [
    "model_evaluation_functions.evaluate_mAP(df_ground_truth_cam2, df_prediction_cam_2)"
   ]
  },
  {
   "cell_type": "markdown",
   "metadata": {},
   "source": [
    "## Use validation part of data and only a filter images with known ground truth"
   ]
  },
  {
   "cell_type": "code",
   "execution_count": 16,
   "metadata": {},
   "outputs": [
    {
     "data": {
      "text/plain": [
       "((11492, 13), (13734, 14))"
      ]
     },
     "execution_count": 16,
     "metadata": {},
     "output_type": "execute_result"
    }
   ],
   "source": [
    "df_ground_truth_filtered = df_ground_truth[(df_ground_truth.date == '2023-07-07') | (df_ground_truth.date == '2023-07-08')].reset_index().set_index(['filename', 'frame_id'])\n",
    "df_yolo_predictions_filtered = df_yolo_predictions.reset_index().set_index(['filename', 'frame_id'])\n",
    "df_yolo_predictions_filtered = df_yolo_predictions_filtered.loc[df_ground_truth_filtered.index.intersection(df_yolo_predictions_filtered.index)]\n",
    "df_ground_truth_filtered.shape, df_yolo_predictions_filtered.shape"
   ]
  },
  {
   "cell_type": "code",
   "execution_count": 17,
   "metadata": {},
   "outputs": [
    {
     "data": {
      "text/plain": [
       "((4992, 14), (5681, 15), (6500, 14), (8053, 15))"
      ]
     },
     "execution_count": 17,
     "metadata": {},
     "output_type": "execute_result"
    }
   ],
   "source": [
    "df_ground_truth_filtered = df_ground_truth_filtered.reset_index().set_index('filename')\n",
    "df_yolo_predictions_filtered = df_yolo_predictions_filtered.reset_index().set_index('filename')\n",
    "df_ground_truth_filtered_cam1 = df_ground_truth_filtered[df_ground_truth_filtered['camera_id'] == 1]\n",
    "df_prediction_filtered_cam_1 = df_yolo_predictions_filtered[df_yolo_predictions_filtered['camera_id'] == 1]\n",
    "df_ground_truth_filtered_cam2 = df_ground_truth_filtered[df_ground_truth_filtered['camera_id'] == 2]\n",
    "df_prediction_filtered_cam_2 = df_yolo_predictions_filtered[df_yolo_predictions_filtered['camera_id'] == 2]\n",
    "df_ground_truth_filtered_cam1.shape, df_prediction_filtered_cam_1.shape, df_ground_truth_filtered_cam2.shape, df_prediction_filtered_cam_2.shape"
   ]
  },
  {
   "cell_type": "code",
   "execution_count": 18,
   "metadata": {},
   "outputs": [
    {
     "name": "stderr",
     "output_type": "stream",
     "text": [
      "  5%|▍         | 4/84 [00:00<00:12,  6.47it/s]"
     ]
    },
    {
     "name": "stderr",
     "output_type": "stream",
     "text": [
      "100%|██████████| 84/84 [00:14<00:00,  5.97it/s]\n"
     ]
    },
    {
     "data": {
      "text/plain": [
       "{'f1': 0.9911488600804649,\n",
       " 'recall': 0.9824530308401276,\n",
       " 'precision': 1.0,\n",
       " 'iou': 0.751357645439904}"
      ]
     },
     "execution_count": 18,
     "metadata": {},
     "output_type": "execute_result"
    }
   ],
   "source": [
    "df_evaluation, total_evaluation_dict = model_evaluation_functions.evaluate_model_frame_ids_score(df_ground_truth_filtered, df_yolo_predictions_filtered)\n",
    "total_evaluation_dict"
   ]
  },
  {
   "cell_type": "code",
   "execution_count": 19,
   "metadata": {},
   "outputs": [
    {
     "name": "stderr",
     "output_type": "stream",
     "text": [
      "  0%|          | 0/84 [00:00<?, ?it/s]"
     ]
    },
    {
     "name": "stderr",
     "output_type": "stream",
     "text": [
      "100%|██████████| 84/84 [00:08<00:00,  9.56it/s]\n"
     ]
    },
    {
     "data": {
      "text/plain": [
       "{'mAP_0.5_11points': 0.87064517,\n",
       " 'mAP_0.5_all_points': 0.88445246,\n",
       " 'mAP_0.5_0.95_101points': 0.4525165}"
      ]
     },
     "execution_count": 19,
     "metadata": {},
     "output_type": "execute_result"
    }
   ],
   "source": [
    "model_evaluation_functions.evaluate_mAP(df_ground_truth_filtered, df_yolo_predictions_filtered)"
   ]
  },
  {
   "cell_type": "code",
   "execution_count": 20,
   "metadata": {},
   "outputs": [
    {
     "name": "stderr",
     "output_type": "stream",
     "text": [
      "  0%|          | 0/33 [00:00<?, ?it/s]"
     ]
    },
    {
     "name": "stderr",
     "output_type": "stream",
     "text": [
      "100%|██████████| 33/33 [00:06<00:00,  5.50it/s]\n"
     ]
    },
    {
     "data": {
      "text/plain": [
       "{'f1': 0.9886682607339641,\n",
       " 'recall': 0.9775904605263158,\n",
       " 'precision': 1.0,\n",
       " 'iou': 0.769129654898903}"
      ]
     },
     "execution_count": 20,
     "metadata": {},
     "output_type": "execute_result"
    }
   ],
   "source": [
    "df_evaluation, total_evaluation_dict = model_evaluation_functions.evaluate_model_frame_ids_score(df_ground_truth_filtered_cam1, df_prediction_filtered_cam_1)\n",
    "total_evaluation_dict"
   ]
  },
  {
   "cell_type": "code",
   "execution_count": 21,
   "metadata": {},
   "outputs": [
    {
     "name": "stderr",
     "output_type": "stream",
     "text": [
      "  0%|          | 0/33 [00:00<?, ?it/s]"
     ]
    },
    {
     "name": "stderr",
     "output_type": "stream",
     "text": [
      "100%|██████████| 33/33 [00:03<00:00,  9.06it/s]\n"
     ]
    },
    {
     "data": {
      "text/plain": [
       "{'mAP_0.5_11points': 0.80302376,\n",
       " 'mAP_0.5_all_points': 0.87615025,\n",
       " 'mAP_0.5_0.95_101points': 0.50071406}"
      ]
     },
     "execution_count": 21,
     "metadata": {},
     "output_type": "execute_result"
    }
   ],
   "source": [
    "model_evaluation_functions.evaluate_mAP(df_ground_truth_filtered_cam1, df_prediction_filtered_cam_1)"
   ]
  },
  {
   "cell_type": "code",
   "execution_count": 22,
   "metadata": {},
   "outputs": [
    {
     "name": "stderr",
     "output_type": "stream",
     "text": [
      "  4%|▍         | 2/51 [00:00<00:06,  7.29it/s]"
     ]
    },
    {
     "name": "stderr",
     "output_type": "stream",
     "text": [
      "100%|██████████| 51/51 [00:08<00:00,  6.22it/s]\n"
     ]
    },
    {
     "data": {
      "text/plain": [
       "{'f1': 0.9930201552819387,\n",
       " 'recall': 0.9861370716510903,\n",
       " 'precision': 1.0,\n",
       " 'iou': 0.7380096901441308}"
      ]
     },
     "execution_count": 22,
     "metadata": {},
     "output_type": "execute_result"
    }
   ],
   "source": [
    "df_evaluation, total_evaluation_dict = model_evaluation_functions.evaluate_model_frame_ids_score(df_ground_truth_filtered_cam2, df_prediction_filtered_cam_2)\n",
    "total_evaluation_dict"
   ]
  },
  {
   "cell_type": "code",
   "execution_count": 23,
   "metadata": {},
   "outputs": [
    {
     "name": "stderr",
     "output_type": "stream",
     "text": [
      "  4%|▍         | 2/51 [00:00<00:06,  7.54it/s]"
     ]
    },
    {
     "name": "stderr",
     "output_type": "stream",
     "text": [
      "100%|██████████| 51/51 [00:04<00:00, 10.25it/s]\n"
     ]
    },
    {
     "data": {
      "text/plain": [
       "{'mAP_0.5_11points': 0.8917491,\n",
       " 'mAP_0.5_all_points': 0.91879463,\n",
       " 'mAP_0.5_0.95_101points': 0.43354067}"
      ]
     },
     "execution_count": 23,
     "metadata": {},
     "output_type": "execute_result"
    }
   ],
   "source": [
    "model_evaluation_functions.evaluate_mAP(df_ground_truth_filtered_cam2, df_prediction_filtered_cam_2)"
   ]
  },
  {
   "cell_type": "code",
   "execution_count": null,
   "metadata": {},
   "outputs": [],
   "source": []
  }
 ],
 "metadata": {
  "kernelspec": {
   "display_name": "Python 3 (ipykernel)",
   "language": "python",
   "name": "python3"
  },
  "language_info": {
   "codemirror_mode": {
    "name": "ipython",
    "version": 3
   },
   "file_extension": ".py",
   "mimetype": "text/x-python",
   "name": "python",
   "nbconvert_exporter": "python",
   "pygments_lexer": "ipython3",
   "version": "3.11.0rc1"
  }
 },
 "nbformat": 4,
 "nbformat_minor": 4
}
